{
 "cells": [
  {
   "cell_type": "markdown",
   "metadata": {},
   "source": [
    "# HOW TO obtain catalogue data collected with ESO-VISTA \n",
    "\n",
    "Catalogues produced by PIs of ESO observing programmes are integrated into the ESO science archive through the [Phase 3 process](https://www.eso.org/sci/observing/phase3.html) and are accessible either via the [ESO Archive Science Portal](https://archive.eso.org/scienceportal/home?dp_type=CATALOG&sort=-obs_date), or via the [Catalog Facility](https://www.eso.org/qi/), or [programmatically](http://archive.eso.org/programmatic/#TAP?e=1) via the `tap_cat` service.\n",
    "\n",
    "In the following, we will show how to collect catalogue entries associated with the [ESO-VISTA telescope](https://www.eso.org/sci/facilities/paranal/telescopes/vista.html). This will be done by exploiting the `archive_catalogues` module part of the [ESOAsg](https://esoasg.readthedocs.io/en/latest/) `python` repository. This is a wrapper around the [_programmatic access_](http://archive.eso.org/programmatic/#TAP) that allows users to embed [Virtual Observatory Table Access Protocol (TAP)](https://www.ivoa.net/documents/TAP/20190927/) queries within their `python` environment. "
   ]
  },
  {
   "cell_type": "code",
   "execution_count": 1,
   "metadata": {},
   "outputs": [],
   "source": [
    "%matplotlib notebook"
   ]
  },
  {
   "cell_type": "code",
   "execution_count": 2,
   "metadata": {},
   "outputs": [
    {
     "name": "stderr",
     "output_type": "stream",
     "text": [
      "/scratch/Extern/anaconda3/envs/py37/lib/python3.7/_collections_abc.py:702: MatplotlibDeprecationWarning: The global colormaps dictionary is no longer considered public API.\n",
      "  return len(self._mapping)\n",
      "/scratch/Extern/anaconda3/envs/py37/lib/python3.7/_collections_abc.py:720: MatplotlibDeprecationWarning: The global colormaps dictionary is no longer considered public API.\n",
      "  yield from self._mapping\n"
     ]
    }
   ],
   "source": [
    "from ESOAsg.ancillary import astro\n",
    "from ESOAsg import archive_catalogues\n",
    "from astropy.coordinates import SkyCoord\n",
    "import astropy.units as u\n",
    "import matplotlib.pyplot as plt\n",
    "import numpy as np"
   ]
  },
  {
   "cell_type": "markdown",
   "metadata": {},
   "source": [
    "## Obtain information on all catalogues present in the ESO Archive\n",
    "\n",
    "The full list of available scientific catalogues could be found [here](https://www.eso.org/qi/). Alternatively, this information can retrived by using:\n",
    "```python\n",
    "archive_catalogues.all_catalogues_info(all_versions=True)\n",
    "```\n",
    "This will return an astropy table of all catalogues (and all their versions). Note that the column `last_version` highlights with `False` and obsolete catalogues for which a newer version is present. \n",
    "\n",
    "It is however possible to remove these obsolete versions by setting:\n",
    "```python\n",
    "all_version=False # i.e. the default behavior\n",
    "```"
   ]
  },
  {
   "cell_type": "code",
   "execution_count": 3,
   "metadata": {},
   "outputs": [],
   "source": [
    "all_catalogues = archive_catalogues.catalogues_info(all_versions=False)"
   ]
  },
  {
   "cell_type": "markdown",
   "metadata": {},
   "source": [
    "Now `all_catalogues` contains information on all the latest versions of the catalogues currently present at ESO:"
   ]
  },
  {
   "cell_type": "code",
   "execution_count": 5,
   "metadata": {
    "scrolled": false
   },
   "outputs": [
    {
     "data": {
      "text/html": [
       "<i>Table length=5</i>\n",
       "<table id=\"table140120597030224-356057\" class=\"table-striped table-bordered table-condensed\">\n",
       "<thead><tr><th>collection</th><th>table_name</th><th>title</th><th>version</th><th>instrument</th><th>telescope</th></tr></thead>\n",
       "<tr><td>196.D-0214</td><td>EREBOS_RV_cat_fits_V1</td><td>EREBOS_RV_cat.fits</td><td>1</td><td>FORS2</td><td>ESO-VLT-U1</td></tr>\n",
       "<tr><td>196.D-0214</td><td>EREBOS_cat_fits_V1</td><td>EREBOS_cat.fits</td><td>1</td><td>FORS2</td><td>ESO-VLT-U1</td></tr>\n",
       "<tr><td>AMBRE</td><td>AMBRE_V1</td><td>Atmospheric Parameters and Chemical Abundances from Stellar Spectra</td><td>1</td><td>FEROS</td><td>MPI-2.2</td></tr>\n",
       "<tr><td>ATLASGAL</td><td>ATLASGAL_V1</td><td>ATLASGAL - APEX Large Area Survey of the Galaxy</td><td>1</td><td>APEXBOL</td><td>APEX-12m</td></tr>\n",
       "<tr><td>GAIAESO</td><td>GES_iDR4_PIII2016_Catalogue_v3_fits_V2</td><td>Gaia-ESO spectroscopic survey</td><td>2</td><td>GIRAFFE,UVES</td><td>ESO-VLT-U2</td></tr>\n",
       "</table><style>table.dataTable {clear: both; width: auto !important; margin: 0 !important;}\n",
       ".dataTables_info, .dataTables_length, .dataTables_filter, .dataTables_paginate{\n",
       "display: inline-block; margin-right: 1em; }\n",
       ".paginate_button { margin-right: 5px; }\n",
       "</style>\n",
       "<script>\n",
       "\n",
       "var astropy_sort_num = function(a, b) {\n",
       "    var a_num = parseFloat(a);\n",
       "    var b_num = parseFloat(b);\n",
       "\n",
       "    if (isNaN(a_num) && isNaN(b_num))\n",
       "        return ((a < b) ? -1 : ((a > b) ? 1 : 0));\n",
       "    else if (!isNaN(a_num) && !isNaN(b_num))\n",
       "        return ((a_num < b_num) ? -1 : ((a_num > b_num) ? 1 : 0));\n",
       "    else\n",
       "        return isNaN(a_num) ? -1 : 1;\n",
       "}\n",
       "\n",
       "require.config({paths: {\n",
       "    datatables: 'https://cdn.datatables.net/1.10.12/js/jquery.dataTables.min'\n",
       "}});\n",
       "require([\"datatables\"], function(){\n",
       "    console.log(\"$('#table140120597030224-356057').dataTable()\");\n",
       "    \n",
       "jQuery.extend( jQuery.fn.dataTableExt.oSort, {\n",
       "    \"optionalnum-asc\": astropy_sort_num,\n",
       "    \"optionalnum-desc\": function (a,b) { return -astropy_sort_num(a, b); }\n",
       "});\n",
       "\n",
       "    $('#table140120597030224-356057').dataTable({\n",
       "        order: [],\n",
       "        pageLength: 5,\n",
       "        lengthMenu: [[5, 10, 25, 50, 100, 500, 1000, -1], [5, 10, 25, 50, 100, 500, 1000, 'All']],\n",
       "        pagingType: \"full_numbers\",\n",
       "        columnDefs: [{targets: [3], type: \"optionalnum\"}]\n",
       "    });\n",
       "});\n",
       "</script>\n"
      ],
      "text/plain": [
       "<IPython.core.display.HTML object>"
      ]
     },
     "execution_count": 5,
     "metadata": {},
     "output_type": "execute_result"
    }
   ],
   "source": [
    "all_catalogues['collection', 'table_name', 'title', 'version', 'instrument', 'telescope'][0:5].show_in_notebook(show_row_index=False, display_length=5)"
   ]
  },
  {
   "cell_type": "markdown",
   "metadata": {},
   "source": [
    "## Get the catalogues\n",
    "\n",
    "Given that `all_catalogues` is a `Table` you can create a filter based on the `telescope` column. Possible values are:"
   ]
  },
  {
   "cell_type": "code",
   "execution_count": 6,
   "metadata": {},
   "outputs": [
    {
     "name": "stdout",
     "output_type": "stream",
     "text": [
      "Possible values for the telescope entry: \n",
      " ['', 'APEX-12m', 'ESO-NTT', 'ESO-VISTA', 'ESO-VLT-U1', 'ESO-VLT-U2', 'ESO-VLT-U2,ESO-VLT-U3', 'ESO-VLT-U3', 'ESO-VLT-U4', 'ESO-VST', 'ESO-VST, ESO-VISTA', 'MPI-2.2', 'NGTS', 'UT1', 'UT3']\n"
     ]
    }
   ],
   "source": [
    "print('Possible values for the telescope entry: \\n {}'.format(np.unique(all_catalogues['telescope']).tolist()))"
   ]
  },
  {
   "cell_type": "markdown",
   "metadata": {},
   "source": [
    "You can now select all the `ESO-VISTA` catalogues applying a filter for 'ESO-VISTA' and 'ESO-VST, ESO-VISTA' to the `all_catalogues` table:"
   ]
  },
  {
   "cell_type": "code",
   "execution_count": 8,
   "metadata": {},
   "outputs": [
    {
     "data": {
      "text/html": [
       "<i>Table length=5</i>\n",
       "<table id=\"table140120597031888-31241\" class=\"table-striped table-bordered table-condensed\">\n",
       "<thead><tr><th>collection</th><th>table_name</th><th>title</th><th>version</th><th>instrument</th><th>telescope</th></tr></thead>\n",
       "<tr><td>GCAV</td><td>gcav_rxcj1515_YJKs_cat_fits_V1</td><td>GCAV catalogue for RXCJ1514.9-1523 cluster</td><td>1</td><td>VIRCAM</td><td>ESO-VISTA</td></tr>\n",
       "<tr><td>GCAV</td><td>gcav_rxcj2129_YJKs_cat_fits_V1</td><td>GCAV catalogue for RXCJ2129.6+0005 cluster</td><td>1</td><td>VIRCAM</td><td>ESO-VISTA</td></tr>\n",
       "<tr><td>KIDS</td><td>KiDS_DR4_1_ugriZYJHKs_cat_fits</td><td>The Kilo-Degree Survey 9-band ugriZYJHKs source catalogue</td><td>4</td><td>OMEGACAM, VIRCAM</td><td>ESO-VST, ESO-VISTA</td></tr>\n",
       "<tr><td>MW-BULGE-PSFPHOT</td><td>MW_BULGE_PSFPHOT_V1</td><td>Milky Way Bulge PSF Photometry</td><td>1</td><td>VIRCAM</td><td>ESO-VISTA</td></tr>\n",
       "<tr><td>UltraVISTA</td><td>COSMOS2015_Laigle_v1_1b_latestV7_fits_V1</td><td>COSMOS2015 catalogue: photometric redshifts  and stellar masses (Laigle et al. 2016)</td><td>1</td><td>VIRCAM</td><td>ESO-VISTA</td></tr>\n",
       "</table><style>table.dataTable {clear: both; width: auto !important; margin: 0 !important;}\n",
       ".dataTables_info, .dataTables_length, .dataTables_filter, .dataTables_paginate{\n",
       "display: inline-block; margin-right: 1em; }\n",
       ".paginate_button { margin-right: 5px; }\n",
       "</style>\n",
       "<script>\n",
       "\n",
       "var astropy_sort_num = function(a, b) {\n",
       "    var a_num = parseFloat(a);\n",
       "    var b_num = parseFloat(b);\n",
       "\n",
       "    if (isNaN(a_num) && isNaN(b_num))\n",
       "        return ((a < b) ? -1 : ((a > b) ? 1 : 0));\n",
       "    else if (!isNaN(a_num) && !isNaN(b_num))\n",
       "        return ((a_num < b_num) ? -1 : ((a_num > b_num) ? 1 : 0));\n",
       "    else\n",
       "        return isNaN(a_num) ? -1 : 1;\n",
       "}\n",
       "\n",
       "require.config({paths: {\n",
       "    datatables: 'https://cdn.datatables.net/1.10.12/js/jquery.dataTables.min'\n",
       "}});\n",
       "require([\"datatables\"], function(){\n",
       "    console.log(\"$('#table140120597031888-31241').dataTable()\");\n",
       "    \n",
       "jQuery.extend( jQuery.fn.dataTableExt.oSort, {\n",
       "    \"optionalnum-asc\": astropy_sort_num,\n",
       "    \"optionalnum-desc\": function (a,b) { return -astropy_sort_num(a, b); }\n",
       "});\n",
       "\n",
       "    $('#table140120597031888-31241').dataTable({\n",
       "        order: [],\n",
       "        pageLength: 5,\n",
       "        lengthMenu: [[5, 10, 25, 50, 100, 500, 1000, -1], [5, 10, 25, 50, 100, 500, 1000, 'All']],\n",
       "        pagingType: \"full_numbers\",\n",
       "        columnDefs: [{targets: [3], type: \"optionalnum\"}]\n",
       "    });\n",
       "});\n",
       "</script>\n"
      ],
      "text/plain": [
       "<IPython.core.display.HTML object>"
      ]
     },
     "execution_count": 8,
     "metadata": {},
     "output_type": "execute_result"
    }
   ],
   "source": [
    "vista_telescope_filter = (all_catalogues['telescope'] == 'ESO-VISTA') | (all_catalogues['telescope'] == 'ESO-VST, ESO-VISTA')\n",
    "vista_catalogues = all_catalogues.copy()[vista_telescope_filter]\n",
    "vista_catalogues['collection', 'table_name', 'title', 'version', 'instrument', 'telescope'][0:5].show_in_notebook(show_row_index=False, display_length=5)"
   ]
  },
  {
   "cell_type": "markdown",
   "metadata": {},
   "source": [
    "To obtain the description of the content of each of the selected tables, you can recursively loop over the entries of the `description` column:"
   ]
  },
  {
   "cell_type": "code",
   "execution_count": 9,
   "metadata": {
    "scrolled": false
   },
   "outputs": [
    {
     "name": "stdout",
     "output_type": "stream",
     "text": [
      "Collection:  GCAV \n",
      "Table:       gcav_rxcj1515_YJKs_cat_fits_V1 \n",
      "Description: GCAV YJKs merged catalogue for RXCJ1514.9-1523 cluster, containing aperture matched photometry from the deep stacks \n",
      " \n",
      "\n",
      "Collection:  GCAV \n",
      "Table:       gcav_rxcj2129_YJKs_cat_fits_V1 \n",
      "Description: GCAV YJKs merged catalogue for RXCJ2129.6+0005 cluster, containing aperture matched photometry from the deep stacks \n",
      " \n",
      "\n"
     ]
    }
   ],
   "source": [
    "# for idx in range(len(vista_catalogues)):\n",
    "for idx in range(2):\n",
    "    print('Collection:  {} \\nTable:       {} \\nDescription: {} \\n \\n'.format(vista_catalogues['collection'][idx],\n",
    "                                                                       vista_catalogues['table_name'][idx],\n",
    "                                                                       vista_catalogues['description'][idx]))"
   ]
  },
  {
   "cell_type": "markdown",
   "metadata": {},
   "source": [
    "## Identify RA, Dec (or other properties) in catalogues\n",
    "\n",
    "Now you are ready the recursively explore all catalogues containing data collected with the [ESO-VISTA telescope](https://www.eso.org/sci/facilities/paranal/telescopes/vista.html). There is however a point that needs to be taken into account first: some catalogues can be spreaded among different tables. \n",
    "\n",
    "This is the case, for instance, of the [VISTA survey of the Magellanic Clouds system (VMC)](https://www.eso.org/rm/api/v1/public/releaseDescriptions/155). The reference catalogue that contains position and ID of the sources is identified by the column `target_table`:"
   ]
  },
  {
   "cell_type": "code",
   "execution_count": 10,
   "metadata": {},
   "outputs": [
    {
     "data": {
      "text/html": [
       "<i>Table length=5</i>\n",
       "<table id=\"table140120598984592-182849\" class=\"table-striped table-bordered table-condensed\">\n",
       "<thead><tr><th>collection</th><th>table_name</th><th>target_table</th><th>table_RA</th><th>table_Dec</th></tr></thead>\n",
       "<tr><td>VMC</td><td>vmc_dr5_mPhotJ_V4</td><td>vmc_dr5_sourceCat_yjks_V4</td><td>None</td><td>None</td></tr>\n",
       "<tr><td>VMC</td><td>vmc_dr5_mPhotKs_V4</td><td>vmc_dr5_sourceCat_yjks_V4</td><td>None</td><td>None</td></tr>\n",
       "<tr><td>VMC</td><td>vmc_dr5_mPhotY_V4</td><td>vmc_dr5_sourceCat_yjks_V4</td><td>None</td><td>None</td></tr>\n",
       "<tr><td>VMC</td><td>vmc_dr5_psf_yjks_V3</td><td>vmc_dr5_sourceCat_yjks_V4</td><td>RA2000</td><td>DEC2000</td></tr>\n",
       "<tr><td>VMC</td><td>vmc_dr5_sourceCat_yjks_V4</td><td></td><td>RA2000</td><td>DEC2000</td></tr>\n",
       "</table><style>table.dataTable {clear: both; width: auto !important; margin: 0 !important;}\n",
       ".dataTables_info, .dataTables_length, .dataTables_filter, .dataTables_paginate{\n",
       "display: inline-block; margin-right: 1em; }\n",
       ".paginate_button { margin-right: 5px; }\n",
       "</style>\n",
       "<script>\n",
       "\n",
       "var astropy_sort_num = function(a, b) {\n",
       "    var a_num = parseFloat(a);\n",
       "    var b_num = parseFloat(b);\n",
       "\n",
       "    if (isNaN(a_num) && isNaN(b_num))\n",
       "        return ((a < b) ? -1 : ((a > b) ? 1 : 0));\n",
       "    else if (!isNaN(a_num) && !isNaN(b_num))\n",
       "        return ((a_num < b_num) ? -1 : ((a_num > b_num) ? 1 : 0));\n",
       "    else\n",
       "        return isNaN(a_num) ? -1 : 1;\n",
       "}\n",
       "\n",
       "require.config({paths: {\n",
       "    datatables: 'https://cdn.datatables.net/1.10.12/js/jquery.dataTables.min'\n",
       "}});\n",
       "require([\"datatables\"], function(){\n",
       "    console.log(\"$('#table140120598984592-182849').dataTable()\");\n",
       "    \n",
       "jQuery.extend( jQuery.fn.dataTableExt.oSort, {\n",
       "    \"optionalnum-asc\": astropy_sort_num,\n",
       "    \"optionalnum-desc\": function (a,b) { return -astropy_sort_num(a, b); }\n",
       "});\n",
       "\n",
       "    $('#table140120598984592-182849').dataTable({\n",
       "        order: [],\n",
       "        pageLength: 5,\n",
       "        lengthMenu: [[5, 10, 25, 50, 100, 500, 1000, -1], [5, 10, 25, 50, 100, 500, 1000, 'All']],\n",
       "        pagingType: \"full_numbers\",\n",
       "        columnDefs: [{targets: [], type: \"optionalnum\"}]\n",
       "    });\n",
       "});\n",
       "</script>\n"
      ],
      "text/plain": [
       "<IPython.core.display.HTML object>"
      ]
     },
     "execution_count": 10,
     "metadata": {},
     "output_type": "execute_result"
    }
   ],
   "source": [
    "vmc_filter = (vista_catalogues['collection'] == 'VMC')\n",
    "vmc_catalogues = vista_catalogues.copy()[vmc_filter]\n",
    "vmc_catalogues['collection', 'table_name', 'target_table', 'table_RA', 'table_Dec'][0:5].show_in_notebook(show_row_index=False, display_length=5)"
   ]
  },
  {
   "cell_type": "markdown",
   "metadata": {},
   "source": [
    "This basically means, for instance, that basic information on the targets present in the table `vmc_dr5_mPhotJ_V4` are located in the `target_table`: `vmc_dr5_sourceCat_yjks_V4`. Thus to find RA and Dec of the sources present in the [VMC](https://www.eso.org/rm/api/v1/public/releaseDescriptions/155) catalogues, you should (in principle) extract columns corresponding to the the `ucd` tokes: `pos.eq.ra;meta.main` and `pos.eq.dec;meta.main` from the `target_table`:"
   ]
  },
  {
   "cell_type": "code",
   "execution_count": 11,
   "metadata": {},
   "outputs": [
    {
     "data": {
      "text/html": [
       "<i>Table length=2</i>\n",
       "<table id=\"table140122068255376-678158\" class=\"table-striped table-bordered table-condensed\">\n",
       "<thead><tr><th>table_name</th><th>column_name</th><th>ucd</th><th>datatype</th><th>description</th><th>unit</th></tr></thead>\n",
       "<tr><td>vmc_dr5_sourceCat_yjks_V4</td><td>RA2000</td><td>pos.eq.ra;meta.main</td><td>DOUBLE</td><td>Celestial Right Ascension</td><td>deg</td></tr>\n",
       "<tr><td>vmc_dr5_sourceCat_yjks_V4</td><td>DEC2000</td><td>pos.eq.dec;meta.main</td><td>DOUBLE</td><td>Celestial Declination</td><td>deg</td></tr>\n",
       "</table><style>table.dataTable {clear: both; width: auto !important; margin: 0 !important;}\n",
       ".dataTables_info, .dataTables_length, .dataTables_filter, .dataTables_paginate{\n",
       "display: inline-block; margin-right: 1em; }\n",
       ".paginate_button { margin-right: 5px; }\n",
       "</style>\n",
       "<script>\n",
       "\n",
       "var astropy_sort_num = function(a, b) {\n",
       "    var a_num = parseFloat(a);\n",
       "    var b_num = parseFloat(b);\n",
       "\n",
       "    if (isNaN(a_num) && isNaN(b_num))\n",
       "        return ((a < b) ? -1 : ((a > b) ? 1 : 0));\n",
       "    else if (!isNaN(a_num) && !isNaN(b_num))\n",
       "        return ((a_num < b_num) ? -1 : ((a_num > b_num) ? 1 : 0));\n",
       "    else\n",
       "        return isNaN(a_num) ? -1 : 1;\n",
       "}\n",
       "\n",
       "require.config({paths: {\n",
       "    datatables: 'https://cdn.datatables.net/1.10.12/js/jquery.dataTables.min'\n",
       "}});\n",
       "require([\"datatables\"], function(){\n",
       "    console.log(\"$('#table140122068255376-678158').dataTable()\");\n",
       "    \n",
       "jQuery.extend( jQuery.fn.dataTableExt.oSort, {\n",
       "    \"optionalnum-asc\": astropy_sort_num,\n",
       "    \"optionalnum-desc\": function (a,b) { return -astropy_sort_num(a, b); }\n",
       "});\n",
       "\n",
       "    $('#table140122068255376-678158').dataTable({\n",
       "        order: [],\n",
       "        pageLength: 50,\n",
       "        lengthMenu: [[10, 25, 50, 100, 500, 1000, -1], [10, 25, 50, 100, 500, 1000, 'All']],\n",
       "        pagingType: \"full_numbers\",\n",
       "        columnDefs: [{targets: [], type: \"optionalnum\"}]\n",
       "    });\n",
       "});\n",
       "</script>\n"
      ],
      "text/plain": [
       "<IPython.core.display.HTML object>"
      ]
     },
     "execution_count": 11,
     "metadata": {},
     "output_type": "execute_result"
    }
   ],
   "source": [
    "columns_VMC_PhotJ = archive_catalogues.columns_info(tables='vmc_dr5_sourceCat_yjks_V4')\n",
    "columns_VMC_PhotJ[(columns_VMC_PhotJ['ucd'] == 'pos.eq.ra;meta.main') | \n",
    "                  (columns_VMC_PhotJ['ucd'] == 'pos.eq.dec;meta.main') ].show_in_notebook(show_row_index=False)"
   ]
  },
  {
   "cell_type": "markdown",
   "metadata": {},
   "source": [
    "Or equivalently, by extracting from the `vista_catalogues` table entries of the column `table_RA` and `table_Dec` correspoding to the `target_table` = `vmc_dr5_sourceCat_yjks_V4`:"
   ]
  },
  {
   "cell_type": "code",
   "execution_count": 12,
   "metadata": {},
   "outputs": [
    {
     "name": "stdout",
     "output_type": "stream",
     "text": [
      "The columns containing RA and Dec in vmc_dr5_sourceCat_yjks_V4 are:\n",
      "RA2000, DEC2000\n"
     ]
    }
   ],
   "source": [
    "filter_target_table_vmc = (vmc_catalogues['table_name'] == 'vmc_dr5_sourceCat_yjks_V4')\n",
    "column_RA, column_Dec = vmc_catalogues[filter_target_table_vmc]['table_RA'][0], vmc_catalogues[filter_target_table_vmc]['table_Dec'][0]\n",
    "print('The columns containing RA and Dec in vmc_dr5_sourceCat_yjks_V4 are:\\n{}, {}'.format(column_RA, column_Dec))"
   ]
  },
  {
   "cell_type": "markdown",
   "metadata": {},
   "source": [
    "## Explore content of the catalogues\n",
    "\n",
    "In general, one can glance the content of a catalogue by checking the name of the columns present in the associated list of tables (or list of collections). For instance, for the [Kilo Degree Survey](https://www.eso.org/rm/api/v1/public/releaseDescriptions/151) this can be obtained with calling:\n",
    "```python\n",
    "archive_catalogues.columns_info(tables='KiDS_DR4_1_ugriZYJHKs_cat_fits')\n",
    "```"
   ]
  },
  {
   "cell_type": "code",
   "execution_count": 13,
   "metadata": {
    "scrolled": true
   },
   "outputs": [
    {
     "data": {
      "text/html": [
       "<i>Table length=10</i>\n",
       "<table id=\"table140120598779600-497938\" class=\"table-striped table-bordered table-condensed\">\n",
       "<thead><tr><th>table_name</th><th>column_name</th><th>ucd</th><th>datatype</th><th>description</th><th>unit</th></tr></thead>\n",
       "<tr><td>KiDS_DR4_1_ugriZYJHKs_cat_fits</td><td>ID</td><td>meta.id;meta.main</td><td>CHAR</td><td>ESO ID</td><td></td></tr>\n",
       "<tr><td>KiDS_DR4_1_ugriZYJHKs_cat_fits</td><td>KIDS_TILE</td><td>meta.id</td><td>CHAR</td><td>Name of the pointing in AW convention</td><td></td></tr>\n",
       "<tr><td>KiDS_DR4_1_ugriZYJHKs_cat_fits</td><td>THELI_NAME</td><td>meta.id</td><td>CHAR</td><td>Name of the pointing in THELI convention</td><td></td></tr>\n",
       "<tr><td>KiDS_DR4_1_ugriZYJHKs_cat_fits</td><td>SeqNr</td><td>meta.id</td><td>INTEGER</td><td>Running object number within the catalogue</td><td></td></tr>\n",
       "<tr><td>KiDS_DR4_1_ugriZYJHKs_cat_fits</td><td>SLID</td><td>meta.id</td><td>INTEGER</td><td>AstroWise Source list ID</td><td></td></tr>\n",
       "<tr><td>KiDS_DR4_1_ugriZYJHKs_cat_fits</td><td>SID</td><td>meta.id</td><td>INTEGER</td><td>AstroWise Source ID within the source list</td><td></td></tr>\n",
       "<tr><td>KiDS_DR4_1_ugriZYJHKs_cat_fits</td><td>FLUX_AUTO</td><td>phot.flux;em.opt.R</td><td>REAL</td><td>r-band flux (counts)</td><td>count</td></tr>\n",
       "<tr><td>KiDS_DR4_1_ugriZYJHKs_cat_fits</td><td>FLUXERR_AUTO</td><td>stat.error;phot.flux;em.opt.R</td><td>REAL</td><td>Error on FLUX_AUTO (counts)</td><td>count</td></tr>\n",
       "<tr><td>KiDS_DR4_1_ugriZYJHKs_cat_fits</td><td>MAG_AUTO</td><td>phot.mag;em.opt.R</td><td>REAL</td><td>r-band magnitude (mag)</td><td>mag</td></tr>\n",
       "<tr><td>KiDS_DR4_1_ugriZYJHKs_cat_fits</td><td>MAGERR_AUTO</td><td>stat.error;phot.mag;em.opt.R</td><td>REAL</td><td>Error on MAG_AUTO (mag)</td><td>mag</td></tr>\n",
       "</table><style>table.dataTable {clear: both; width: auto !important; margin: 0 !important;}\n",
       ".dataTables_info, .dataTables_length, .dataTables_filter, .dataTables_paginate{\n",
       "display: inline-block; margin-right: 1em; }\n",
       ".paginate_button { margin-right: 5px; }\n",
       "</style>\n",
       "<script>\n",
       "\n",
       "var astropy_sort_num = function(a, b) {\n",
       "    var a_num = parseFloat(a);\n",
       "    var b_num = parseFloat(b);\n",
       "\n",
       "    if (isNaN(a_num) && isNaN(b_num))\n",
       "        return ((a < b) ? -1 : ((a > b) ? 1 : 0));\n",
       "    else if (!isNaN(a_num) && !isNaN(b_num))\n",
       "        return ((a_num < b_num) ? -1 : ((a_num > b_num) ? 1 : 0));\n",
       "    else\n",
       "        return isNaN(a_num) ? -1 : 1;\n",
       "}\n",
       "\n",
       "require.config({paths: {\n",
       "    datatables: 'https://cdn.datatables.net/1.10.12/js/jquery.dataTables.min'\n",
       "}});\n",
       "require([\"datatables\"], function(){\n",
       "    console.log(\"$('#table140120598779600-497938').dataTable()\");\n",
       "    \n",
       "jQuery.extend( jQuery.fn.dataTableExt.oSort, {\n",
       "    \"optionalnum-asc\": astropy_sort_num,\n",
       "    \"optionalnum-desc\": function (a,b) { return -astropy_sort_num(a, b); }\n",
       "});\n",
       "\n",
       "    $('#table140120598779600-497938').dataTable({\n",
       "        order: [],\n",
       "        pageLength: 10,\n",
       "        lengthMenu: [[10, 25, 50, 100, 500, 1000, -1], [10, 25, 50, 100, 500, 1000, 'All']],\n",
       "        pagingType: \"full_numbers\",\n",
       "        columnDefs: [{targets: [], type: \"optionalnum\"}]\n",
       "    });\n",
       "});\n",
       "</script>\n"
      ],
      "text/plain": [
       "<IPython.core.display.HTML object>"
      ]
     },
     "execution_count": 13,
     "metadata": {},
     "output_type": "execute_result"
    }
   ],
   "source": [
    "table_kids = 'KiDS_DR4_1_ugriZYJHKs_cat_fits'\n",
    "columns_kids = archive_catalogues.columns_info(tables=table_kids)\n",
    "columns_kids[0:10].show_in_notebook(show_row_index=False, display_length=10)"
   ]
  },
  {
   "cell_type": "markdown",
   "metadata": {},
   "source": [
    "Once you decided which columns you want to extract from a given table, you can get it using:\n",
    "```python\n",
    "archive_catalogues.get_catalogues(tables=table_name, columns=columns)\n",
    "```\n",
    "For instance, to obtain `MAG_AUTO` and `MAGERR_AUTO` from the `KIDS` table (note that for the moment with limit the query to only 5 entries, i.e. we set `maxrec=5`):"
   ]
  },
  {
   "cell_type": "code",
   "execution_count": 14,
   "metadata": {},
   "outputs": [
    {
     "name": "stderr",
     "output_type": "stream",
     "text": [
      "\u001b[1;32m[INFO]    ::\u001b[0m The query to KiDS_DR4_1_ugriZYJHKs_cat_fits returned 5 entries (with a limit set to maxrec=5)\n"
     ]
    }
   ],
   "source": [
    "columns = ['MAG_AUTO', 'MAGERR_AUTO']\n",
    "KIDS = archive_catalogues.get_catalogues(tables=table_kids, columns=columns, maxrec=5)"
   ]
  },
  {
   "cell_type": "markdown",
   "metadata": {},
   "source": [
    "The result is thus stored in an `astropy.table`:"
   ]
  },
  {
   "cell_type": "code",
   "execution_count": 15,
   "metadata": {},
   "outputs": [
    {
     "data": {
      "text/html": [
       "<i>Table length=5</i>\n",
       "<table id=\"table140122033746704-455351\" class=\"table-striped table-bordered table-condensed\">\n",
       "<thead><tr><th>MAG_AUTO</th><th>MAGERR_AUTO</th></tr></thead>\n",
       "<thead><tr><th>mag</th><th>mag</th></tr></thead>\n",
       "<tr><td>23.98453</td><td>0.1594719</td></tr>\n",
       "<tr><td>22.54437</td><td>0.063381</td></tr>\n",
       "<tr><td>21.71539</td><td>0.03355715</td></tr>\n",
       "<tr><td>12.61024</td><td>0.0002909528</td></tr>\n",
       "<tr><td>21.19942</td><td>0.04136647</td></tr>\n",
       "</table><style>table.dataTable {clear: both; width: auto !important; margin: 0 !important;}\n",
       ".dataTables_info, .dataTables_length, .dataTables_filter, .dataTables_paginate{\n",
       "display: inline-block; margin-right: 1em; }\n",
       ".paginate_button { margin-right: 5px; }\n",
       "</style>\n",
       "<script>\n",
       "\n",
       "var astropy_sort_num = function(a, b) {\n",
       "    var a_num = parseFloat(a);\n",
       "    var b_num = parseFloat(b);\n",
       "\n",
       "    if (isNaN(a_num) && isNaN(b_num))\n",
       "        return ((a < b) ? -1 : ((a > b) ? 1 : 0));\n",
       "    else if (!isNaN(a_num) && !isNaN(b_num))\n",
       "        return ((a_num < b_num) ? -1 : ((a_num > b_num) ? 1 : 0));\n",
       "    else\n",
       "        return isNaN(a_num) ? -1 : 1;\n",
       "}\n",
       "\n",
       "require.config({paths: {\n",
       "    datatables: 'https://cdn.datatables.net/1.10.12/js/jquery.dataTables.min'\n",
       "}});\n",
       "require([\"datatables\"], function(){\n",
       "    console.log(\"$('#table140122033746704-455351').dataTable()\");\n",
       "    \n",
       "jQuery.extend( jQuery.fn.dataTableExt.oSort, {\n",
       "    \"optionalnum-asc\": astropy_sort_num,\n",
       "    \"optionalnum-desc\": function (a,b) { return -astropy_sort_num(a, b); }\n",
       "});\n",
       "\n",
       "    $('#table140122033746704-455351').dataTable({\n",
       "        order: [],\n",
       "        pageLength: 5,\n",
       "        lengthMenu: [[5, 10, 25, 50, 100, 500, 1000, -1], [5, 10, 25, 50, 100, 500, 1000, 'All']],\n",
       "        pagingType: \"full_numbers\",\n",
       "        columnDefs: [{targets: [0, 1], type: \"optionalnum\"}]\n",
       "    });\n",
       "});\n",
       "</script>\n"
      ],
      "text/plain": [
       "<IPython.core.display.HTML object>"
      ]
     },
     "execution_count": 15,
     "metadata": {},
     "output_type": "execute_result"
    }
   ],
   "source": [
    "KIDS.show_in_notebook(show_row_index=False, display_length=5)"
   ]
  },
  {
   "cell_type": "markdown",
   "metadata": {
    "scrolled": false
   },
   "source": [
    "## Show Location of sources observed with ESO-VISTA\n",
    "\n",
    "Now it is time to play with the catalogues. For instance you can plot the sky location of all sources detected with [ESO-VISTA telescope](https://www.eso.org/sci/facilities/paranal/telescopes/vista.html):  "
   ]
  },
  {
   "cell_type": "code",
   "execution_count": 16,
   "metadata": {
    "scrolled": false
   },
   "outputs": [
    {
     "name": "stderr",
     "output_type": "stream",
     "text": [
      "\u001b[1;32m[INFO]    ::\u001b[0m The query to gcav_rxcj1515_YJKs_cat_fits_V1 returned 138779 entries (with a limit set to maxrec=5000000)\n",
      "\u001b[1;32m[INFO]    ::\u001b[0m The query to gcav_rxcj2129_YJKs_cat_fits_V1 returned 110521 entries (with a limit set to maxrec=5000000)\n",
      "\u001b[1;32m[INFO]    ::\u001b[0m The query to KiDS_DR4_1_ugriZYJHKs_cat_fits returned 5000000 entries (with a limit set to maxrec=5000000)\n",
      "\u001b[1;32m[INFO]    ::\u001b[0m The query to MW_BULGE_PSFPHOT_V1 returned 5000000 entries (with a limit set to maxrec=5000000)\n",
      "\u001b[1;32m[INFO]    ::\u001b[0m The query to COSMOS2015_Laigle_v1_1b_latestV7_fits_V1 returned 1182108 entries (with a limit set to maxrec=5000000)\n",
      "\u001b[1;32m[INFO]    ::\u001b[0m The query to UVISTA_5band_cat_dr4_rc_v2_fits_V3 returned 451587 entries (with a limit set to maxrec=5000000)\n",
      "\u001b[1;32m[INFO]    ::\u001b[0m The query to VEXAS_AllWISE_V1 returned 5000000 entries (with a limit set to maxrec=5000000)\n",
      "\u001b[1;32m[INFO]    ::\u001b[0m The query to VHS_CAT_V3 returned 5000000 entries (with a limit set to maxrec=5000000)\n",
      "\u001b[1;32m[INFO]    ::\u001b[0m The query to video_er3_zyjhks_CDFS_catMetaData_fits_V2 returned 603036 entries (with a limit set to maxrec=5000000)\n",
      "\u001b[1;32m[INFO]    ::\u001b[0m The query to video_er3_zyjhks_ES1_catMetaData_fits_V2 returned 496386 entries (with a limit set to maxrec=5000000)\n",
      "\u001b[1;32m[INFO]    ::\u001b[0m The query to video_er3_zyjhks_XMM_catMetaData_fits_V3 returned 698752 entries (with a limit set to maxrec=5000000)\n",
      "\u001b[1;32m[INFO]    ::\u001b[0m The query to viking_er5_zyjj_1j_2hks_catMetaData_fits_V4 returned 5000000 entries (with a limit set to maxrec=5000000)\n",
      "\u001b[1;32m[INFO]    ::\u001b[0m The query to vmc_dr5_sourceCat_yjks_V4 returned 5000000 entries (with a limit set to maxrec=5000000)\n",
      "\u001b[1;32m[INFO]    ::\u001b[0m The query to VVV_VIRAC_PM_V1 returned 5000000 entries (with a limit set to maxrec=5000000)\n",
      "\u001b[1;32m[INFO]    ::\u001b[0m The query to VVV_bandMergedSourceCat_V3 returned 5000000 entries (with a limit set to maxrec=5000000)\n"
     ]
    }
   ],
   "source": [
    "# for convenience we limit the number of retrieved entries to 5000000\n",
    "maxrec=5000000\n",
    "plt.figure(figsize=(14,10))\n",
    "plt.subplot(111, projection='aitoff')\n",
    "plt.grid(True)\n",
    "for idx in range(len(vista_catalogues)):\n",
    "    table_name =  vista_catalogues['table_name'][idx]\n",
    "    target_table =  vista_catalogues['target_table'][idx]\n",
    "    if target_table is '':\n",
    "        # Getting RA and Dec\n",
    "        columns = archive_catalogues.columns_info(tables=table_name)\n",
    "        columns_pos = [columns['column_name'][ (columns['ucd'] == 'pos.eq.ra;meta.main') ][0],\n",
    "                       columns['column_name'][ (columns['ucd'] == 'pos.eq.dec;meta.main') ][0]]\n",
    "        positions = archive_catalogues.get_catalogues(tables=table_name, columns=columns_pos, maxrec=maxrec)\n",
    "        # Converting RA and Dec in SkyCoord object and taking care of the `Degree` entries\n",
    "        if not isinstance(positions[columns_pos[0]].unit, u.core.Unit):\n",
    "            positions[columns_pos[0]].unit = u.deg\n",
    "            positions[columns_pos[1]].unit = u.deg\n",
    "        sky_positions = SkyCoord(positions[columns_pos[0]].data*positions[columns_pos[0]].unit, \n",
    "                                 positions[columns_pos[1]].data*positions[columns_pos[1]].unit).galactic\n",
    "        plt.scatter(sky_positions.l.wrap_at('180d').radian, sky_positions.b.radian, alpha=0.5,\n",
    "                    label=table_name)\n",
    "plt.legend(fontsize='small', loc='upper right')\n",
    "plt.show()\n",
    "plt.savefig('vista_catalogues.jpg', format='jpg', bbox_inches='tight')"
   ]
  },
  {
   "cell_type": "code",
   "execution_count": null,
   "metadata": {},
   "outputs": [],
   "source": []
  }
 ],
 "metadata": {
  "kernelspec": {
   "display_name": "py37",
   "language": "python",
   "name": "py37"
  },
  "language_info": {
   "codemirror_mode": {
    "name": "ipython",
    "version": 3
   },
   "file_extension": ".py",
   "mimetype": "text/x-python",
   "name": "python",
   "nbconvert_exporter": "python",
   "pygments_lexer": "ipython3",
   "version": "3.7.6"
  }
 },
 "nbformat": 4,
 "nbformat_minor": 4
}
