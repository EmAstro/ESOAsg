{
 "cells": [
  {
   "cell_type": "markdown",
   "metadata": {},
   "source": [
    "# HOW TO obtain archival ESO data given RA and Dec\n",
    "\n",
    "The [ESO archive](http://archive.eso.org/cms.html) currently (June 2020) contains more than [1.7 million spectra](https://archive.eso.org/scienceportal/home?data_release_date=*:2020-06-24&dp_type=SPECTRUM&sort=-obs_date&s=P%2fDSS2%2fcolor&f=177.115919&fc=-1,-1&cs=J2000&av=true&ac=false&c=9,10,11,12,13,14,15,16,17,18,19,20&ta=RES&dts=true&sdtm=%7b%22SPECTRUM%22%3atrue%7d&at=119.452774,-60.30286&sr=i), more than [650,000 images](https://archive.eso.org/scienceportal/home?data_release_date=*:2020-06-24&dp_type=IMAGE&sort=-obs_date&s=P%2fDSS2%2fcolor&f=177.115919&fc=-1,-1&cs=J2000&av=true&ac=false&c=9,10,11,12,13,14,15,16,17,18,19,20&ta=RES&dts=true&sdtm=%7b%22IMAGE%22%3atrue%7d&at=160.465004,19.501825&sr=i), and more than [240,000 cubes](https://archive.eso.org/scienceportal/home?data_release_date=*:2020-06-24&dp_type=CUBE&sort=-obs_date&s=P%2fDSS2%2fcolor&f=177.115919&fc=-1,-1&cs=J2000&av=true&ac=false&c=9,10,11,12,13,14,15,16,17,18,19,20&ta=RES&dts=true&sdtm=%7b%22CUBE%22%3atrue%7d&at=239.591811,-14.166308&sr=i) that are reduced or fully calibrated.\n",
    "\n",
    "There are three main ways to access the vaste amount of information present in the [ESO archive](http://archive.eso.org/cms.html):\n",
    "\n",
    "* the [Raw Data query form](http://archive.eso.org/eso/eso_archive_main.html)\n",
    "* the [Science Portal](http://archive.eso.org/scienceportal/home) to browse and access the processed data\n",
    "* the [Programmatic and Tools access](http://archive.eso.org/programmatic/) which permits direct database access to both raw and processed data, and to the ambient condition measurements\n",
    "\n",
    "In addition, the <code>archive_observations</code> module part of the (unofficial) [ESOAsg](https://github.com/EmAstro/ESOAsg) package provides simple wrappers to efficiently embed the access to the [ESO archive](http://archive.eso.org/cms.html) into <code>python</code> routines.\n",
    "\n",
    "With this example, we show how to obtain all science spectra associated to an object for which the location in the sky is known. \n",
    "\n",
    "In case you use data from the ESO Archive for your research, please consider the [ESO acknowledgement policies](http://archive.eso.org/cms/eso-data-access-policy.html#acknowledgement)."
   ]
  },
  {
   "cell_type": "code",
   "execution_count": 1,
   "metadata": {},
   "outputs": [],
   "source": [
    "from ESOAsg.ancillary import astro\n",
    "from ESOAsg import archive_observations\n",
    "\n",
    "from astropy.coordinates import SkyCoord\n",
    "from astropy.io import fits\n",
    "import matplotlib.pyplot as plt\n",
    "import numpy as np"
   ]
  },
  {
   "cell_type": "code",
   "execution_count": 2,
   "metadata": {},
   "outputs": [],
   "source": [
    "%matplotlib notebook"
   ]
  },
  {
   "cell_type": "markdown",
   "metadata": {},
   "source": [
    "## Get RA and Dec of one target (or more)\n",
    "\n",
    "To begin, you need to choose the targets you would like to explore and get their coordinates. These need to be an [astropy.coordinates](https://docs.astropy.org/en/stable/coordinates/) `SkyCoord` object. A `SkyCoord` object can easily be created by using:\n",
    "```python\n",
    "from astropy import units as u\n",
    "from astropy.coordinates import SkyCoord\n",
    "coordinates = SkyCoord(ra=10.625*u.degree, dec=41.2*u.degree, frame='icrs')\n",
    "```\n",
    "For this example, we consider a couple of standard stars observed as part of the [`MUSE library of stellar spectra`](https://www.eso.org/sci/publications/announcements/sciann17288.html) project ([Ivanov et al. 2019](https://ui.adsabs.harvard.edu/abs/2019A%26A...629A.100I/abstract)): \n",
    "* [HD 057060](http://simbad.u-strasbg.fr/simbad/sim-basic?Ident=HD+057060&submit=SIMBAD+search)\n",
    "* [HD 172230](http://simbad.u-strasbg.fr/simbad/sim-basic?Ident=HD+172230&submit=SIMBAD+search).\n",
    "\n",
    "The coordinates of these two well known stars can be simply retrieved from their name using `Sesame` (and we are storing them in the list: `star_positions`):"
   ]
  },
  {
   "cell_type": "code",
   "execution_count": 3,
   "metadata": {},
   "outputs": [
    {
     "name": "stdout",
     "output_type": "stream",
     "text": [
      "HD 057060: 07h18m40.3797s -24d33m31.3118s\n",
      "HD 172230: 18h38m54.9544s +06d16m14.8348s\n"
     ]
    }
   ],
   "source": [
    "star_names = ['HD 057060', 'HD 172230']\n",
    "star_positions = []\n",
    "for star_name in star_names:\n",
    "    star_positions.append(SkyCoord.from_name(star_name))\n",
    "    print('{}: {}'.format(star_name, SkyCoord.from_name(star_name).to_string('hmsdms')))"
   ]
  },
  {
   "cell_type": "markdown",
   "metadata": {},
   "source": [
    "## Query the archive\n",
    "\n",
    "The function <code>archive_observations.query_from_radec</code> allows to explore the processed data (also known as ADPs) within a certain radius in arcseconds (e.g., radius=5.) from a given position (e.g., for HD 057060: RA=109.66824871, Dec=-24.55869773). \n",
    "\n",
    "It is also possible to limit the search to specific instruments (e.g., 'MUSE', 'XSHOOTER', 'UVES') or specific data types (e.g., 'spectrum').\n",
    "\n",
    "In practice, this corresponds to run the following [TAP query](http://archive.eso.org/programmatic/#TAP?f=text&m=200&q=SELECT%0A%20%20%20%20target_name%2C%20dp_id%2C%20s_ra%2C%20s_dec%2C%20t_exptime%2C%20em_min%2C%20em_max%2C%20%0A%20%20%20%20dataproduct_type%2C%20instrument_name%2C%20obstech%2C%20abmaglim%2C%0A%20%20%20%20proposal_id%2C%20obs_collection%0AFROM%0A%20%20%20%20ivoa.ObsCore%0AWHERE%0A%20%20%20%20INTERSECTS&#40;s_region%2CCIRCLE&#40;'ICRS'%2C109.66824871%2C-24.55869773%2C5.0%2F3600.&#41;&#41;%3D1%0AAND%0A%20%20%20%20dataproduct_type%3D'spectrum'&):\n",
    "\n",
    "```SQL\n",
    "SELECT\n",
    "    target_name, dp_id, s_ra, s_dec, t_exptime, em_min, em_max, \n",
    "    dataproduct_type, instrument_name, obstech, abmaglim,\n",
    "    proposal_id, obs_collection\n",
    "FROM\n",
    "    ivoa.ObsCore\n",
    "WHERE\n",
    "    INTERSECTS(s_region,CIRCLE('ICRS',109.66824871,-24.55869773,5.0/3600.))=1\n",
    "AND\n",
    "    dataproduct_type='spectrum'\n",
    "```"
   ]
  },
  {
   "cell_type": "code",
   "execution_count": 14,
   "metadata": {},
   "outputs": [
    {
     "name": "stderr",
     "output_type": "stream",
     "text": [
      "\u001b[1;30m[WORKING] ::\u001b[0m Exploring ESO archive around 2 locations in the sky\n",
      "\u001b[1;30m[WORKING] ::\u001b[0m Running query 1 to the ESO archive (out of 2 total)\n",
      "\u001b[1;32m[INFO]    ::\u001b[0m The query is:\n",
      "\u001b[1;32m[INFO]    ::\u001b[0m \n",
      "            SELECT\n",
      "                target_name, dp_id, s_ra, s_dec, t_exptime, em_min, em_max, dataproduct_type, instrument_name, obstech, abmaglim, proposal_id, obs_collection\n",
      "            FROM\n",
      "                ivoa.ObsCore\n",
      "            WHERE\n",
      "                INTERSECTS(s_region,CIRCLE('ICRS',109.66824871,-24.55869773,5.0/3600.)) = 1\n",
      "            AND\n",
      "                (\n",
      "                instrument_name LIKE '%'\n",
      "                )\n",
      "            AND\n",
      "                (\n",
      "                dataproduct_type LIKE 'spectrum'\n",
      "                )\n",
      "\u001b[1;32m[INFO]    ::\u001b[0m A total of 11 entries has been retrieved\n",
      "\u001b[1;32m[INFO]    ::\u001b[0m For the following instrument:\n",
      "\u001b[1;32m[INFO]    ::\u001b[0m  - UVES\n",
      "\u001b[1;32m[INFO]    ::\u001b[0m  - XSHOOTER\n",
      "\u001b[1;30m[WORKING] ::\u001b[0m Running query 2 to the ESO archive (out of 2 total)\n",
      "\u001b[1;32m[INFO]    ::\u001b[0m The query is:\n",
      "\u001b[1;32m[INFO]    ::\u001b[0m \n",
      "            SELECT\n",
      "                target_name, dp_id, s_ra, s_dec, t_exptime, em_min, em_max, dataproduct_type, instrument_name, obstech, abmaglim, proposal_id, obs_collection\n",
      "            FROM\n",
      "                ivoa.ObsCore\n",
      "            WHERE\n",
      "                INTERSECTS(s_region,CIRCLE('ICRS',279.72897682,6.27078745,5.0/3600.)) = 1\n",
      "            AND\n",
      "                (\n",
      "                instrument_name LIKE '%'\n",
      "                )\n",
      "            AND\n",
      "                (\n",
      "                dataproduct_type LIKE 'spectrum'\n",
      "                )\n",
      "\u001b[1;32m[INFO]    ::\u001b[0m A total of 12 entries has been retrieved\n",
      "\u001b[1;32m[INFO]    ::\u001b[0m For the following instrument:\n",
      "\u001b[1;32m[INFO]    ::\u001b[0m  - UVES\n",
      "\u001b[1;32m[INFO]    ::\u001b[0m  - XSHOOTER\n"
     ]
    }
   ],
   "source": [
    "result_from_queries = archive_observations.query_from_radec(star_positions, radius=5., \n",
    "                                                            data_types= 'spectrum')"
   ]
  },
  {
   "cell_type": "markdown",
   "metadata": {},
   "source": [
    "The results are stored in a list of astropy tables (one table per position). \n",
    "\n",
    "For instance, there are 12 ADPs for HD 057060:\n",
    " * 1 spectrum from `MUSE`\n",
    " * 1 set of UVB, VIS, and NIR spectra from `XSHOOTER`\n",
    " * 8 spectra from `UVES`"
   ]
  },
  {
   "cell_type": "code",
   "execution_count": 5,
   "metadata": {},
   "outputs": [
    {
     "data": {
      "text/html": [
       "<i>Table length=11</i>\n",
       "<table id=\"table139998897563984-997985\" class=\"table-striped table-bordered table-condensed\">\n",
       "<thead><tr><th>target_name</th><th>dp_id</th><th>s_ra</th><th>s_dec</th><th>t_exptime</th><th>em_min</th><th>em_max</th><th>dataproduct_type</th><th>instrument_name</th><th>obstech</th><th>abmaglim</th><th>proposal_id</th><th>obs_collection</th></tr></thead>\n",
       "<thead><tr><th></th><th></th><th>deg</th><th>deg</th><th>s</th><th>m</th><th>m</th><th></th><th></th><th></th><th>mag</th><th></th><th></th></tr></thead>\n",
       "<tr><td>HD_57060</td><td>ADP.2017-10-26T20:37:15.912</td><td>109.668059</td><td>-24.559</td><td>12.001</td><td>3.73209e-07</td><td>4.999800000000001e-07</td><td>spectrum</td><td>UVES</td><td>ECHELLE</td><td>--</td><td>076.B-0055(A)</td><td>UVES</td></tr>\n",
       "<tr><td>HD_57060</td><td>ADP.2017-10-26T20:37:15.907</td><td>109.668097</td><td>-24.55898</td><td>12.001</td><td>3.02423e-07</td><td>3.8842899999999996e-07</td><td>spectrum</td><td>UVES</td><td>ECHELLE</td><td>--</td><td>076.B-0055(A)</td><td>UVES</td></tr>\n",
       "<tr><td>HD_57060</td><td>ADP.2017-10-26T20:37:15.937</td><td>109.668059</td><td>-24.559</td><td>11.999</td><td>6.65028e-07</td><td>1.0252460000000002e-06</td><td>spectrum</td><td>UVES</td><td>ECHELLE</td><td>--</td><td>076.B-0055(A)</td><td>UVES</td></tr>\n",
       "<tr><td>HD_57060</td><td>ADP.2017-10-26T20:37:15.922</td><td>109.668059</td><td>-24.559</td><td>12.001</td><td>3.73209e-07</td><td>4.999800000000001e-07</td><td>spectrum</td><td>UVES</td><td>ECHELLE</td><td>--</td><td>076.B-0055(A)</td><td>UVES</td></tr>\n",
       "<tr><td>HD_57060</td><td>ADP.2017-10-26T20:37:15.923</td><td>109.668097</td><td>-24.55898</td><td>11.999</td><td>4.72686e-07</td><td>6.835030000000001e-07</td><td>spectrum</td><td>UVES</td><td>ECHELLE</td><td>--</td><td>076.B-0055(A)</td><td>UVES</td></tr>\n",
       "<tr><td>HD_57060</td><td>ADP.2017-10-26T20:37:15.940</td><td>109.668059</td><td>-24.559</td><td>11.999</td><td>6.65028e-07</td><td>1.0252460000000002e-06</td><td>spectrum</td><td>UVES</td><td>ECHELLE</td><td>--</td><td>076.B-0055(A)</td><td>UVES</td></tr>\n",
       "<tr><td>2MASS-J07184037-2433312</td><td>ADP.2017-06-02T19:41:04.929</td><td>109.668427</td><td>-24.55842</td><td>4.0</td><td>9.9402e-07</td><td>2.47896e-06</td><td>spectrum</td><td>XSHOOTER</td><td>ECHELLE,SLIT,OFFSET</td><td>--</td><td>084.B-0869(B)</td><td>XSHOOTER</td></tr>\n",
       "<tr><td>2MASS-J07184037-2433312</td><td>ADP.2017-06-02T19:41:04.876</td><td>109.668427</td><td>-24.55842</td><td>0.4</td><td>5.336599999999999e-07</td><td>1.02e-06</td><td>spectrum</td><td>XSHOOTER</td><td>ECHELLE,SLIT,OFFSET</td><td>--</td><td>084.B-0869(B)</td><td>XSHOOTER</td></tr>\n",
       "<tr><td>HD_57060</td><td>ADP.2017-10-26T20:37:15.925</td><td>109.668097</td><td>-24.55898</td><td>11.999</td><td>4.72686e-07</td><td>6.835030000000001e-07</td><td>spectrum</td><td>UVES</td><td>ECHELLE</td><td>--</td><td>076.B-0055(A)</td><td>UVES</td></tr>\n",
       "<tr><td>2MASS-J07184037-2433312</td><td>ADP.2017-06-02T19:41:04.937</td><td>109.668427</td><td>-24.55842</td><td>0.4</td><td>2.9892000000000003e-07</td><td>5.5598e-07</td><td>spectrum</td><td>XSHOOTER</td><td>ECHELLE,SLIT,OFFSET</td><td>--</td><td>084.B-0869(B)</td><td>XSHOOTER</td></tr>\n",
       "<tr><td>HD_57060</td><td>ADP.2017-10-26T20:37:15.939</td><td>109.668097</td><td>-24.55898</td><td>12.001</td><td>3.02423e-07</td><td>3.8842899999999996e-07</td><td>spectrum</td><td>UVES</td><td>ECHELLE</td><td>--</td><td>076.B-0055(A)</td><td>UVES</td></tr>\n",
       "</table><style>table.dataTable {clear: both; width: auto !important; margin: 0 !important;}\n",
       ".dataTables_info, .dataTables_length, .dataTables_filter, .dataTables_paginate{\n",
       "display: inline-block; margin-right: 1em; }\n",
       ".paginate_button { margin-right: 5px; }\n",
       "</style>\n",
       "<script>\n",
       "\n",
       "var astropy_sort_num = function(a, b) {\n",
       "    var a_num = parseFloat(a);\n",
       "    var b_num = parseFloat(b);\n",
       "\n",
       "    if (isNaN(a_num) && isNaN(b_num))\n",
       "        return ((a < b) ? -1 : ((a > b) ? 1 : 0));\n",
       "    else if (!isNaN(a_num) && !isNaN(b_num))\n",
       "        return ((a_num < b_num) ? -1 : ((a_num > b_num) ? 1 : 0));\n",
       "    else\n",
       "        return isNaN(a_num) ? -1 : 1;\n",
       "}\n",
       "\n",
       "require.config({paths: {\n",
       "    datatables: 'https://cdn.datatables.net/1.10.12/js/jquery.dataTables.min'\n",
       "}});\n",
       "require([\"datatables\"], function(){\n",
       "    console.log(\"$('#table139998897563984-997985').dataTable()\");\n",
       "    \n",
       "jQuery.extend( jQuery.fn.dataTableExt.oSort, {\n",
       "    \"optionalnum-asc\": astropy_sort_num,\n",
       "    \"optionalnum-desc\": function (a,b) { return -astropy_sort_num(a, b); }\n",
       "});\n",
       "\n",
       "    $('#table139998897563984-997985').dataTable({\n",
       "        order: [],\n",
       "        pageLength: 50,\n",
       "        lengthMenu: [[10, 25, 50, 100, 500, 1000, -1], [10, 25, 50, 100, 500, 1000, 'All']],\n",
       "        pagingType: \"full_numbers\",\n",
       "        columnDefs: [{targets: [2, 3, 4, 5, 6, 10], type: \"optionalnum\"}]\n",
       "    });\n",
       "});\n",
       "</script>\n"
      ],
      "text/plain": [
       "<IPython.core.display.HTML object>"
      ]
     },
     "execution_count": 5,
     "metadata": {},
     "output_type": "execute_result"
    }
   ],
   "source": [
    "result_from_queries[0].show_in_notebook(show_row_index=False)"
   ]
  },
  {
   "cell_type": "markdown",
   "metadata": {},
   "source": [
    "and there are 13 ADPs for HD 172230:\n",
    " * 1 spectrum from `MUSE`\n",
    " * 2 set of UVB, VIS, and NIR spectra from `XSHOOTER`\n",
    " * 6 spectra from `UVES`"
   ]
  },
  {
   "cell_type": "code",
   "execution_count": 6,
   "metadata": {},
   "outputs": [
    {
     "data": {
      "text/html": [
       "<i>Table length=12</i>\n",
       "<table id=\"table139998867342544-636460\" class=\"table-striped table-bordered table-condensed\">\n",
       "<thead><tr><th>target_name</th><th>dp_id</th><th>s_ra</th><th>s_dec</th><th>t_exptime</th><th>em_min</th><th>em_max</th><th>dataproduct_type</th><th>instrument_name</th><th>obstech</th><th>abmaglim</th><th>proposal_id</th><th>obs_collection</th></tr></thead>\n",
       "<thead><tr><th></th><th></th><th>deg</th><th>deg</th><th>s</th><th>m</th><th>m</th><th></th><th></th><th></th><th>mag</th><th></th><th></th></tr></thead>\n",
       "<tr><td>2MASS-J18385494+0616147</td><td>ADP.2014-05-15T16:36:53.950</td><td>279.729582</td><td>6.27016</td><td>2.2</td><td>2.9892000000000003e-07</td><td>5.5598e-07</td><td>spectrum</td><td>XSHOOTER</td><td>ECHELLE,SLIT,NODDING</td><td>--</td><td>085.B-0751(A)</td><td>XSHOOTER</td></tr>\n",
       "<tr><td>2MASS-J18385494+0616147</td><td>ADP.2014-05-15T16:36:53.070</td><td>279.729289</td><td>6.27105</td><td>0.665</td><td>9.9402e-07</td><td>2.47896e-06</td><td>spectrum</td><td>XSHOOTER</td><td>ECHELLE,SLIT,STARE</td><td>--</td><td>085.B-0751(A)</td><td>XSHOOTER</td></tr>\n",
       "<tr><td>HD_172230</td><td>ADP.2013-09-26T23:23:35.427</td><td>279.728906</td><td>6.27063</td><td>70.001</td><td>3.70225e-07</td><td>5.05357e-07</td><td>spectrum</td><td>UVES</td><td>ECHELLE</td><td>--</td><td>079.D-0567(A)</td><td>UVES</td></tr>\n",
       "<tr><td>2MASS-J18385494+0616147</td><td>ADP.2014-05-15T16:36:52.997</td><td>279.729582</td><td>6.27016</td><td>2.2</td><td>5.336599999999999e-07</td><td>1.02e-06</td><td>spectrum</td><td>XSHOOTER</td><td>ECHELLE,SLIT,NODDING</td><td>--</td><td>085.B-0751(A)</td><td>XSHOOTER</td></tr>\n",
       "<tr><td>2MASS-J18385494+0616147</td><td>ADP.2014-05-15T16:36:53.377</td><td>279.729289</td><td>6.27105</td><td>0.1</td><td>2.9892000000000003e-07</td><td>5.5598e-07</td><td>spectrum</td><td>XSHOOTER</td><td>ECHELLE,SLIT,STARE</td><td>--</td><td>085.B-0751(A)</td><td>XSHOOTER</td></tr>\n",
       "<tr><td>HD_172230</td><td>ADP.2013-09-26T23:23:35.267</td><td>279.728885</td><td>6.27061</td><td>59.998</td><td>4.72692e-07</td><td>6.83508e-07</td><td>spectrum</td><td>UVES</td><td>ECHELLE</td><td>--</td><td>079.D-0567(A)</td><td>UVES</td></tr>\n",
       "<tr><td>2MASS-J18385494+0616147</td><td>ADP.2014-05-15T16:36:54.150</td><td>279.729582</td><td>6.27016</td><td>2.2</td><td>9.9402e-07</td><td>2.47896e-06</td><td>spectrum</td><td>XSHOOTER</td><td>ECHELLE,SLIT,NODDING</td><td>--</td><td>085.B-0751(A)</td><td>XSHOOTER</td></tr>\n",
       "<tr><td>2MASS-J18385494+0616147</td><td>ADP.2014-05-15T16:36:53.210</td><td>279.729289</td><td>6.27105</td><td>0.1</td><td>5.336599999999999e-07</td><td>1.02e-06</td><td>spectrum</td><td>XSHOOTER</td><td>ECHELLE,SLIT,STARE</td><td>--</td><td>085.B-0751(A)</td><td>XSHOOTER</td></tr>\n",
       "<tr><td>HD_172230</td><td>ADP.2013-09-26T23:23:35.440</td><td>279.728906</td><td>6.27063</td><td>70.001</td><td>3.70225e-07</td><td>5.05357e-07</td><td>spectrum</td><td>UVES</td><td>ECHELLE</td><td>--</td><td>079.D-0567(A)</td><td>UVES</td></tr>\n",
       "<tr><td>HD_172230</td><td>ADP.2013-09-26T23:23:35.190</td><td>279.728885</td><td>6.27061</td><td>145.001</td><td>3.00454e-07</td><td>3.91675e-07</td><td>spectrum</td><td>UVES</td><td>ECHELLE</td><td>--</td><td>079.D-0567(A)</td><td>UVES</td></tr>\n",
       "<tr><td>HD_172230</td><td>ADP.2013-09-26T23:23:35.340</td><td>279.728885</td><td>6.27061</td><td>59.998</td><td>4.72692e-07</td><td>6.83508e-07</td><td>spectrum</td><td>UVES</td><td>ECHELLE</td><td>--</td><td>079.D-0567(A)</td><td>UVES</td></tr>\n",
       "<tr><td>HD_172230</td><td>ADP.2013-09-26T23:23:35.327</td><td>279.728906</td><td>6.27063</td><td>99.998</td><td>6.650220000000001e-07</td><td>1.060546e-06</td><td>spectrum</td><td>UVES</td><td>ECHELLE</td><td>--</td><td>079.D-0567(A)</td><td>UVES</td></tr>\n",
       "</table><style>table.dataTable {clear: both; width: auto !important; margin: 0 !important;}\n",
       ".dataTables_info, .dataTables_length, .dataTables_filter, .dataTables_paginate{\n",
       "display: inline-block; margin-right: 1em; }\n",
       ".paginate_button { margin-right: 5px; }\n",
       "</style>\n",
       "<script>\n",
       "\n",
       "var astropy_sort_num = function(a, b) {\n",
       "    var a_num = parseFloat(a);\n",
       "    var b_num = parseFloat(b);\n",
       "\n",
       "    if (isNaN(a_num) && isNaN(b_num))\n",
       "        return ((a < b) ? -1 : ((a > b) ? 1 : 0));\n",
       "    else if (!isNaN(a_num) && !isNaN(b_num))\n",
       "        return ((a_num < b_num) ? -1 : ((a_num > b_num) ? 1 : 0));\n",
       "    else\n",
       "        return isNaN(a_num) ? -1 : 1;\n",
       "}\n",
       "\n",
       "require.config({paths: {\n",
       "    datatables: 'https://cdn.datatables.net/1.10.12/js/jquery.dataTables.min'\n",
       "}});\n",
       "require([\"datatables\"], function(){\n",
       "    console.log(\"$('#table139998867342544-636460').dataTable()\");\n",
       "    \n",
       "jQuery.extend( jQuery.fn.dataTableExt.oSort, {\n",
       "    \"optionalnum-asc\": astropy_sort_num,\n",
       "    \"optionalnum-desc\": function (a,b) { return -astropy_sort_num(a, b); }\n",
       "});\n",
       "\n",
       "    $('#table139998867342544-636460').dataTable({\n",
       "        order: [],\n",
       "        pageLength: 50,\n",
       "        lengthMenu: [[10, 25, 50, 100, 500, 1000, -1], [10, 25, 50, 100, 500, 1000, 'All']],\n",
       "        pagingType: \"full_numbers\",\n",
       "        columnDefs: [{targets: [2, 3, 4, 5, 6, 10], type: \"optionalnum\"}]\n",
       "    });\n",
       "});\n",
       "</script>\n"
      ],
      "text/plain": [
       "<IPython.core.display.HTML object>"
      ]
     },
     "execution_count": 6,
     "metadata": {},
     "output_type": "execute_result"
    }
   ],
   "source": [
    "result_from_queries[1].show_in_notebook(show_row_index=False)"
   ]
  },
  {
   "cell_type": "markdown",
   "metadata": {},
   "source": [
    "#### Bonus: the Archive Science Portal (ASP)\n",
    "\n",
    "As a complementary approach, you can also explore the [Archive Science Portal](http://archive.eso.org/scienceportal/home) at specific locations. This could be done by running:\n",
    "\n",
    "```python\n",
    "from ESOAsg import archive_science_portal\n",
    "archive_science_portal.query_from_radec(position_list, radius=5.)\n",
    "```\n",
    "\n",
    "This should open different [Archive Science Portal](http://archive.eso.org/scienceportal/home) pages in your broswer (one per positions) pointing to the different regions of the sky you are quering."
   ]
  },
  {
   "cell_type": "code",
   "execution_count": 7,
   "metadata": {
    "scrolled": true
   },
   "outputs": [],
   "source": [
    "from ESOAsg import archive_science_portal\n",
    "archive_science_portal.query_from_radec(star_positions, radius=5., open_link=True, \n",
    "                                        data_types='spectrum', instruments='MUSE')"
   ]
  },
  {
   "cell_type": "markdown",
   "metadata": {},
   "source": [
    "## Download the Archive Data Products\n",
    "\n",
    "Now it is time to download the ADPs that you are interested in. This is done by passing the `dp_id` column to `archive_observations.download`.\n",
    "\n",
    "In this example, we are interested only to the optical data, so we limit the result of the queries to:\n",
    "\n",
    "`em_min>4.0e-7 & em_max<1.2e-6`\n",
    "\n",
    "where the limits in wavelength are expressed in meters. In other words, we are limiting the wavelength coverage to:\n",
    "\n",
    "$4000 \\mathring A < \\lambda < 12000 \\mathring A$"
   ]
  },
  {
   "cell_type": "code",
   "execution_count": 8,
   "metadata": {},
   "outputs": [
    {
     "name": "stderr",
     "output_type": "stream",
     "text": [
      "\u001b[1;32m[INFO]    ::\u001b[0m Your disk has:\n",
      "\u001b[1;32m[INFO]    ::\u001b[0m Total: 397.03 GB, Used: 397.03 GB, Free: 397.03 GB\n",
      "\u001b[1;31m[WARNING] ::\u001b[0m Not enough space on disk\n",
      "\u001b[1;30m[WORKING] ::\u001b[0m Retrieving file ADP.2017-10-26T20:37:15.937.fits\n",
      "\u001b[1;32m[INFO]    ::\u001b[0m File ADP.2017-10-26T20:37:15.937.fits downloaded\n",
      "\u001b[1;30m[WORKING] ::\u001b[0m Retrieving file ADP.2017-10-26T20:37:15.923.fits\n",
      "\u001b[1;32m[INFO]    ::\u001b[0m File ADP.2017-10-26T20:37:15.923.fits downloaded\n",
      "\u001b[1;30m[WORKING] ::\u001b[0m Retrieving file ADP.2017-10-26T20:37:15.940.fits\n",
      "\u001b[1;32m[INFO]    ::\u001b[0m File ADP.2017-10-26T20:37:15.940.fits downloaded\n",
      "\u001b[1;30m[WORKING] ::\u001b[0m Retrieving file ADP.2017-06-02T19:41:04.876.fits\n",
      "\u001b[1;32m[INFO]    ::\u001b[0m File ADP.2017-06-02T19:41:04.876.fits downloaded\n",
      "\u001b[1;30m[WORKING] ::\u001b[0m Retrieving file ADP.2017-10-26T20:37:15.925.fits\n",
      "\u001b[1;32m[INFO]    ::\u001b[0m File ADP.2017-10-26T20:37:15.925.fits downloaded\n",
      "\u001b[1;32m[INFO]    ::\u001b[0m Your disk has:\n",
      "\u001b[1;32m[INFO]    ::\u001b[0m Total: 397.03 GB, Used: 397.03 GB, Free: 397.03 GB\n",
      "\u001b[1;31m[WARNING] ::\u001b[0m Not enough space on disk\n",
      "\u001b[1;30m[WORKING] ::\u001b[0m Retrieving file ADP.2014-05-15T16:36:52.997.fits\n",
      "\u001b[1;32m[INFO]    ::\u001b[0m File ADP.2014-05-15T16:36:52.997.fits downloaded\n",
      "\u001b[1;30m[WORKING] ::\u001b[0m Retrieving file ADP.2013-09-26T23:23:35.267.fits\n",
      "\u001b[1;32m[INFO]    ::\u001b[0m File ADP.2013-09-26T23:23:35.267.fits downloaded\n",
      "\u001b[1;30m[WORKING] ::\u001b[0m Retrieving file ADP.2014-05-15T16:36:53.210.fits\n",
      "\u001b[1;32m[INFO]    ::\u001b[0m File ADP.2014-05-15T16:36:53.210.fits downloaded\n",
      "\u001b[1;30m[WORKING] ::\u001b[0m Retrieving file ADP.2013-09-26T23:23:35.340.fits\n",
      "\u001b[1;32m[INFO]    ::\u001b[0m File ADP.2013-09-26T23:23:35.340.fits downloaded\n",
      "\u001b[1;30m[WORKING] ::\u001b[0m Retrieving file ADP.2013-09-26T23:23:35.327.fits\n",
      "\u001b[1;32m[INFO]    ::\u001b[0m File ADP.2013-09-26T23:23:35.327.fits downloaded\n"
     ]
    }
   ],
   "source": [
    "for result_table in result_from_queries:\n",
    "    mask_optical = (result_table['em_max'].data.data < 1.2e-6 ) & \\\n",
    "        ( result_table['em_min'].data.data > 4.0e-7 )\n",
    "    archive_observations.download(result_table['dp_id'][mask_optical])"
   ]
  },
  {
   "cell_type": "markdown",
   "metadata": {},
   "source": [
    "## Explore the data\n",
    "\n",
    "Now the `MUSE`, `XSHOOTER`, and `UVES` optical spectra of `HD 057060` and `HD 172230` are on disk. You can explore them with your favourite tools. \n",
    "\n",
    "For instance:"
   ]
  },
  {
   "cell_type": "code",
   "execution_count": 11,
   "metadata": {},
   "outputs": [],
   "source": [
    "def extract_spectrum(fits_file, instrument, verbose=False):\n",
    "    speed_of_light = 299792.458 # km/s\n",
    "    spectrum = fits.open(fits_file)[1]\n",
    "    if instrument == 'MUSE':\n",
    "        wl_corr, fl_corr = 1., 1.\n",
    "    elif instrument == 'XSHOOTER':\n",
    "        # convert wavelengths to Ang. and perform barycentric correction:\n",
    "        barycorr = fits.open(fits_file)[0].header['HIERARCH ESO QC VRAD BARYCOR']\n",
    "        wl_corr, fl_corr = 10. * (1. + (barycorr/speed_of_light)), 1.\n",
    "    elif instrument == 'UVES':\n",
    "        # perform barycentric correction and convert flux to erg cm**(-2) s**(-1) angstrom**(-1)\n",
    "        barycorr = fits.open(fits_file)[0].header['HIERARCH ESO QC VRAD BARYCOR']\n",
    "        wl_corr, fl_corr = (1. + (barycorr/speed_of_light)), 1e-16\n",
    "    spectrum_wave = spectrum.data['WAVE'][0] * wl_corr\n",
    "    spectrum_flux = spectrum.data['FLUX'][0] * fl_corr\n",
    "    spectrum_err = spectrum.data['ERR'][0] * fl_corr    \n",
    "    if verbose:\n",
    "        print('Content of the {} spectrum: \\n {} \\n'.format(instrument, spectrum.columns))\n",
    "    return spectrum_wave, spectrum_flux, spectrum_err     "
   ]
  },
  {
   "cell_type": "markdown",
   "metadata": {},
   "source": [
    "#### HD 057060\n",
    "Normalize spectra from different instrument at $8000 \\mathring A$ and show the different shapes:"
   ]
  },
  {
   "cell_type": "code",
   "execution_count": 12,
   "metadata": {
    "scrolled": false
   },
   "outputs": [
    {
     "ename": "FileNotFoundError",
     "evalue": "[Errno 2] No such file or directory: 'ADP.2020-02-26T15:36:25.254.fits'",
     "output_type": "error",
     "traceback": [
      "\u001b[0;31m---------------------------------------------------------------------------\u001b[0m",
      "\u001b[0;31mFileNotFoundError\u001b[0m                         Traceback (most recent call last)",
      "\u001b[0;32m<ipython-input-12-b8a62cfa5a28>\u001b[0m in \u001b[0;36m<module>\u001b[0;34m\u001b[0m\n\u001b[1;32m      2\u001b[0m \u001b[0;31m# MUSE:\u001b[0m\u001b[0;34m\u001b[0m\u001b[0;34m\u001b[0m\u001b[0;34m\u001b[0m\u001b[0m\n\u001b[1;32m      3\u001b[0m spectrum_muse_wave, spectrum_muse_flux, spectrum_muse_err = extract_spectrum('ADP.2020-02-26T15:36:25.254.fits',\n\u001b[0;32m----> 4\u001b[0;31m                                                                             'MUSE', verbose=True)\n\u001b[0m\u001b[1;32m      5\u001b[0m \u001b[0;31m# XSHOOTER\u001b[0m\u001b[0;34m\u001b[0m\u001b[0;34m\u001b[0m\u001b[0;34m\u001b[0m\u001b[0m\n\u001b[1;32m      6\u001b[0m spectrum_xshooter_wave, spectrum_xshooter_flux, spectrum_xshooter_err = extract_spectrum('ADP.2017-06-02T19:41:04.876.fits',\n",
      "\u001b[0;32m<ipython-input-11-31f0c2cfdfd3>\u001b[0m in \u001b[0;36mextract_spectrum\u001b[0;34m(fits_file, instrument, verbose)\u001b[0m\n\u001b[1;32m      1\u001b[0m \u001b[0;32mdef\u001b[0m \u001b[0mextract_spectrum\u001b[0m\u001b[0;34m(\u001b[0m\u001b[0mfits_file\u001b[0m\u001b[0;34m,\u001b[0m \u001b[0minstrument\u001b[0m\u001b[0;34m,\u001b[0m \u001b[0mverbose\u001b[0m\u001b[0;34m=\u001b[0m\u001b[0;32mFalse\u001b[0m\u001b[0;34m)\u001b[0m\u001b[0;34m:\u001b[0m\u001b[0;34m\u001b[0m\u001b[0;34m\u001b[0m\u001b[0m\n\u001b[1;32m      2\u001b[0m     \u001b[0mspeed_of_light\u001b[0m \u001b[0;34m=\u001b[0m \u001b[0;36m299792.458\u001b[0m \u001b[0;31m# km/s\u001b[0m\u001b[0;34m\u001b[0m\u001b[0;34m\u001b[0m\u001b[0m\n\u001b[0;32m----> 3\u001b[0;31m     \u001b[0mspectrum\u001b[0m \u001b[0;34m=\u001b[0m \u001b[0mfits\u001b[0m\u001b[0;34m.\u001b[0m\u001b[0mopen\u001b[0m\u001b[0;34m(\u001b[0m\u001b[0mfits_file\u001b[0m\u001b[0;34m)\u001b[0m\u001b[0;34m[\u001b[0m\u001b[0;36m1\u001b[0m\u001b[0;34m]\u001b[0m\u001b[0;34m\u001b[0m\u001b[0;34m\u001b[0m\u001b[0m\n\u001b[0m\u001b[1;32m      4\u001b[0m     \u001b[0;32mif\u001b[0m \u001b[0minstrument\u001b[0m \u001b[0;34m==\u001b[0m \u001b[0;34m'MUSE'\u001b[0m\u001b[0;34m:\u001b[0m\u001b[0;34m\u001b[0m\u001b[0;34m\u001b[0m\u001b[0m\n\u001b[1;32m      5\u001b[0m         \u001b[0mwl_corr\u001b[0m\u001b[0;34m,\u001b[0m \u001b[0mfl_corr\u001b[0m \u001b[0;34m=\u001b[0m \u001b[0;36m1.\u001b[0m\u001b[0;34m,\u001b[0m \u001b[0;36m1.\u001b[0m\u001b[0;34m\u001b[0m\u001b[0;34m\u001b[0m\u001b[0m\n",
      "\u001b[0;32m/scratch/Extern/anaconda3/envs/py37/lib/python3.7/site-packages/astropy/io/fits/hdu/hdulist.py\u001b[0m in \u001b[0;36mfitsopen\u001b[0;34m(name, mode, memmap, save_backup, cache, lazy_load_hdus, **kwargs)\u001b[0m\n\u001b[1;32m    162\u001b[0m \u001b[0;34m\u001b[0m\u001b[0m\n\u001b[1;32m    163\u001b[0m     return HDUList.fromfile(name, mode, memmap, save_backup, cache,\n\u001b[0;32m--> 164\u001b[0;31m                             lazy_load_hdus, **kwargs)\n\u001b[0m\u001b[1;32m    165\u001b[0m \u001b[0;34m\u001b[0m\u001b[0m\n\u001b[1;32m    166\u001b[0m \u001b[0;34m\u001b[0m\u001b[0m\n",
      "\u001b[0;32m/scratch/Extern/anaconda3/envs/py37/lib/python3.7/site-packages/astropy/io/fits/hdu/hdulist.py\u001b[0m in \u001b[0;36mfromfile\u001b[0;34m(cls, fileobj, mode, memmap, save_backup, cache, lazy_load_hdus, **kwargs)\u001b[0m\n\u001b[1;32m    400\u001b[0m         return cls._readfrom(fileobj=fileobj, mode=mode, memmap=memmap,\n\u001b[1;32m    401\u001b[0m                              \u001b[0msave_backup\u001b[0m\u001b[0;34m=\u001b[0m\u001b[0msave_backup\u001b[0m\u001b[0;34m,\u001b[0m \u001b[0mcache\u001b[0m\u001b[0;34m=\u001b[0m\u001b[0mcache\u001b[0m\u001b[0;34m,\u001b[0m\u001b[0;34m\u001b[0m\u001b[0;34m\u001b[0m\u001b[0m\n\u001b[0;32m--> 402\u001b[0;31m                              lazy_load_hdus=lazy_load_hdus, **kwargs)\n\u001b[0m\u001b[1;32m    403\u001b[0m \u001b[0;34m\u001b[0m\u001b[0m\n\u001b[1;32m    404\u001b[0m     \u001b[0;34m@\u001b[0m\u001b[0mclassmethod\u001b[0m\u001b[0;34m\u001b[0m\u001b[0;34m\u001b[0m\u001b[0m\n",
      "\u001b[0;32m/scratch/Extern/anaconda3/envs/py37/lib/python3.7/site-packages/astropy/io/fits/hdu/hdulist.py\u001b[0m in \u001b[0;36m_readfrom\u001b[0;34m(cls, fileobj, data, mode, memmap, cache, lazy_load_hdus, **kwargs)\u001b[0m\n\u001b[1;32m   1049\u001b[0m             \u001b[0;32mif\u001b[0m \u001b[0;32mnot\u001b[0m \u001b[0misinstance\u001b[0m\u001b[0;34m(\u001b[0m\u001b[0mfileobj\u001b[0m\u001b[0;34m,\u001b[0m \u001b[0m_File\u001b[0m\u001b[0;34m)\u001b[0m\u001b[0;34m:\u001b[0m\u001b[0;34m\u001b[0m\u001b[0;34m\u001b[0m\u001b[0m\n\u001b[1;32m   1050\u001b[0m                 \u001b[0;31m# instantiate a FITS file object (ffo)\u001b[0m\u001b[0;34m\u001b[0m\u001b[0;34m\u001b[0m\u001b[0;34m\u001b[0m\u001b[0m\n\u001b[0;32m-> 1051\u001b[0;31m                 \u001b[0mfileobj\u001b[0m \u001b[0;34m=\u001b[0m \u001b[0m_File\u001b[0m\u001b[0;34m(\u001b[0m\u001b[0mfileobj\u001b[0m\u001b[0;34m,\u001b[0m \u001b[0mmode\u001b[0m\u001b[0;34m=\u001b[0m\u001b[0mmode\u001b[0m\u001b[0;34m,\u001b[0m \u001b[0mmemmap\u001b[0m\u001b[0;34m=\u001b[0m\u001b[0mmemmap\u001b[0m\u001b[0;34m,\u001b[0m \u001b[0mcache\u001b[0m\u001b[0;34m=\u001b[0m\u001b[0mcache\u001b[0m\u001b[0;34m)\u001b[0m\u001b[0;34m\u001b[0m\u001b[0;34m\u001b[0m\u001b[0m\n\u001b[0m\u001b[1;32m   1052\u001b[0m             \u001b[0;31m# The Astropy mode is determined by the _File initializer if the\u001b[0m\u001b[0;34m\u001b[0m\u001b[0;34m\u001b[0m\u001b[0;34m\u001b[0m\u001b[0m\n\u001b[1;32m   1053\u001b[0m             \u001b[0;31m# supplied mode was None\u001b[0m\u001b[0;34m\u001b[0m\u001b[0;34m\u001b[0m\u001b[0;34m\u001b[0m\u001b[0m\n",
      "\u001b[0;32m/scratch/Extern/anaconda3/envs/py37/lib/python3.7/site-packages/astropy/utils/decorators.py\u001b[0m in \u001b[0;36mwrapper\u001b[0;34m(*args, **kwargs)\u001b[0m\n\u001b[1;32m    533\u001b[0m                     \u001b[0mwarnings\u001b[0m\u001b[0;34m.\u001b[0m\u001b[0mwarn\u001b[0m\u001b[0;34m(\u001b[0m\u001b[0mmessage\u001b[0m\u001b[0;34m,\u001b[0m \u001b[0mwarning_type\u001b[0m\u001b[0;34m,\u001b[0m \u001b[0mstacklevel\u001b[0m\u001b[0;34m=\u001b[0m\u001b[0;36m2\u001b[0m\u001b[0;34m)\u001b[0m\u001b[0;34m\u001b[0m\u001b[0;34m\u001b[0m\u001b[0m\n\u001b[1;32m    534\u001b[0m \u001b[0;34m\u001b[0m\u001b[0m\n\u001b[0;32m--> 535\u001b[0;31m             \u001b[0;32mreturn\u001b[0m \u001b[0mfunction\u001b[0m\u001b[0;34m(\u001b[0m\u001b[0;34m*\u001b[0m\u001b[0margs\u001b[0m\u001b[0;34m,\u001b[0m \u001b[0;34m**\u001b[0m\u001b[0mkwargs\u001b[0m\u001b[0;34m)\u001b[0m\u001b[0;34m\u001b[0m\u001b[0;34m\u001b[0m\u001b[0m\n\u001b[0m\u001b[1;32m    536\u001b[0m \u001b[0;34m\u001b[0m\u001b[0m\n\u001b[1;32m    537\u001b[0m         \u001b[0;32mreturn\u001b[0m \u001b[0mwrapper\u001b[0m\u001b[0;34m\u001b[0m\u001b[0;34m\u001b[0m\u001b[0m\n",
      "\u001b[0;32m/scratch/Extern/anaconda3/envs/py37/lib/python3.7/site-packages/astropy/io/fits/file.py\u001b[0m in \u001b[0;36m__init__\u001b[0;34m(self, fileobj, mode, memmap, overwrite, cache)\u001b[0m\n\u001b[1;32m    173\u001b[0m             \u001b[0mself\u001b[0m\u001b[0;34m.\u001b[0m\u001b[0m_open_fileobj\u001b[0m\u001b[0;34m(\u001b[0m\u001b[0mfileobj\u001b[0m\u001b[0;34m,\u001b[0m \u001b[0mmode\u001b[0m\u001b[0;34m,\u001b[0m \u001b[0moverwrite\u001b[0m\u001b[0;34m)\u001b[0m\u001b[0;34m\u001b[0m\u001b[0;34m\u001b[0m\u001b[0m\n\u001b[1;32m    174\u001b[0m         \u001b[0;32melif\u001b[0m \u001b[0misinstance\u001b[0m\u001b[0;34m(\u001b[0m\u001b[0mfileobj\u001b[0m\u001b[0;34m,\u001b[0m \u001b[0;34m(\u001b[0m\u001b[0mstr\u001b[0m\u001b[0;34m,\u001b[0m \u001b[0mbytes\u001b[0m\u001b[0;34m)\u001b[0m\u001b[0;34m)\u001b[0m\u001b[0;34m:\u001b[0m\u001b[0;34m\u001b[0m\u001b[0;34m\u001b[0m\u001b[0m\n\u001b[0;32m--> 175\u001b[0;31m             \u001b[0mself\u001b[0m\u001b[0;34m.\u001b[0m\u001b[0m_open_filename\u001b[0m\u001b[0;34m(\u001b[0m\u001b[0mfileobj\u001b[0m\u001b[0;34m,\u001b[0m \u001b[0mmode\u001b[0m\u001b[0;34m,\u001b[0m \u001b[0moverwrite\u001b[0m\u001b[0;34m)\u001b[0m\u001b[0;34m\u001b[0m\u001b[0;34m\u001b[0m\u001b[0m\n\u001b[0m\u001b[1;32m    176\u001b[0m         \u001b[0;32melse\u001b[0m\u001b[0;34m:\u001b[0m\u001b[0;34m\u001b[0m\u001b[0;34m\u001b[0m\u001b[0m\n\u001b[1;32m    177\u001b[0m             \u001b[0mself\u001b[0m\u001b[0;34m.\u001b[0m\u001b[0m_open_filelike\u001b[0m\u001b[0;34m(\u001b[0m\u001b[0mfileobj\u001b[0m\u001b[0;34m,\u001b[0m \u001b[0mmode\u001b[0m\u001b[0;34m,\u001b[0m \u001b[0moverwrite\u001b[0m\u001b[0;34m)\u001b[0m\u001b[0;34m\u001b[0m\u001b[0;34m\u001b[0m\u001b[0m\n",
      "\u001b[0;32m/scratch/Extern/anaconda3/envs/py37/lib/python3.7/site-packages/astropy/io/fits/file.py\u001b[0m in \u001b[0;36m_open_filename\u001b[0;34m(self, filename, mode, overwrite)\u001b[0m\n\u001b[1;32m    562\u001b[0m \u001b[0;34m\u001b[0m\u001b[0m\n\u001b[1;32m    563\u001b[0m         \u001b[0;32mif\u001b[0m \u001b[0;32mnot\u001b[0m \u001b[0mself\u001b[0m\u001b[0;34m.\u001b[0m\u001b[0m_try_read_compressed\u001b[0m\u001b[0;34m(\u001b[0m\u001b[0mself\u001b[0m\u001b[0;34m.\u001b[0m\u001b[0mname\u001b[0m\u001b[0;34m,\u001b[0m \u001b[0mmagic\u001b[0m\u001b[0;34m,\u001b[0m \u001b[0mmode\u001b[0m\u001b[0;34m,\u001b[0m \u001b[0mext\u001b[0m\u001b[0;34m=\u001b[0m\u001b[0mext\u001b[0m\u001b[0;34m)\u001b[0m\u001b[0;34m:\u001b[0m\u001b[0;34m\u001b[0m\u001b[0;34m\u001b[0m\u001b[0m\n\u001b[0;32m--> 564\u001b[0;31m             \u001b[0mself\u001b[0m\u001b[0;34m.\u001b[0m\u001b[0m_file\u001b[0m \u001b[0;34m=\u001b[0m \u001b[0mfileobj_open\u001b[0m\u001b[0;34m(\u001b[0m\u001b[0mself\u001b[0m\u001b[0;34m.\u001b[0m\u001b[0mname\u001b[0m\u001b[0;34m,\u001b[0m \u001b[0mIO_FITS_MODES\u001b[0m\u001b[0;34m[\u001b[0m\u001b[0mmode\u001b[0m\u001b[0;34m]\u001b[0m\u001b[0;34m)\u001b[0m\u001b[0;34m\u001b[0m\u001b[0;34m\u001b[0m\u001b[0m\n\u001b[0m\u001b[1;32m    565\u001b[0m             \u001b[0mself\u001b[0m\u001b[0;34m.\u001b[0m\u001b[0mclose_on_error\u001b[0m \u001b[0;34m=\u001b[0m \u001b[0;32mTrue\u001b[0m\u001b[0;34m\u001b[0m\u001b[0;34m\u001b[0m\u001b[0m\n\u001b[1;32m    566\u001b[0m \u001b[0;34m\u001b[0m\u001b[0m\n",
      "\u001b[0;32m/scratch/Extern/anaconda3/envs/py37/lib/python3.7/site-packages/astropy/io/fits/util.py\u001b[0m in \u001b[0;36mfileobj_open\u001b[0;34m(filename, mode)\u001b[0m\n\u001b[1;32m    395\u001b[0m     \"\"\"\n\u001b[1;32m    396\u001b[0m \u001b[0;34m\u001b[0m\u001b[0m\n\u001b[0;32m--> 397\u001b[0;31m     \u001b[0;32mreturn\u001b[0m \u001b[0mopen\u001b[0m\u001b[0;34m(\u001b[0m\u001b[0mfilename\u001b[0m\u001b[0;34m,\u001b[0m \u001b[0mmode\u001b[0m\u001b[0;34m,\u001b[0m \u001b[0mbuffering\u001b[0m\u001b[0;34m=\u001b[0m\u001b[0;36m0\u001b[0m\u001b[0;34m)\u001b[0m\u001b[0;34m\u001b[0m\u001b[0;34m\u001b[0m\u001b[0m\n\u001b[0m\u001b[1;32m    398\u001b[0m \u001b[0;34m\u001b[0m\u001b[0m\n\u001b[1;32m    399\u001b[0m \u001b[0;34m\u001b[0m\u001b[0m\n",
      "\u001b[0;31mFileNotFoundError\u001b[0m: [Errno 2] No such file or directory: 'ADP.2020-02-26T15:36:25.254.fits'"
     ]
    }
   ],
   "source": [
    "# Load data\n",
    "# MUSE:\n",
    "spectrum_muse_wave, spectrum_muse_flux, spectrum_muse_err = extract_spectrum('ADP.2020-02-26T15:36:25.254.fits',\n",
    "                                                                            'MUSE', verbose=True)\n",
    "# XSHOOTER\n",
    "spectrum_xshooter_wave, spectrum_xshooter_flux, spectrum_xshooter_err = extract_spectrum('ADP.2017-06-02T19:41:04.876.fits',\n",
    "                                                                                         'XSHOOTER', verbose=True)\n",
    "# UVES\n",
    "spectrum_uves_wave, spectrum_uves_flux, spectrum_uves_err = extract_spectrum('ADP.2017-10-26T20:37:15.937.fits',\n",
    "                                                                                         'UVES', verbose=True)\n",
    "\n",
    "# Rescale fluxes at ~8000Ang.\n",
    "wl_norm_min, wl_norm_max = 7950., 8050.\n",
    "normalization_muse = np.nanmedian(spectrum_muse_flux[(spectrum_muse_wave>wl_norm_min) & \n",
    "                                                     (spectrum_muse_wave<wl_norm_max)])\n",
    "normalization_xshooter = np.nanmedian(spectrum_xshooter_flux[(spectrum_xshooter_wave>wl_norm_min) & \n",
    "                                                             (spectrum_xshooter_wave<wl_norm_max)])\n",
    "normalization_uves = np.nanmedian(spectrum_uves_flux[(spectrum_uves_wave>wl_norm_min) & \n",
    "                                                     (spectrum_uves_wave<wl_norm_max)])\n",
    "spectrum_xshooter_flux_rescaled = spectrum_xshooter_flux * normalization_muse / normalization_xshooter\n",
    "spectrum_uves_flux_rescaled = spectrum_uves_flux * normalization_muse / normalization_uves\n",
    "\n",
    "# Plor re-normalized spectra\n",
    "plt.figure()\n",
    "plt.axvspan(wl_norm_min, wl_norm_max, alpha=0.5, color='darkgrey')\n",
    "plt.plot(spectrum_uves_wave, spectrum_uves_flux, c='forestgreen', alpha=0.3)\n",
    "plt.plot(spectrum_uves_wave, spectrum_uves_flux_rescaled, label=r'UVES (rescaled)', c='forestgreen')\n",
    "plt.plot(spectrum_xshooter_wave, spectrum_xshooter_flux, c='dodgerblue', alpha=0.3)\n",
    "plt.plot(spectrum_xshooter_wave, spectrum_xshooter_flux_rescaled, label=r'XSHOOTER (rescaled)', c='dodgerblue')\n",
    "plt.plot(spectrum_muse_wave, spectrum_muse_flux, label=r'MUSE', c='crimson')\n",
    "plt.xlim(6000., 8500.)\n",
    "plt.ylim(0., 0.45e-10)\n",
    "plt.xlabel(r'Observed Wavelength [$\\AA$]')\n",
    "plt.ylabel(r'Flux Density [erg s$^{-1}$ cm$^{-2}$ $\\AA^{-1}$]')\n",
    "plt.title(r'HD 057060')\n",
    "plt.legend(loc='upper right')\n",
    "plt.show()\n",
    "plt.savefig('HD057060.jpg', format='jpg', quality=99, bbox_inches='tight')\n"
   ]
  },
  {
   "cell_type": "markdown",
   "metadata": {},
   "source": [
    "#### HD 172230\n",
    "Cross calibrate wavelength solution to the highest resolution instrument and calculate radial velocities"
   ]
  },
  {
   "cell_type": "code",
   "execution_count": 13,
   "metadata": {
    "scrolled": false
   },
   "outputs": [
    {
     "ename": "FileNotFoundError",
     "evalue": "[Errno 2] No such file or directory: 'ADP.2020-02-26T15:36:25.276.fits'",
     "output_type": "error",
     "traceback": [
      "\u001b[0;31m---------------------------------------------------------------------------\u001b[0m",
      "\u001b[0;31mFileNotFoundError\u001b[0m                         Traceback (most recent call last)",
      "\u001b[0;32m<ipython-input-13-f87eda99c58f>\u001b[0m in \u001b[0;36m<module>\u001b[0;34m\u001b[0m\n\u001b[1;32m      2\u001b[0m \u001b[0;31m# MUSE:\u001b[0m\u001b[0;34m\u001b[0m\u001b[0;34m\u001b[0m\u001b[0;34m\u001b[0m\u001b[0m\n\u001b[1;32m      3\u001b[0m spectrum_muse_wave, spectrum_muse_flux, spectrum_muse_err = extract_spectrum('ADP.2020-02-26T15:36:25.276.fits',\n\u001b[0;32m----> 4\u001b[0;31m                                                                             'MUSE')\n\u001b[0m\u001b[1;32m      5\u001b[0m \u001b[0;31m# XSHOOTER\u001b[0m\u001b[0;34m\u001b[0m\u001b[0;34m\u001b[0m\u001b[0;34m\u001b[0m\u001b[0m\n\u001b[1;32m      6\u001b[0m spectrum_xshooter_wave, spectrum_xshooter_flux, spectrum_xshooter_err = extract_spectrum('ADP.2014-05-15T16:36:52.997.fits',\n",
      "\u001b[0;32m<ipython-input-11-31f0c2cfdfd3>\u001b[0m in \u001b[0;36mextract_spectrum\u001b[0;34m(fits_file, instrument, verbose)\u001b[0m\n\u001b[1;32m      1\u001b[0m \u001b[0;32mdef\u001b[0m \u001b[0mextract_spectrum\u001b[0m\u001b[0;34m(\u001b[0m\u001b[0mfits_file\u001b[0m\u001b[0;34m,\u001b[0m \u001b[0minstrument\u001b[0m\u001b[0;34m,\u001b[0m \u001b[0mverbose\u001b[0m\u001b[0;34m=\u001b[0m\u001b[0;32mFalse\u001b[0m\u001b[0;34m)\u001b[0m\u001b[0;34m:\u001b[0m\u001b[0;34m\u001b[0m\u001b[0;34m\u001b[0m\u001b[0m\n\u001b[1;32m      2\u001b[0m     \u001b[0mspeed_of_light\u001b[0m \u001b[0;34m=\u001b[0m \u001b[0;36m299792.458\u001b[0m \u001b[0;31m# km/s\u001b[0m\u001b[0;34m\u001b[0m\u001b[0;34m\u001b[0m\u001b[0m\n\u001b[0;32m----> 3\u001b[0;31m     \u001b[0mspectrum\u001b[0m \u001b[0;34m=\u001b[0m \u001b[0mfits\u001b[0m\u001b[0;34m.\u001b[0m\u001b[0mopen\u001b[0m\u001b[0;34m(\u001b[0m\u001b[0mfits_file\u001b[0m\u001b[0;34m)\u001b[0m\u001b[0;34m[\u001b[0m\u001b[0;36m1\u001b[0m\u001b[0;34m]\u001b[0m\u001b[0;34m\u001b[0m\u001b[0;34m\u001b[0m\u001b[0m\n\u001b[0m\u001b[1;32m      4\u001b[0m     \u001b[0;32mif\u001b[0m \u001b[0minstrument\u001b[0m \u001b[0;34m==\u001b[0m \u001b[0;34m'MUSE'\u001b[0m\u001b[0;34m:\u001b[0m\u001b[0;34m\u001b[0m\u001b[0;34m\u001b[0m\u001b[0m\n\u001b[1;32m      5\u001b[0m         \u001b[0mwl_corr\u001b[0m\u001b[0;34m,\u001b[0m \u001b[0mfl_corr\u001b[0m \u001b[0;34m=\u001b[0m \u001b[0;36m1.\u001b[0m\u001b[0;34m,\u001b[0m \u001b[0;36m1.\u001b[0m\u001b[0;34m\u001b[0m\u001b[0;34m\u001b[0m\u001b[0m\n",
      "\u001b[0;32m/scratch/Extern/anaconda3/envs/py37/lib/python3.7/site-packages/astropy/io/fits/hdu/hdulist.py\u001b[0m in \u001b[0;36mfitsopen\u001b[0;34m(name, mode, memmap, save_backup, cache, lazy_load_hdus, **kwargs)\u001b[0m\n\u001b[1;32m    162\u001b[0m \u001b[0;34m\u001b[0m\u001b[0m\n\u001b[1;32m    163\u001b[0m     return HDUList.fromfile(name, mode, memmap, save_backup, cache,\n\u001b[0;32m--> 164\u001b[0;31m                             lazy_load_hdus, **kwargs)\n\u001b[0m\u001b[1;32m    165\u001b[0m \u001b[0;34m\u001b[0m\u001b[0m\n\u001b[1;32m    166\u001b[0m \u001b[0;34m\u001b[0m\u001b[0m\n",
      "\u001b[0;32m/scratch/Extern/anaconda3/envs/py37/lib/python3.7/site-packages/astropy/io/fits/hdu/hdulist.py\u001b[0m in \u001b[0;36mfromfile\u001b[0;34m(cls, fileobj, mode, memmap, save_backup, cache, lazy_load_hdus, **kwargs)\u001b[0m\n\u001b[1;32m    400\u001b[0m         return cls._readfrom(fileobj=fileobj, mode=mode, memmap=memmap,\n\u001b[1;32m    401\u001b[0m                              \u001b[0msave_backup\u001b[0m\u001b[0;34m=\u001b[0m\u001b[0msave_backup\u001b[0m\u001b[0;34m,\u001b[0m \u001b[0mcache\u001b[0m\u001b[0;34m=\u001b[0m\u001b[0mcache\u001b[0m\u001b[0;34m,\u001b[0m\u001b[0;34m\u001b[0m\u001b[0;34m\u001b[0m\u001b[0m\n\u001b[0;32m--> 402\u001b[0;31m                              lazy_load_hdus=lazy_load_hdus, **kwargs)\n\u001b[0m\u001b[1;32m    403\u001b[0m \u001b[0;34m\u001b[0m\u001b[0m\n\u001b[1;32m    404\u001b[0m     \u001b[0;34m@\u001b[0m\u001b[0mclassmethod\u001b[0m\u001b[0;34m\u001b[0m\u001b[0;34m\u001b[0m\u001b[0m\n",
      "\u001b[0;32m/scratch/Extern/anaconda3/envs/py37/lib/python3.7/site-packages/astropy/io/fits/hdu/hdulist.py\u001b[0m in \u001b[0;36m_readfrom\u001b[0;34m(cls, fileobj, data, mode, memmap, cache, lazy_load_hdus, **kwargs)\u001b[0m\n\u001b[1;32m   1049\u001b[0m             \u001b[0;32mif\u001b[0m \u001b[0;32mnot\u001b[0m \u001b[0misinstance\u001b[0m\u001b[0;34m(\u001b[0m\u001b[0mfileobj\u001b[0m\u001b[0;34m,\u001b[0m \u001b[0m_File\u001b[0m\u001b[0;34m)\u001b[0m\u001b[0;34m:\u001b[0m\u001b[0;34m\u001b[0m\u001b[0;34m\u001b[0m\u001b[0m\n\u001b[1;32m   1050\u001b[0m                 \u001b[0;31m# instantiate a FITS file object (ffo)\u001b[0m\u001b[0;34m\u001b[0m\u001b[0;34m\u001b[0m\u001b[0;34m\u001b[0m\u001b[0m\n\u001b[0;32m-> 1051\u001b[0;31m                 \u001b[0mfileobj\u001b[0m \u001b[0;34m=\u001b[0m \u001b[0m_File\u001b[0m\u001b[0;34m(\u001b[0m\u001b[0mfileobj\u001b[0m\u001b[0;34m,\u001b[0m \u001b[0mmode\u001b[0m\u001b[0;34m=\u001b[0m\u001b[0mmode\u001b[0m\u001b[0;34m,\u001b[0m \u001b[0mmemmap\u001b[0m\u001b[0;34m=\u001b[0m\u001b[0mmemmap\u001b[0m\u001b[0;34m,\u001b[0m \u001b[0mcache\u001b[0m\u001b[0;34m=\u001b[0m\u001b[0mcache\u001b[0m\u001b[0;34m)\u001b[0m\u001b[0;34m\u001b[0m\u001b[0;34m\u001b[0m\u001b[0m\n\u001b[0m\u001b[1;32m   1052\u001b[0m             \u001b[0;31m# The Astropy mode is determined by the _File initializer if the\u001b[0m\u001b[0;34m\u001b[0m\u001b[0;34m\u001b[0m\u001b[0;34m\u001b[0m\u001b[0m\n\u001b[1;32m   1053\u001b[0m             \u001b[0;31m# supplied mode was None\u001b[0m\u001b[0;34m\u001b[0m\u001b[0;34m\u001b[0m\u001b[0;34m\u001b[0m\u001b[0m\n",
      "\u001b[0;32m/scratch/Extern/anaconda3/envs/py37/lib/python3.7/site-packages/astropy/utils/decorators.py\u001b[0m in \u001b[0;36mwrapper\u001b[0;34m(*args, **kwargs)\u001b[0m\n\u001b[1;32m    533\u001b[0m                     \u001b[0mwarnings\u001b[0m\u001b[0;34m.\u001b[0m\u001b[0mwarn\u001b[0m\u001b[0;34m(\u001b[0m\u001b[0mmessage\u001b[0m\u001b[0;34m,\u001b[0m \u001b[0mwarning_type\u001b[0m\u001b[0;34m,\u001b[0m \u001b[0mstacklevel\u001b[0m\u001b[0;34m=\u001b[0m\u001b[0;36m2\u001b[0m\u001b[0;34m)\u001b[0m\u001b[0;34m\u001b[0m\u001b[0;34m\u001b[0m\u001b[0m\n\u001b[1;32m    534\u001b[0m \u001b[0;34m\u001b[0m\u001b[0m\n\u001b[0;32m--> 535\u001b[0;31m             \u001b[0;32mreturn\u001b[0m \u001b[0mfunction\u001b[0m\u001b[0;34m(\u001b[0m\u001b[0;34m*\u001b[0m\u001b[0margs\u001b[0m\u001b[0;34m,\u001b[0m \u001b[0;34m**\u001b[0m\u001b[0mkwargs\u001b[0m\u001b[0;34m)\u001b[0m\u001b[0;34m\u001b[0m\u001b[0;34m\u001b[0m\u001b[0m\n\u001b[0m\u001b[1;32m    536\u001b[0m \u001b[0;34m\u001b[0m\u001b[0m\n\u001b[1;32m    537\u001b[0m         \u001b[0;32mreturn\u001b[0m \u001b[0mwrapper\u001b[0m\u001b[0;34m\u001b[0m\u001b[0;34m\u001b[0m\u001b[0m\n",
      "\u001b[0;32m/scratch/Extern/anaconda3/envs/py37/lib/python3.7/site-packages/astropy/io/fits/file.py\u001b[0m in \u001b[0;36m__init__\u001b[0;34m(self, fileobj, mode, memmap, overwrite, cache)\u001b[0m\n\u001b[1;32m    173\u001b[0m             \u001b[0mself\u001b[0m\u001b[0;34m.\u001b[0m\u001b[0m_open_fileobj\u001b[0m\u001b[0;34m(\u001b[0m\u001b[0mfileobj\u001b[0m\u001b[0;34m,\u001b[0m \u001b[0mmode\u001b[0m\u001b[0;34m,\u001b[0m \u001b[0moverwrite\u001b[0m\u001b[0;34m)\u001b[0m\u001b[0;34m\u001b[0m\u001b[0;34m\u001b[0m\u001b[0m\n\u001b[1;32m    174\u001b[0m         \u001b[0;32melif\u001b[0m \u001b[0misinstance\u001b[0m\u001b[0;34m(\u001b[0m\u001b[0mfileobj\u001b[0m\u001b[0;34m,\u001b[0m \u001b[0;34m(\u001b[0m\u001b[0mstr\u001b[0m\u001b[0;34m,\u001b[0m \u001b[0mbytes\u001b[0m\u001b[0;34m)\u001b[0m\u001b[0;34m)\u001b[0m\u001b[0;34m:\u001b[0m\u001b[0;34m\u001b[0m\u001b[0;34m\u001b[0m\u001b[0m\n\u001b[0;32m--> 175\u001b[0;31m             \u001b[0mself\u001b[0m\u001b[0;34m.\u001b[0m\u001b[0m_open_filename\u001b[0m\u001b[0;34m(\u001b[0m\u001b[0mfileobj\u001b[0m\u001b[0;34m,\u001b[0m \u001b[0mmode\u001b[0m\u001b[0;34m,\u001b[0m \u001b[0moverwrite\u001b[0m\u001b[0;34m)\u001b[0m\u001b[0;34m\u001b[0m\u001b[0;34m\u001b[0m\u001b[0m\n\u001b[0m\u001b[1;32m    176\u001b[0m         \u001b[0;32melse\u001b[0m\u001b[0;34m:\u001b[0m\u001b[0;34m\u001b[0m\u001b[0;34m\u001b[0m\u001b[0m\n\u001b[1;32m    177\u001b[0m             \u001b[0mself\u001b[0m\u001b[0;34m.\u001b[0m\u001b[0m_open_filelike\u001b[0m\u001b[0;34m(\u001b[0m\u001b[0mfileobj\u001b[0m\u001b[0;34m,\u001b[0m \u001b[0mmode\u001b[0m\u001b[0;34m,\u001b[0m \u001b[0moverwrite\u001b[0m\u001b[0;34m)\u001b[0m\u001b[0;34m\u001b[0m\u001b[0;34m\u001b[0m\u001b[0m\n",
      "\u001b[0;32m/scratch/Extern/anaconda3/envs/py37/lib/python3.7/site-packages/astropy/io/fits/file.py\u001b[0m in \u001b[0;36m_open_filename\u001b[0;34m(self, filename, mode, overwrite)\u001b[0m\n\u001b[1;32m    562\u001b[0m \u001b[0;34m\u001b[0m\u001b[0m\n\u001b[1;32m    563\u001b[0m         \u001b[0;32mif\u001b[0m \u001b[0;32mnot\u001b[0m \u001b[0mself\u001b[0m\u001b[0;34m.\u001b[0m\u001b[0m_try_read_compressed\u001b[0m\u001b[0;34m(\u001b[0m\u001b[0mself\u001b[0m\u001b[0;34m.\u001b[0m\u001b[0mname\u001b[0m\u001b[0;34m,\u001b[0m \u001b[0mmagic\u001b[0m\u001b[0;34m,\u001b[0m \u001b[0mmode\u001b[0m\u001b[0;34m,\u001b[0m \u001b[0mext\u001b[0m\u001b[0;34m=\u001b[0m\u001b[0mext\u001b[0m\u001b[0;34m)\u001b[0m\u001b[0;34m:\u001b[0m\u001b[0;34m\u001b[0m\u001b[0;34m\u001b[0m\u001b[0m\n\u001b[0;32m--> 564\u001b[0;31m             \u001b[0mself\u001b[0m\u001b[0;34m.\u001b[0m\u001b[0m_file\u001b[0m \u001b[0;34m=\u001b[0m \u001b[0mfileobj_open\u001b[0m\u001b[0;34m(\u001b[0m\u001b[0mself\u001b[0m\u001b[0;34m.\u001b[0m\u001b[0mname\u001b[0m\u001b[0;34m,\u001b[0m \u001b[0mIO_FITS_MODES\u001b[0m\u001b[0;34m[\u001b[0m\u001b[0mmode\u001b[0m\u001b[0;34m]\u001b[0m\u001b[0;34m)\u001b[0m\u001b[0;34m\u001b[0m\u001b[0;34m\u001b[0m\u001b[0m\n\u001b[0m\u001b[1;32m    565\u001b[0m             \u001b[0mself\u001b[0m\u001b[0;34m.\u001b[0m\u001b[0mclose_on_error\u001b[0m \u001b[0;34m=\u001b[0m \u001b[0;32mTrue\u001b[0m\u001b[0;34m\u001b[0m\u001b[0;34m\u001b[0m\u001b[0m\n\u001b[1;32m    566\u001b[0m \u001b[0;34m\u001b[0m\u001b[0m\n",
      "\u001b[0;32m/scratch/Extern/anaconda3/envs/py37/lib/python3.7/site-packages/astropy/io/fits/util.py\u001b[0m in \u001b[0;36mfileobj_open\u001b[0;34m(filename, mode)\u001b[0m\n\u001b[1;32m    395\u001b[0m     \"\"\"\n\u001b[1;32m    396\u001b[0m \u001b[0;34m\u001b[0m\u001b[0m\n\u001b[0;32m--> 397\u001b[0;31m     \u001b[0;32mreturn\u001b[0m \u001b[0mopen\u001b[0m\u001b[0;34m(\u001b[0m\u001b[0mfilename\u001b[0m\u001b[0;34m,\u001b[0m \u001b[0mmode\u001b[0m\u001b[0;34m,\u001b[0m \u001b[0mbuffering\u001b[0m\u001b[0;34m=\u001b[0m\u001b[0;36m0\u001b[0m\u001b[0;34m)\u001b[0m\u001b[0;34m\u001b[0m\u001b[0;34m\u001b[0m\u001b[0m\n\u001b[0m\u001b[1;32m    398\u001b[0m \u001b[0;34m\u001b[0m\u001b[0m\n\u001b[1;32m    399\u001b[0m \u001b[0;34m\u001b[0m\u001b[0m\n",
      "\u001b[0;31mFileNotFoundError\u001b[0m: [Errno 2] No such file or directory: 'ADP.2020-02-26T15:36:25.276.fits'"
     ]
    }
   ],
   "source": [
    "# Load data\n",
    "# MUSE:\n",
    "spectrum_muse_wave, spectrum_muse_flux, spectrum_muse_err = extract_spectrum('ADP.2020-02-26T15:36:25.276.fits',\n",
    "                                                                            'MUSE')\n",
    "# XSHOOTER\n",
    "spectrum_xshooter_wave, spectrum_xshooter_flux, spectrum_xshooter_err = extract_spectrum('ADP.2014-05-15T16:36:52.997.fits',\n",
    "                                                                                         'XSHOOTER')\n",
    "# UVES\n",
    "spectrum_uves_wave, spectrum_uves_flux, spectrum_uves_err = extract_spectrum('ADP.2013-09-26T23:23:35.340.fits',\n",
    "                                                                                         'UVES')\n",
    "\n",
    "# Normalize flux around H-alpha region:\n",
    "wl_left_min, wl_left_max = 6423., 6428.\n",
    "wl_right_min, wl_right_max = 6685., 6690.\n",
    "poly_order = 1\n",
    "\n",
    "muse_poly_mask = (( (spectrum_muse_wave>wl_left_min) & (spectrum_muse_wave<wl_left_max) ) |\n",
    "                  ( (spectrum_muse_wave>wl_right_min) & (spectrum_muse_wave<wl_right_max) ))\n",
    "muse_poly = np.polyfit(np.log10(spectrum_muse_wave[muse_poly_mask]), \n",
    "                       np.log10(spectrum_muse_flux[muse_poly_mask]), deg=1)\n",
    "spectrum_muse_flux_normalized = spectrum_muse_flux / 10.**(np.polyval(muse_poly,\n",
    "                                                                      np.log10(spectrum_muse_wave)))\n",
    "\n",
    "xshooter_poly_mask = (( (spectrum_xshooter_wave>wl_left_min) & (spectrum_xshooter_wave<wl_left_max) ) |\n",
    "                      ( (spectrum_xshooter_wave>wl_right_min) & (spectrum_xshooter_wave<wl_right_max) ))\n",
    "xshooter_poly = np.polyfit(np.log10(spectrum_xshooter_wave[xshooter_poly_mask]), \n",
    "                           np.log10(spectrum_xshooter_flux[xshooter_poly_mask]), deg=1)\n",
    "spectrum_xshooter_flux_normalized = spectrum_xshooter_flux / 10.**(np.polyval(xshooter_poly, \n",
    "                                                                              np.log10(spectrum_xshooter_wave)))\n",
    "\n",
    "uves_poly_mask = (( (spectrum_uves_wave>wl_left_min) & (spectrum_uves_wave<wl_left_max) ) |\n",
    "                      ( (spectrum_uves_wave>wl_right_min) & (spectrum_uves_wave<wl_right_max) ))\n",
    "uves_poly = np.polyfit(np.log10(spectrum_uves_wave[uves_poly_mask]), \n",
    "                           np.log10(spectrum_uves_flux[uves_poly_mask]), deg=1)\n",
    "spectrum_uves_flux_normalized =  spectrum_uves_flux / 10.**(np.polyval(uves_poly,\n",
    "                                                                       np.log10(spectrum_uves_wave)))\n",
    "\n",
    "# Plor re-normalized spectra\n",
    "plt.figure()\n",
    "radial_velocity = -36.80 # km/s\n",
    "plt.axvspan(radial_velocity-0.8, radial_velocity+0.8, alpha=0.5, color='darkgrey')\n",
    "spectrum_uves_vel = (spectrum_uves_wave/6562.793 - 1.) * 299792.458\n",
    "spectrum_xshooter_vel = (spectrum_xshooter_wave/6562.793 - 1.) * 299792.458\n",
    "spectrum_xshooter_vel_shifted = ((spectrum_xshooter_wave-0.5)/6562.793 - 1.) * 299792.458\n",
    "spectrum_muse_vel = (spectrum_muse_wave/6562.793 - 1.) * 299792.458\n",
    "\n",
    "plt.plot(spectrum_uves_vel, spectrum_uves_flux_normalized, label=r'UVES' + '\\n' + 'R~100000', c='forestgreen')\n",
    "plt.plot(spectrum_xshooter_vel, spectrum_xshooter_flux_normalized, c='dodgerblue', alpha=0.3)\n",
    "plt.plot(spectrum_xshooter_vel_shifted, spectrum_xshooter_flux_normalized, label=r'XSHOOTER (shifted)' + '\\n' + 'R~10000', c='dodgerblue')\n",
    "plt.plot(spectrum_muse_vel, spectrum_muse_flux_normalized, label=r'MUSE' + '\\n' + 'R~3000', c='crimson')\n",
    "plt.xlim(-1000., 1000.)\n",
    "plt.ylim(0.0, 1.1)\n",
    "plt.text(radial_velocity, 0.05, r'RV = (-36.8$\\pm$0.8) km s$^{-1}$', horizontalalignment='right')\n",
    "plt.xlabel(r'Velocity Relative to H$\\alpha$ [km s$^{-1}$]')\n",
    "plt.ylabel(r'Normalized Flux')\n",
    "plt.title(r'HD 172230 $-$ H$\\alpha$')\n",
    "plt.legend(loc='lower right')\n",
    "plt.show()\n",
    "plt.savefig('HD172230_6562.jpg', format='jpg', quality=99, bbox_inches='tight')\n",
    "\n",
    "# Plor re-normalized spectra - zoom\n",
    "plt.figure()\n",
    "plt.plot(spectrum_uves_wave, spectrum_uves_flux_normalized, label=r'UVES' + '\\n' + 'R~100000', c='forestgreen')\n",
    "plt.plot(spectrum_xshooter_wave, spectrum_xshooter_flux_normalized, c='dodgerblue', alpha=0.3)\n",
    "plt.plot(spectrum_xshooter_wave-0.5, spectrum_xshooter_flux_normalized, label=r'XSHOOTER (shifted)' + '\\n' + 'R~10000', c='dodgerblue')\n",
    "plt.plot(spectrum_muse_wave, spectrum_muse_flux_normalized, label=r'MUSE' + '\\n' + 'R~3000', c='crimson')\n",
    "plt.xlim(6495.-6., 6495.+6.)\n",
    "plt.ylim(0.4, 1.1)\n",
    "plt.xlabel(r'Observed Wavelength [$\\AA$]')\n",
    "plt.ylabel(r'Normalized Flux')\n",
    "plt.title(r'HD 172230 $-$ CaI, FeI, BaII')\n",
    "plt.legend()\n",
    "plt.show()\n",
    "plt.savefig('HD172230_6490.jpg', format='jpg', quality=99, bbox_inches='tight')\n"
   ]
  },
  {
   "cell_type": "markdown",
   "metadata": {},
   "source": [
    "## All in one\n",
    "The same resuls are achievable with the (un-official) ESOAsg script: [`get_data_from_radec`](https://esoasg.readthedocs.io/en/latest/archive_scripts.html#get-data-from-ra-dec)"
   ]
  },
  {
   "cell_type": "code",
   "execution_count": null,
   "metadata": {},
   "outputs": [],
   "source": []
  }
 ],
 "metadata": {
  "kernelspec": {
   "display_name": "Python 3",
   "language": "python",
   "name": "python3"
  },
  "language_info": {
   "codemirror_mode": {
    "name": "ipython",
    "version": 3
   },
   "file_extension": ".py",
   "mimetype": "text/x-python",
   "name": "python",
   "nbconvert_exporter": "python",
   "pygments_lexer": "ipython3",
   "version": "3.7.10"
  }
 },
 "nbformat": 4,
 "nbformat_minor": 4
}
