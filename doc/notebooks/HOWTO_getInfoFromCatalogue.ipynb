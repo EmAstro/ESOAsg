{
 "cells": [
  {
   "cell_type": "markdown",
   "metadata": {},
   "source": [
    "# HOW TO obtain data from ESO catalogues\n",
    "\n",
    "The ESO catalogue facility provides access to the collection of data that were produced by PIs of ESO programmes and then integrated into the ESO science archive through the Phase 3 process. The full list of available cataolgues could be found [here](https://www.eso.org/qi/).\n",
    "\n",
    "To access the data you can use the [_programmatic access_](http://archive.eso.org/programmatic/#TAP) via the `tap_cat` TAP Service. The module `archive_catalogues` provides some simple `python` wrapper around this. For more details please see the [ESOAsg documentation](https://esoasg.readthedocs.io/en/latest/)"
   ]
  },
  {
   "cell_type": "code",
   "execution_count": 1,
   "metadata": {},
   "outputs": [],
   "source": [
    "from ESOAsg.ancillary import astro\n",
    "from ESOAsg import archive_catalogues\n",
    "import matplotlib.pyplot as plt"
   ]
  },
  {
   "cell_type": "code",
   "execution_count": 2,
   "metadata": {},
   "outputs": [],
   "source": [
    "%matplotlib notebook"
   ]
  },
  {
   "cell_type": "markdown",
   "metadata": {},
   "source": [
    "## Choose the catalogue you want to query\n",
    "\n",
    "To begin, you need to know which catalogue you are interested to query. If in doubt, you can either check the [query interface webpage](https://www.eso.org/qi/) or you can obtain an astropy table of all catalogues (and all their versions) using:\n",
    "```python\n",
    "archive_catalogues.all_catalogues_info(all_versions=True)\n",
    "```\n",
    "Note that the column `last_version` highlights with `False` and obsolte catalogue for which a newer version is present. \n",
    "\n",
    "It is however possible to remove these obsolete versions by setting:\n",
    "```python\n",
    "all_version=False # i.e. the default behavior\n",
    "```"
   ]
  },
  {
   "cell_type": "code",
   "execution_count": 3,
   "metadata": {},
   "outputs": [],
   "source": [
    "all_catalogues = archive_catalogues.catalogues_info(all_versions=False)"
   ]
  },
  {
   "cell_type": "markdown",
   "metadata": {},
   "source": [
    "Now `all_catalogues` contains information on all the latest versions of the catalogues currently present at ESO:"
   ]
  },
  {
   "cell_type": "code",
   "execution_count": 4,
   "metadata": {
    "scrolled": false
   },
   "outputs": [
    {
     "data": {
      "text/html": [
       "<i>Table length=5</i>\n",
       "<table id=\"table139705772091216-733210\" class=\"table-striped table-bordered table-condensed\">\n",
       "<thead><tr><th>collection</th><th>table_name</th><th>title</th><th>version</th></tr></thead>\n",
       "<tr><td>VIDEO</td><td>video_er3_zyjhks_XMM_catMetaData_fits_V3</td><td>VISTA Deep Extragalactic Observations Survey (VIDEO) - XMM field</td><td>3</td></tr>\n",
       "<tr><td>VIKING</td><td>viking_er5_zyjj_1j_2hks_catMetaData_fits_V4</td><td>VISTA Kilo-degree Infrared Galaxy Survey (VIKING)</td><td>4</td></tr>\n",
       "<tr><td>VIPERS</td><td>VIPERS_SPECTRO_PDR2_ESO_fits_V1</td><td>VIPERS - VIMOS Public Extragalactic Redshift Survey</td><td>1</td></tr>\n",
       "<tr><td>VMC</td><td>vmc_dr5_mPhotJ_V4</td><td>VISTA Magellanic Survey: Multi-Epoch J-Band Photometry</td><td>4</td></tr>\n",
       "<tr><td>VMC</td><td>vmc_dr5_mPhotKs_V4</td><td>VISTA Magellanic Survey: Multi-Epoch Ks-Band Photometry</td><td>4</td></tr>\n",
       "</table><style>table.dataTable {clear: both; width: auto !important; margin: 0 !important;}\n",
       ".dataTables_info, .dataTables_length, .dataTables_filter, .dataTables_paginate{\n",
       "display: inline-block; margin-right: 1em; }\n",
       ".paginate_button { margin-right: 5px; }\n",
       "</style>\n",
       "<script>\n",
       "\n",
       "var astropy_sort_num = function(a, b) {\n",
       "    var a_num = parseFloat(a);\n",
       "    var b_num = parseFloat(b);\n",
       "\n",
       "    if (isNaN(a_num) && isNaN(b_num))\n",
       "        return ((a < b) ? -1 : ((a > b) ? 1 : 0));\n",
       "    else if (!isNaN(a_num) && !isNaN(b_num))\n",
       "        return ((a_num < b_num) ? -1 : ((a_num > b_num) ? 1 : 0));\n",
       "    else\n",
       "        return isNaN(a_num) ? -1 : 1;\n",
       "}\n",
       "\n",
       "require.config({paths: {\n",
       "    datatables: 'https://cdn.datatables.net/1.10.12/js/jquery.dataTables.min'\n",
       "}});\n",
       "require([\"datatables\"], function(){\n",
       "    console.log(\"$('#table139705772091216-733210').dataTable()\");\n",
       "    \n",
       "jQuery.extend( jQuery.fn.dataTableExt.oSort, {\n",
       "    \"optionalnum-asc\": astropy_sort_num,\n",
       "    \"optionalnum-desc\": function (a,b) { return -astropy_sort_num(a, b); }\n",
       "});\n",
       "\n",
       "    $('#table139705772091216-733210').dataTable({\n",
       "        order: [],\n",
       "        pageLength: 5,\n",
       "        lengthMenu: [[5, 10, 25, 50, 100, 500, 1000, -1], [5, 10, 25, 50, 100, 500, 1000, 'All']],\n",
       "        pagingType: \"full_numbers\",\n",
       "        columnDefs: [{targets: [3], type: \"optionalnum\"}]\n",
       "    });\n",
       "});\n",
       "</script>\n"
      ],
      "text/plain": [
       "<IPython.core.display.HTML object>"
      ]
     },
     "execution_count": 4,
     "metadata": {},
     "output_type": "execute_result"
    }
   ],
   "source": [
    "all_catalogues['collection', 'table_name', 'title', 'version'][35:40].show_in_notebook(show_row_index=False, display_length=5)"
   ]
  },
  {
   "cell_type": "markdown",
   "metadata": {},
   "source": [
    "## Get a catalogue\n",
    "In the following we will consider the [`VIKING version 4`](https://www.eso.org/qi/catalog/show/320) catalogue as an example:\n",
    "```python\n",
    "collection = 'VIKING'\n",
    "table_viking = 'viking_er5_zyjj_1j_2hks_catMetaData_fits_V4'\n",
    "```\n",
    "By adding the condition `collections='VIKING'` it is possible to limit the table to the `VIKING` related catalogues only:"
   ]
  },
  {
   "cell_type": "code",
   "execution_count": 5,
   "metadata": {},
   "outputs": [
    {
     "data": {
      "text/html": [
       "<i>Table length=1</i>\n",
       "<table id=\"table139705772090128-629347\" class=\"table-striped table-bordered table-condensed\">\n",
       "<thead><tr><th>idx</th><th>table_name</th><th>version</th><th>last_version</th><th>RA_id</th><th>target_table</th></tr></thead>\n",
       "<tr><td>0</td><td>viking_er5_zyjj_1j_2hks_catMetaData_fits_V4</td><td>4</td><td>True</td><td>RA2000</td><td></td></tr>\n",
       "</table><style>table.dataTable {clear: both; width: auto !important; margin: 0 !important;}\n",
       ".dataTables_info, .dataTables_length, .dataTables_filter, .dataTables_paginate{\n",
       "display: inline-block; margin-right: 1em; }\n",
       ".paginate_button { margin-right: 5px; }\n",
       "</style>\n",
       "<script>\n",
       "\n",
       "var astropy_sort_num = function(a, b) {\n",
       "    var a_num = parseFloat(a);\n",
       "    var b_num = parseFloat(b);\n",
       "\n",
       "    if (isNaN(a_num) && isNaN(b_num))\n",
       "        return ((a < b) ? -1 : ((a > b) ? 1 : 0));\n",
       "    else if (!isNaN(a_num) && !isNaN(b_num))\n",
       "        return ((a_num < b_num) ? -1 : ((a_num > b_num) ? 1 : 0));\n",
       "    else\n",
       "        return isNaN(a_num) ? -1 : 1;\n",
       "}\n",
       "\n",
       "require.config({paths: {\n",
       "    datatables: 'https://cdn.datatables.net/1.10.12/js/jquery.dataTables.min'\n",
       "}});\n",
       "require([\"datatables\"], function(){\n",
       "    console.log(\"$('#table139705772090128-629347').dataTable()\");\n",
       "    \n",
       "jQuery.extend( jQuery.fn.dataTableExt.oSort, {\n",
       "    \"optionalnum-asc\": astropy_sort_num,\n",
       "    \"optionalnum-desc\": function (a,b) { return -astropy_sort_num(a, b); }\n",
       "});\n",
       "\n",
       "    $('#table139705772090128-629347').dataTable({\n",
       "        order: [],\n",
       "        pageLength: 10,\n",
       "        lengthMenu: [[10, 25, 50, 100, 500, 1000, -1], [10, 25, 50, 100, 500, 1000, 'All']],\n",
       "        pagingType: \"full_numbers\",\n",
       "        columnDefs: [{targets: [0, 2], type: \"optionalnum\"}]\n",
       "    });\n",
       "});\n",
       "</script>\n"
      ],
      "text/plain": [
       "<IPython.core.display.HTML object>"
      ]
     },
     "execution_count": 5,
     "metadata": {},
     "output_type": "execute_result"
    }
   ],
   "source": [
    "viking_catalogue = archive_catalogues.catalogues_info(all_versions=False, collections='VIKING')\n",
    "viking_catalogue['table_name', 'version', 'last_version', 'RA_id', 'target_table'].show_in_notebook(display_length=10)"
   ]
  },
  {
   "cell_type": "markdown",
   "metadata": {},
   "source": [
    "This allows to extract information such as `table_name` and `acknowledgment` in a simpler way: "
   ]
  },
  {
   "cell_type": "code",
   "execution_count": 6,
   "metadata": {},
   "outputs": [
    {
     "name": "stdout",
     "output_type": "stream",
     "text": [
      "The name of the table is: viking_er5_zyjj_1j_2hks_catMetaData_fits_V4. \n",
      "The corresponding acknowledgment is:\n",
      "Please include the following acknowledgment in any published material that makes use of this data products: Based on observations made with ESO Telescopes at the La Silla or Paranal Observatories under programme ID(s) 179.A-2004(M).\n"
     ]
    }
   ],
   "source": [
    "table_viking = viking_catalogue['table_name'].data[0]\n",
    "acknowledgment_viking = viking_catalogue['acknowledgment'].data[0]\n",
    "print('The name of the table is: {}. \\nThe corresponding acknowledgment is:\\n{}.'.format(\n",
    "    table_viking, acknowledgment_viking))"
   ]
  },
  {
   "cell_type": "markdown",
   "metadata": {},
   "source": [
    "You can glance the content of a catalogue by checking the name of the columns present in the associated list of collections (or list of tables):\n",
    "```python\n",
    "archive_catalogues.columns_info(collections='VIKING')\n",
    "```"
   ]
  },
  {
   "cell_type": "code",
   "execution_count": 7,
   "metadata": {
    "scrolled": true
   },
   "outputs": [
    {
     "data": {
      "text/html": [
       "<i>Table length=6</i>\n",
       "<table id=\"table139705772288400-414211\" class=\"table-striped table-bordered table-condensed\">\n",
       "<thead><tr><th>table_name</th><th>column_name</th><th>ucd</th><th>datatype</th><th>description</th><th>unit</th></tr></thead>\n",
       "<tr><td>viking_er4_zyjj_1j_2hks_catMetaData_fits_V3</td><td>IAUNAME</td><td>meta.id</td><td>CHAR</td><td>IAU Name (not unique)</td><td></td></tr>\n",
       "<tr><td>viking_er4_zyjj_1j_2hks_catMetaData_fits_V3</td><td>SOURCEID</td><td>meta.id;meta.main</td><td>BIGINT</td><td>UID of this merged detection as assigned by merge algorithm</td><td></td></tr>\n",
       "<tr><td>viking_er4_zyjj_1j_2hks_catMetaData_fits_V3</td><td>CUEVENTID</td><td>meta.bib</td><td>INTEGER</td><td>UID of curation event giving rise to this record</td><td></td></tr>\n",
       "<tr><td>viking_er4_zyjj_1j_2hks_catMetaData_fits_V3</td><td>FRAMESETID</td><td>meta.bib</td><td>BIGINT</td><td>UID of the set of frames that this merged source comes from</td><td></td></tr>\n",
       "<tr><td>viking_er4_zyjj_1j_2hks_catMetaData_fits_V3</td><td>RA2000</td><td>pos.eq.ra;meta.main</td><td>DOUBLE</td><td>Celestial Right Ascension</td><td>Degrees</td></tr>\n",
       "<tr><td>viking_er4_zyjj_1j_2hks_catMetaData_fits_V3</td><td>DEC2000</td><td>pos.eq.dec;meta.main</td><td>DOUBLE</td><td>Celestial Declination</td><td>Degrees</td></tr>\n",
       "</table><style>table.dataTable {clear: both; width: auto !important; margin: 0 !important;}\n",
       ".dataTables_info, .dataTables_length, .dataTables_filter, .dataTables_paginate{\n",
       "display: inline-block; margin-right: 1em; }\n",
       ".paginate_button { margin-right: 5px; }\n",
       "</style>\n",
       "<script>\n",
       "\n",
       "var astropy_sort_num = function(a, b) {\n",
       "    var a_num = parseFloat(a);\n",
       "    var b_num = parseFloat(b);\n",
       "\n",
       "    if (isNaN(a_num) && isNaN(b_num))\n",
       "        return ((a < b) ? -1 : ((a > b) ? 1 : 0));\n",
       "    else if (!isNaN(a_num) && !isNaN(b_num))\n",
       "        return ((a_num < b_num) ? -1 : ((a_num > b_num) ? 1 : 0));\n",
       "    else\n",
       "        return isNaN(a_num) ? -1 : 1;\n",
       "}\n",
       "\n",
       "require.config({paths: {\n",
       "    datatables: 'https://cdn.datatables.net/1.10.12/js/jquery.dataTables.min'\n",
       "}});\n",
       "require([\"datatables\"], function(){\n",
       "    console.log(\"$('#table139705772288400-414211').dataTable()\");\n",
       "    \n",
       "jQuery.extend( jQuery.fn.dataTableExt.oSort, {\n",
       "    \"optionalnum-asc\": astropy_sort_num,\n",
       "    \"optionalnum-desc\": function (a,b) { return -astropy_sort_num(a, b); }\n",
       "});\n",
       "\n",
       "    $('#table139705772288400-414211').dataTable({\n",
       "        order: [],\n",
       "        pageLength: 6,\n",
       "        lengthMenu: [[6, 10, 25, 50, 100, 500, 1000, -1], [6, 10, 25, 50, 100, 500, 1000, 'All']],\n",
       "        pagingType: \"full_numbers\",\n",
       "        columnDefs: [{targets: [], type: \"optionalnum\"}]\n",
       "    });\n",
       "});\n",
       "</script>\n"
      ],
      "text/plain": [
       "<IPython.core.display.HTML object>"
      ]
     },
     "execution_count": 7,
     "metadata": {},
     "output_type": "execute_result"
    }
   ],
   "source": [
    "columns_viking = archive_catalogues.columns_info(collections='VIKING')\n",
    "columns_viking[0:6].show_in_notebook(show_row_index=False, display_length=6)"
   ]
  },
  {
   "cell_type": "markdown",
   "metadata": {},
   "source": [
    "Once you decided which is your favourite catalogue, you can get it using:\n",
    "```python\n",
    "archive_catalogues.get_catalogues(tables=table_name)\n",
    "```\n",
    "At the moment with limit the query to only 2 entries `VIKING` (i.e. we set `maxrec=2`):"
   ]
  },
  {
   "cell_type": "code",
   "execution_count": null,
   "metadata": {},
   "outputs": [
    {
     "name": "stderr",
     "output_type": "stream",
     "text": [
      "\u001b[1;31m[WARNING] ::\u001b[0m The query timed out. Trying `async` instead\n",
      "\u001b[1;32m[INFO]    ::\u001b[0m The query to the tap_service is in the status: EXECUTING\n"
     ]
    }
   ],
   "source": [
    "VIKING = archive_catalogues.get_catalogues(tables=table_viking, maxrec=None)"
   ]
  },
  {
   "cell_type": "markdown",
   "metadata": {},
   "source": [
    "The result is thus stored in an `astropy.table`:"
   ]
  },
  {
   "cell_type": "code",
   "execution_count": null,
   "metadata": {
    "scrolled": false
   },
   "outputs": [],
   "source": [
    "VIKING['SOURCEID', 'RA2000', 'DEC2000', 'ZAPERMAG3', 'JAPERMAG3', 'KSAPERMAG3'].show_in_notebook(show_row_index=False, display_length=2)"
   ]
  },
  {
   "cell_type": "markdown",
   "metadata": {},
   "source": [
    "## Explore the data\n",
    "\n",
    "Now the `VIKING V4` catalogue is ready to be explored. As an example, we queried a larger fraction of the catalogue to show the color-color diagram for stars (in blue) and extended sources (red). Note that to speed up the process, we query the table for only the columns we are interested in, i.e. 'MERGEDCLASS', 'ZAPERMAG3', 'JAPERMAG3', and 'KSAPERMAG3'."
   ]
  },
  {
   "cell_type": "code",
   "execution_count": null,
   "metadata": {},
   "outputs": [],
   "source": [
    "selected_columns = ['MERGEDCLASS', 'ZAPERMAG3', 'JAPERMAG3', 'KSAPERMAG3']\n",
    "\n",
    "VIKING = archive_catalogues.get_catalogues(tables=table_viking, columns=selected_columns, maxrec=10000)\n",
    "\n",
    "CLASS_STAR = VIKING['MERGEDCLASS'].data\n",
    "JK = VIKING['JAPERMAG3'].data-VIKING['KSAPERMAG3'].data\n",
    "ZJ = VIKING['ZAPERMAG3'].data-VIKING['JAPERMAG3'].data\n",
    "\n",
    "plt.figure()\n",
    "plt.xlim(-.3,2.5)\n",
    "plt.ylim(-.3,2.3)\n",
    "plt.scatter(JK[CLASS_STAR==-1],ZJ[CLASS_STAR==-1], label=r'STAR', c='dodgerblue', alpha=0.4, marker='.')\n",
    "plt.scatter(JK[CLASS_STAR==1],ZJ[CLASS_STAR==1], label=r'EXTENDED', c='crimson', alpha=0.4, marker='.')\n",
    "plt.xlabel(r'$J - K_s$')\n",
    "plt.ylabel(r'$Z - J$')\n",
    "plt.legend()\n",
    "plt.show()\n",
    "plt.savefig('viking.jpg', format='jpg', quality=99, bbox_inches='tight')"
   ]
  },
  {
   "cell_type": "code",
   "execution_count": null,
   "metadata": {},
   "outputs": [],
   "source": []
  }
 ],
 "metadata": {
  "kernelspec": {
   "display_name": "Python 3",
   "language": "python",
   "name": "python3"
  },
  "language_info": {
   "codemirror_mode": {
    "name": "ipython",
    "version": 3
   },
   "file_extension": ".py",
   "mimetype": "text/x-python",
   "name": "python",
   "nbconvert_exporter": "python",
   "pygments_lexer": "ipython3",
   "version": "3.7.6"
  }
 },
 "nbformat": 4,
 "nbformat_minor": 4
}
