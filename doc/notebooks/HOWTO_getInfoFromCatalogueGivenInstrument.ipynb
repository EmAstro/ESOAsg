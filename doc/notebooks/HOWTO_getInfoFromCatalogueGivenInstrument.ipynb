{
 "cells": [
  {
   "cell_type": "markdown",
   "metadata": {},
   "source": [
    "# HOW TO obtain catalogue data collected with ESO-VISTA \n",
    "\n",
    "The ESO catalogue facility provides access to the collection of catalogues that were produced by PIs of ESO programmes and then integrated into the ESO science archive through the Phase 3 process. The full list of available cataolgues could be found [here](https://www.eso.org/qi/).\n",
    "\n",
    "In the following, we will show how to collect all catalogues entries associated with the [ESO-VISTA telescope](https://www.eso.org/sci/facilities/paranal/telescopes/vista.html). This will be done by exploiting the `archive_catalogues` module part of the [ESOAsg](https://esoasg.readthedocs.io/en/latest/) `python` repository."
   ]
  },
  {
   "cell_type": "code",
   "execution_count": 1,
   "metadata": {},
   "outputs": [],
   "source": [
    "%load_ext autoreload\n",
    "%autoreload 2"
   ]
  },
  {
   "cell_type": "code",
   "execution_count": 2,
   "metadata": {},
   "outputs": [
    {
     "name": "stderr",
     "output_type": "stream",
     "text": [
      "/scratch/Extern/anaconda3/envs/py37/lib/python3.7/_collections_abc.py:702: MatplotlibDeprecationWarning: The global colormaps dictionary is no longer considered public API.\n",
      "  return len(self._mapping)\n",
      "/scratch/Extern/anaconda3/envs/py37/lib/python3.7/_collections_abc.py:720: MatplotlibDeprecationWarning: The global colormaps dictionary is no longer considered public API.\n",
      "  yield from self._mapping\n"
     ]
    }
   ],
   "source": [
    "from ESOAsg.ancillary import astro\n",
    "from ESOAsg import archive_catalogues\n",
    "import matplotlib.pyplot as plt\n",
    "import numpy as np"
   ]
  },
  {
   "cell_type": "code",
   "execution_count": 3,
   "metadata": {},
   "outputs": [],
   "source": [
    "%matplotlib notebook"
   ]
  },
  {
   "cell_type": "markdown",
   "metadata": {},
   "source": [
    "## Obtain information on all catalgues present in the ESO Archive\n",
    "\n",
    "To access catalogues in the ESO Archive, you can use either the [query interface webpage](https://www.eso.org/qi/), the [ESO Archive Science Portal](https://archive.eso.org/scienceportal/home?dp_type=CATALOG&sort=-obs_date), or the [_programmatic access_](http://archive.eso.org/programmatic/#TAP) via the `tap_cat` TAP Service. \n",
    "\n",
    "Alternatively,  you can obtain an astropy table of all catalogues (and all their versions) using:\n",
    "```python\n",
    "archive_catalogues.all_catalogues_info(all_versions=True)\n",
    "```\n",
    "Note that the column `last_version` highlights with `False` and obsolte catalogue for which a newer version is present. \n",
    "\n",
    "It is however possible to remove these obsolete versions by setting:\n",
    "```python\n",
    "all_version=False # i.e. the default behavior\n",
    "```"
   ]
  },
  {
   "cell_type": "code",
   "execution_count": 4,
   "metadata": {},
   "outputs": [],
   "source": [
    "all_catalogues = archive_catalogues.catalogues_info(all_versions=False)"
   ]
  },
  {
   "cell_type": "markdown",
   "metadata": {},
   "source": [
    "Now `all_catalogues` contains information on all the latest versions of the catalogues currently present at ESO:"
   ]
  },
  {
   "cell_type": "code",
   "execution_count": 5,
   "metadata": {
    "scrolled": false
   },
   "outputs": [
    {
     "data": {
      "text/html": [
       "<i>Table length=55</i>\n",
       "<table id=\"table140369134818768-898509\" class=\"table-striped table-bordered table-condensed\">\n",
       "<thead><tr><th>collection</th><th>table_name</th><th>title</th><th>version</th><th>instrument</th><th>telescope</th></tr></thead>\n",
       "<tr><td>196.D-0214</td><td>EREBOS_RV_cat_fits_V1</td><td>EREBOS_RV_cat.fits</td><td>1</td><td>FORS2</td><td>ESO-VLT-U1</td></tr>\n",
       "<tr><td>196.D-0214</td><td>EREBOS_cat_fits_V1</td><td>EREBOS_cat.fits</td><td>1</td><td>FORS2</td><td>ESO-VLT-U1</td></tr>\n",
       "<tr><td>AMBRE</td><td>AMBRE_V1</td><td>Atmospheric Parameters and Chemical Abundances from Stellar Spectra</td><td>1</td><td>FEROS</td><td>MPI-2.2</td></tr>\n",
       "<tr><td>ATLASGAL</td><td>ATLASGAL_V1</td><td>ATLASGAL - APEX Large Area Survey of the Galaxy</td><td>1</td><td>APEXBOL</td><td>APEX-12m</td></tr>\n",
       "<tr><td>GAIAESO</td><td>GES_iDR4_PIII2016_Catalogue_v3_fits_V2</td><td>Gaia-ESO spectroscopic survey</td><td>2</td><td>GIRAFFE,UVES</td><td>ESO-VLT-U2</td></tr>\n",
       "<tr><td>GCAV</td><td>gcav_rxcj1515_YJKs_cat_fits_V1</td><td>GCAV catalogue for RXCJ1514.9-1523 cluster</td><td>1</td><td>VIRCAM</td><td>ESO-VISTA</td></tr>\n",
       "<tr><td>GCAV</td><td>gcav_rxcj2129_YJKs_cat_fits_V1</td><td>GCAV catalogue for RXCJ2129.6+0005 cluster</td><td>1</td><td>VIRCAM</td><td>ESO-VISTA</td></tr>\n",
       "<tr><td>GOODS_FORS2</td><td>GOODS_FORS2_V1</td><td>GOODS/FORS2 Spectroscopic Survey</td><td>1</td><td>FORS2</td><td>UT1</td></tr>\n",
       "<tr><td>GOODS_ISAAC</td><td>GOODS_ISAAC_V1</td><td>GOODS/ISAAC imaging</td><td>1</td><td>ISAAC</td><td>ESO-VLT-U1</td></tr>\n",
       "<tr><td>GOODS_VIMOS_SPEC</td><td>GOODS_VIMOS_SPEC_V1</td><td>GOODS/VIMOS Spectroscopic Survey</td><td>1</td><td>VIMOS</td><td>ESO-VLT-U3</td></tr>\n",
       "<tr><td>HUGS</td><td>HUGS_GOODSS_K_V1</td><td>K band Image of the GOODS-South field</td><td>1</td><td>HAWKI</td><td>ESO-VLT-U4</td></tr>\n",
       "<tr><td>HUGS</td><td>HUGS_UDS_K_V1</td><td>K band Image of the UDS field</td><td>1</td><td>HAWKI</td><td>ESO-VLT-U4</td></tr>\n",
       "<tr><td>HUGS</td><td>HUGS_UDS_Y_V1</td><td>Y band Image of the UDS field</td><td>1</td><td>HAWKI</td><td>ESO-VLT-U4</td></tr>\n",
       "<tr><td>KIDS</td><td>KiDS_DR3_0_ugri_src_fits_V2</td><td>The Kilo-Degree Survey</td><td>2</td><td>OMEGACAM</td><td>ESO-VST</td></tr>\n",
       "<tr><td>KIDS</td><td>KiDS_DR3_1_ugri_shear_fits_V1</td><td>The Kilo-Degree Survey: Weak lensing shear mesurements</td><td>1</td><td>OMEGACAM</td><td>ESO-VST</td></tr>\n",
       "<tr><td>KIDS</td><td>KiDS_DR4_1_ugriZYJHKs_cat_fits</td><td>The Kilo-Degree Survey 9-band ugriZYJHKs source catalogue</td><td>4</td><td>OMEGACAM, VIRCAM</td><td>ESO-VST, ESO-VISTA</td></tr>\n",
       "<tr><td>LEGA-C</td><td>legac_DR2_fits_V2</td><td>Large Early Galaxy Census Spectroscopic Survey</td><td>2</td><td>VIMOS</td><td>ESO-VLT-U3</td></tr>\n",
       "<tr><td>MW-BULGE-PSFPHOT</td><td>MW_BULGE_PSFPHOT_V1</td><td>Milky Way Bulge PSF Photometry</td><td>1</td><td>VIRCAM</td><td>ESO-VISTA</td></tr>\n",
       "<tr><td>NGTS</td><td>NGTS_LC_V2</td><td>Next Generation Transit Survey - light curve catalogue</td><td>2</td><td>NGTS</td><td>NGTS</td></tr>\n",
       "<tr><td>NGTS</td><td>NGTS_SOURCE_CAT_V2</td><td>Next Generation Transit Survey - source catalogue</td><td>2</td><td>NGTS</td><td>NGTS</td></tr>\n",
       "<tr><td>PESSTO</td><td>PESSTO_MPHOT_fits_V2</td><td>PESSTO Multi-epoch Photometry</td><td>2</td><td>MULTI</td><td>ESO-NTT</td></tr>\n",
       "<tr><td>PESSTO</td><td>PESSTO_TRAN_CAT_fits_V2</td><td>PESSTO Public ESO Spectroscopic Survey of Transient Objects</td><td>2</td><td>EFOSC</td><td>ESO-NTT</td></tr>\n",
       "<tr><td>UltraVISTA</td><td>COSMOS2015_Laigle_v1_1b_latestV7_fits_V1</td><td>COSMOS2015 catalogue: photometric redshifts  and stellar masses (Laigle et al. 2016)</td><td>1</td><td>VIRCAM</td><td>ESO-VISTA</td></tr>\n",
       "<tr><td>UltraVISTA</td><td>UVISTA_5band_cat_dr4_rc_v2_fits_V3</td><td>Deep/Ultra-Deep Near-IR  Survey of the COSMOS Field (Ultra-VISTA)</td><td>3</td><td>VIRCAM</td><td>ESO-VISTA</td></tr>\n",
       "<tr><td>VANDELS</td><td>VANDELS_spec_redshift_V3</td><td>VANDELS High-Redshift Galaxy Evolution: Spectroscopic and Photometric Redshifts in the CANDELS UDS and CDFS Fields.</td><td>3</td><td>VIMOS</td><td>ESO-VLT-U3</td></tr>\n",
       "<tr><td>VEXAS</td><td>VEXAS_21_V1</td><td>VISTA match with AllWISE and Radio</td><td>1</td><td></td><td></td></tr>\n",
       "<tr><td>VEXAS</td><td>VEXAS_AllWISE_V1</td><td>VISTA extension to auxilliary surveys - match with AllWISE</td><td>1</td><td>VIRCAM</td><td>ESO-VISTA</td></tr>\n",
       "<tr><td>VEXAS</td><td>VEXAS_DESW_V1</td><td>VISTA match with AllWISE and DES</td><td>1</td><td></td><td></td></tr>\n",
       "<tr><td>VEXAS</td><td>VEXAS_PS1W_V1</td><td>VISTA match with AllWISE and PanSTARRS</td><td>1</td><td></td><td></td></tr>\n",
       "<tr><td>VEXAS</td><td>VEXAS_SMW_V1</td><td>VISTA match with AllWISE and SkyMappers</td><td>1</td><td></td><td></td></tr>\n",
       "<tr><td>VEXAS</td><td>VEXAS_SPEC_V1</td><td>VISTA match with AllWISE SDSS and 6dFGS</td><td>1</td><td></td><td></td></tr>\n",
       "<tr><td>VEXAS</td><td>VEXAS_XRAY_V1</td><td>VISTA match with AllWISE and X-rays</td><td>1</td><td></td><td></td></tr>\n",
       "<tr><td>VHS</td><td>VHS_CAT_V3</td><td>VISTA Hemisphere Survey band-merged multi-waveband catalogues (VHS)</td><td>3</td><td>VIRCAM</td><td>ESO-VISTA</td></tr>\n",
       "<tr><td>VIDEO</td><td>video_er3_zyjhks_CDFS_catMetaData_fits_V2</td><td>VISTA Deep Extragalactic Observations Survey (VIDEO) - CDFS field</td><td>2</td><td>VIRCAM</td><td>ESO-VISTA</td></tr>\n",
       "<tr><td>VIDEO</td><td>video_er3_zyjhks_ES1_catMetaData_fits_V2</td><td>VISTA Deep Extragalactic Observations Survey (VIDEO) - ES1 field</td><td>2</td><td>VIRCAM</td><td>ESO-VISTA</td></tr>\n",
       "<tr><td>VIDEO</td><td>video_er3_zyjhks_XMM_catMetaData_fits_V3</td><td>VISTA Deep Extragalactic Observations Survey (VIDEO) - XMM field</td><td>3</td><td>VIRCAM</td><td>ESO-VISTA</td></tr>\n",
       "<tr><td>VIKING</td><td>viking_er5_zyjj_1j_2hks_catMetaData_fits_V4</td><td>VISTA Kilo-degree Infrared Galaxy Survey (VIKING)</td><td>4</td><td>VIRCAM</td><td>ESO-VISTA</td></tr>\n",
       "<tr><td>VIPERS</td><td>VIPERS_SPECTRO_PDR2_ESO_fits_V1</td><td>VIPERS - VIMOS Public Extragalactic Redshift Survey</td><td>1</td><td>VIMOS</td><td>ESO-VLT-U3</td></tr>\n",
       "<tr><td>VMC</td><td>vmc_dr5_mPhotJ_V4</td><td>VISTA Magellanic Survey: Multi-Epoch J-Band Photometry</td><td>4</td><td>VIRCAM</td><td>ESO-VISTA</td></tr>\n",
       "<tr><td>VMC</td><td>vmc_dr5_mPhotKs_V4</td><td>VISTA Magellanic Survey: Multi-Epoch Ks-Band Photometry</td><td>4</td><td>VIRCAM</td><td>ESO-VISTA</td></tr>\n",
       "<tr><td>VMC</td><td>vmc_dr5_mPhotY_V4</td><td>VISTA Magellanic Survey: Multi-Epoch Y-Band Photometry</td><td>4</td><td>VIRCAM</td><td>ESO-VISTA</td></tr>\n",
       "<tr><td>VMC</td><td>vmc_dr5_psf_yjks_V3</td><td>VISTA Magellanic Survey: PSF Photometry (YJKs)</td><td>3</td><td>VIRCAM</td><td>ESO-VISTA</td></tr>\n",
       "<tr><td>VMC</td><td>vmc_dr5_sourceCat_yjks_V4</td><td>VISTA Magellanic Survey: Band-merged Master Source Catalog (YJKs)</td><td>4</td><td>VIRCAM</td><td>ESO-VISTA</td></tr>\n",
       "<tr><td>VMC</td><td>vmc_dr5_var_yjKs_V1</td><td>VISTA Magellanic Survey: Catalog of Variables</td><td>1</td><td>VIRCAM</td><td>ESO-VISTA</td></tr>\n",
       "<tr><td>VMC</td><td>vmc_er4_yjks_cepheidCatMetaData_fits_V3</td><td>VISTA Magellanic Survey: Cepheids</td><td>3</td><td>VIRCAM</td><td>ESO-VISTA</td></tr>\n",
       "<tr><td>VMC</td><td>vmc_er4_yjks_eclBinCatMetaData_fits_V2</td><td>VISTA Magellanic Survey: Eclipsing Binaries</td><td>2</td><td>VIRCAM</td><td>ESO-VISTA</td></tr>\n",
       "<tr><td>VMC</td><td>vmc_er4_yjks_rrLyrCatMetaData_fits_V1</td><td>VISTA Magellanic Survey: RR Lyrae stars</td><td>1</td><td>VIRCAM</td><td>ESO-VISTA</td></tr>\n",
       "<tr><td>VPHASplus</td><td>vphas_er3_ugr_1r_2ihavphas_catMetaData_fits_V3</td><td>VST Photometric H-a Survey of the Southern Galactic Plane (VPHAS+)</td><td>3</td><td>OMEGACAM</td><td>ESO-VST</td></tr>\n",
       "<tr><td>VST-ATLAS</td><td>atlas_er4_ugriz_catMetaData_fits_V3</td><td>VST ATLAS</td><td>3</td><td>OMEGACAM</td><td>ESO-VST</td></tr>\n",
       "<tr><td>VVV</td><td>VVV_CAT_V2</td><td>VVV: ZYJHKs Catalogue in the Via Lactea</td><td>2</td><td>VIRCAM</td><td>ESO-VISTA</td></tr>\n",
       "<tr><td>VVV</td><td>VVV_MPHOT_Ks_V2</td><td>VVV: Multi-Epoch Ks-Band Photometry in the Via Lactea</td><td>2</td><td>VIRCAM</td><td>ESO-VISTA</td></tr>\n",
       "<tr><td>VVV</td><td>VVV_VAR_V2</td><td>VVV: Catalogue of Variables in the Via Lactea</td><td>2</td><td>VIRCAM</td><td>ESO-VISTA</td></tr>\n",
       "<tr><td>VVV</td><td>VVV_VIRAC_PM_V1</td><td>VVV/VIRAC: proper motion catalog</td><td>1</td><td>VIRCAM</td><td>ESO-VISTA</td></tr>\n",
       "<tr><td>XQ-100</td><td>XQ_100_summary_fits_V1</td><td>Quasars and their absorption lines: a legacy survey of the high-redshift universe (XQ-100)</td><td>1</td><td>XSHOOTER</td><td>ESO-VLT-U2,ESO-VLT-U3</td></tr>\n",
       "<tr><td>ZCOSMOS</td><td>ZCOSMOS_V2</td><td>zCOSMOS Spectroscopic Redshift Survey</td><td>2</td><td>VIMOS</td><td>UT3</td></tr>\n",
       "</table><style>table.dataTable {clear: both; width: auto !important; margin: 0 !important;}\n",
       ".dataTables_info, .dataTables_length, .dataTables_filter, .dataTables_paginate{\n",
       "display: inline-block; margin-right: 1em; }\n",
       ".paginate_button { margin-right: 5px; }\n",
       "</style>\n",
       "<script>\n",
       "\n",
       "var astropy_sort_num = function(a, b) {\n",
       "    var a_num = parseFloat(a);\n",
       "    var b_num = parseFloat(b);\n",
       "\n",
       "    if (isNaN(a_num) && isNaN(b_num))\n",
       "        return ((a < b) ? -1 : ((a > b) ? 1 : 0));\n",
       "    else if (!isNaN(a_num) && !isNaN(b_num))\n",
       "        return ((a_num < b_num) ? -1 : ((a_num > b_num) ? 1 : 0));\n",
       "    else\n",
       "        return isNaN(a_num) ? -1 : 1;\n",
       "}\n",
       "\n",
       "require.config({paths: {\n",
       "    datatables: 'https://cdn.datatables.net/1.10.12/js/jquery.dataTables.min'\n",
       "}});\n",
       "require([\"datatables\"], function(){\n",
       "    console.log(\"$('#table140369134818768-898509').dataTable()\");\n",
       "    \n",
       "jQuery.extend( jQuery.fn.dataTableExt.oSort, {\n",
       "    \"optionalnum-asc\": astropy_sort_num,\n",
       "    \"optionalnum-desc\": function (a,b) { return -astropy_sort_num(a, b); }\n",
       "});\n",
       "\n",
       "    $('#table140369134818768-898509').dataTable({\n",
       "        order: [],\n",
       "        pageLength: 5,\n",
       "        lengthMenu: [[5, 10, 25, 50, 100, 500, 1000, -1], [5, 10, 25, 50, 100, 500, 1000, 'All']],\n",
       "        pagingType: \"full_numbers\",\n",
       "        columnDefs: [{targets: [3], type: \"optionalnum\"}]\n",
       "    });\n",
       "});\n",
       "</script>\n"
      ],
      "text/plain": [
       "<IPython.core.display.HTML object>"
      ]
     },
     "execution_count": 5,
     "metadata": {},
     "output_type": "execute_result"
    }
   ],
   "source": [
    "all_catalogues['collection', 'table_name', 'title', 'version', 'instrument', 'telescope'].show_in_notebook(show_row_index=False, display_length=5)"
   ]
  },
  {
   "cell_type": "markdown",
   "metadata": {},
   "source": [
    "## Get the catalogues\n",
    "\n",
    "In the following we will consider the you are interest in data coming from the [ESO-VISTA telescope](https://www.eso.org/sci/facilities/paranal/telescopes/vista.html). Given that `all_catalogues` is a `Table` you can create a `telescope` filter. Possible values are:"
   ]
  },
  {
   "cell_type": "code",
   "execution_count": 6,
   "metadata": {},
   "outputs": [
    {
     "name": "stdout",
     "output_type": "stream",
     "text": [
      "Possible values for the telescope entry: \n",
      " ['', 'APEX-12m', 'ESO-NTT', 'ESO-VISTA', 'ESO-VLT-U1', 'ESO-VLT-U2', 'ESO-VLT-U2,ESO-VLT-U3', 'ESO-VLT-U3', 'ESO-VLT-U4', 'ESO-VST', 'ESO-VST, ESO-VISTA', 'MPI-2.2', 'NGTS', 'UT1', 'UT3']\n"
     ]
    }
   ],
   "source": [
    "print('Possible values for the telescope entry: \\n {}'.format(np.unique(all_catalogues['telescope']).tolist()))"
   ]
  },
  {
   "cell_type": "markdown",
   "metadata": {},
   "source": [
    "You can now select all the `ESO-VISTA` catalogues applying a filter to the `all_catalogues` table:"
   ]
  },
  {
   "cell_type": "code",
   "execution_count": 7,
   "metadata": {},
   "outputs": [
    {
     "data": {
      "text/html": [
       "<i>Table length=25</i>\n",
       "<table id=\"table140369136894032-278240\" class=\"table-striped table-bordered table-condensed\">\n",
       "<thead><tr><th>collection</th><th>table_name</th><th>title</th><th>version</th><th>instrument</th><th>telescope</th></tr></thead>\n",
       "<tr><td>GCAV</td><td>gcav_rxcj1515_YJKs_cat_fits_V1</td><td>GCAV catalogue for RXCJ1514.9-1523 cluster</td><td>1</td><td>VIRCAM</td><td>ESO-VISTA</td></tr>\n",
       "<tr><td>GCAV</td><td>gcav_rxcj2129_YJKs_cat_fits_V1</td><td>GCAV catalogue for RXCJ2129.6+0005 cluster</td><td>1</td><td>VIRCAM</td><td>ESO-VISTA</td></tr>\n",
       "<tr><td>KIDS</td><td>KiDS_DR4_1_ugriZYJHKs_cat_fits</td><td>The Kilo-Degree Survey 9-band ugriZYJHKs source catalogue</td><td>4</td><td>OMEGACAM, VIRCAM</td><td>ESO-VST, ESO-VISTA</td></tr>\n",
       "<tr><td>MW-BULGE-PSFPHOT</td><td>MW_BULGE_PSFPHOT_V1</td><td>Milky Way Bulge PSF Photometry</td><td>1</td><td>VIRCAM</td><td>ESO-VISTA</td></tr>\n",
       "<tr><td>UltraVISTA</td><td>COSMOS2015_Laigle_v1_1b_latestV7_fits_V1</td><td>COSMOS2015 catalogue: photometric redshifts  and stellar masses (Laigle et al. 2016)</td><td>1</td><td>VIRCAM</td><td>ESO-VISTA</td></tr>\n",
       "<tr><td>UltraVISTA</td><td>UVISTA_5band_cat_dr4_rc_v2_fits_V3</td><td>Deep/Ultra-Deep Near-IR  Survey of the COSMOS Field (Ultra-VISTA)</td><td>3</td><td>VIRCAM</td><td>ESO-VISTA</td></tr>\n",
       "<tr><td>VEXAS</td><td>VEXAS_AllWISE_V1</td><td>VISTA extension to auxilliary surveys - match with AllWISE</td><td>1</td><td>VIRCAM</td><td>ESO-VISTA</td></tr>\n",
       "<tr><td>VHS</td><td>VHS_CAT_V3</td><td>VISTA Hemisphere Survey band-merged multi-waveband catalogues (VHS)</td><td>3</td><td>VIRCAM</td><td>ESO-VISTA</td></tr>\n",
       "<tr><td>VIDEO</td><td>video_er3_zyjhks_CDFS_catMetaData_fits_V2</td><td>VISTA Deep Extragalactic Observations Survey (VIDEO) - CDFS field</td><td>2</td><td>VIRCAM</td><td>ESO-VISTA</td></tr>\n",
       "<tr><td>VIDEO</td><td>video_er3_zyjhks_ES1_catMetaData_fits_V2</td><td>VISTA Deep Extragalactic Observations Survey (VIDEO) - ES1 field</td><td>2</td><td>VIRCAM</td><td>ESO-VISTA</td></tr>\n",
       "<tr><td>VIDEO</td><td>video_er3_zyjhks_XMM_catMetaData_fits_V3</td><td>VISTA Deep Extragalactic Observations Survey (VIDEO) - XMM field</td><td>3</td><td>VIRCAM</td><td>ESO-VISTA</td></tr>\n",
       "<tr><td>VIKING</td><td>viking_er5_zyjj_1j_2hks_catMetaData_fits_V4</td><td>VISTA Kilo-degree Infrared Galaxy Survey (VIKING)</td><td>4</td><td>VIRCAM</td><td>ESO-VISTA</td></tr>\n",
       "<tr><td>VMC</td><td>vmc_dr5_mPhotJ_V4</td><td>VISTA Magellanic Survey: Multi-Epoch J-Band Photometry</td><td>4</td><td>VIRCAM</td><td>ESO-VISTA</td></tr>\n",
       "<tr><td>VMC</td><td>vmc_dr5_mPhotKs_V4</td><td>VISTA Magellanic Survey: Multi-Epoch Ks-Band Photometry</td><td>4</td><td>VIRCAM</td><td>ESO-VISTA</td></tr>\n",
       "<tr><td>VMC</td><td>vmc_dr5_mPhotY_V4</td><td>VISTA Magellanic Survey: Multi-Epoch Y-Band Photometry</td><td>4</td><td>VIRCAM</td><td>ESO-VISTA</td></tr>\n",
       "<tr><td>VMC</td><td>vmc_dr5_psf_yjks_V3</td><td>VISTA Magellanic Survey: PSF Photometry (YJKs)</td><td>3</td><td>VIRCAM</td><td>ESO-VISTA</td></tr>\n",
       "<tr><td>VMC</td><td>vmc_dr5_sourceCat_yjks_V4</td><td>VISTA Magellanic Survey: Band-merged Master Source Catalog (YJKs)</td><td>4</td><td>VIRCAM</td><td>ESO-VISTA</td></tr>\n",
       "<tr><td>VMC</td><td>vmc_dr5_var_yjKs_V1</td><td>VISTA Magellanic Survey: Catalog of Variables</td><td>1</td><td>VIRCAM</td><td>ESO-VISTA</td></tr>\n",
       "<tr><td>VMC</td><td>vmc_er4_yjks_cepheidCatMetaData_fits_V3</td><td>VISTA Magellanic Survey: Cepheids</td><td>3</td><td>VIRCAM</td><td>ESO-VISTA</td></tr>\n",
       "<tr><td>VMC</td><td>vmc_er4_yjks_eclBinCatMetaData_fits_V2</td><td>VISTA Magellanic Survey: Eclipsing Binaries</td><td>2</td><td>VIRCAM</td><td>ESO-VISTA</td></tr>\n",
       "<tr><td>VMC</td><td>vmc_er4_yjks_rrLyrCatMetaData_fits_V1</td><td>VISTA Magellanic Survey: RR Lyrae stars</td><td>1</td><td>VIRCAM</td><td>ESO-VISTA</td></tr>\n",
       "<tr><td>VVV</td><td>VVV_CAT_V2</td><td>VVV: ZYJHKs Catalogue in the Via Lactea</td><td>2</td><td>VIRCAM</td><td>ESO-VISTA</td></tr>\n",
       "<tr><td>VVV</td><td>VVV_MPHOT_Ks_V2</td><td>VVV: Multi-Epoch Ks-Band Photometry in the Via Lactea</td><td>2</td><td>VIRCAM</td><td>ESO-VISTA</td></tr>\n",
       "<tr><td>VVV</td><td>VVV_VAR_V2</td><td>VVV: Catalogue of Variables in the Via Lactea</td><td>2</td><td>VIRCAM</td><td>ESO-VISTA</td></tr>\n",
       "<tr><td>VVV</td><td>VVV_VIRAC_PM_V1</td><td>VVV/VIRAC: proper motion catalog</td><td>1</td><td>VIRCAM</td><td>ESO-VISTA</td></tr>\n",
       "</table><style>table.dataTable {clear: both; width: auto !important; margin: 0 !important;}\n",
       ".dataTables_info, .dataTables_length, .dataTables_filter, .dataTables_paginate{\n",
       "display: inline-block; margin-right: 1em; }\n",
       ".paginate_button { margin-right: 5px; }\n",
       "</style>\n",
       "<script>\n",
       "\n",
       "var astropy_sort_num = function(a, b) {\n",
       "    var a_num = parseFloat(a);\n",
       "    var b_num = parseFloat(b);\n",
       "\n",
       "    if (isNaN(a_num) && isNaN(b_num))\n",
       "        return ((a < b) ? -1 : ((a > b) ? 1 : 0));\n",
       "    else if (!isNaN(a_num) && !isNaN(b_num))\n",
       "        return ((a_num < b_num) ? -1 : ((a_num > b_num) ? 1 : 0));\n",
       "    else\n",
       "        return isNaN(a_num) ? -1 : 1;\n",
       "}\n",
       "\n",
       "require.config({paths: {\n",
       "    datatables: 'https://cdn.datatables.net/1.10.12/js/jquery.dataTables.min'\n",
       "}});\n",
       "require([\"datatables\"], function(){\n",
       "    console.log(\"$('#table140369136894032-278240').dataTable()\");\n",
       "    \n",
       "jQuery.extend( jQuery.fn.dataTableExt.oSort, {\n",
       "    \"optionalnum-asc\": astropy_sort_num,\n",
       "    \"optionalnum-desc\": function (a,b) { return -astropy_sort_num(a, b); }\n",
       "});\n",
       "\n",
       "    $('#table140369136894032-278240').dataTable({\n",
       "        order: [],\n",
       "        pageLength: 5,\n",
       "        lengthMenu: [[5, 10, 25, 50, 100, 500, 1000, -1], [5, 10, 25, 50, 100, 500, 1000, 'All']],\n",
       "        pagingType: \"full_numbers\",\n",
       "        columnDefs: [{targets: [3], type: \"optionalnum\"}]\n",
       "    });\n",
       "});\n",
       "</script>\n"
      ],
      "text/plain": [
       "<IPython.core.display.HTML object>"
      ]
     },
     "execution_count": 7,
     "metadata": {},
     "output_type": "execute_result"
    }
   ],
   "source": [
    "telescope_filter = (all_catalogues['telescope'] == 'ESO-VISTA') | (all_catalogues['telescope'] == 'ESO-VST, ESO-VISTA')\n",
    "vista_catalogues = all_catalogues.copy()[telescope_filter]\n",
    "vista_catalogues['collection', 'table_name', 'title', 'version', 'instrument', 'telescope'].show_in_notebook(show_row_index=False, display_length=5)"
   ]
  },
  {
   "cell_type": "markdown",
   "metadata": {},
   "source": [
    "To obtain the description of each table, you can recursively run over the `description` column:"
   ]
  },
  {
   "cell_type": "code",
   "execution_count": 8,
   "metadata": {
    "scrolled": false
   },
   "outputs": [
    {
     "name": "stdout",
     "output_type": "stream",
     "text": [
      "Collection:  GCAV \n",
      "Table:       gcav_rxcj1515_YJKs_cat_fits_V1 \n",
      "Description: GCAV YJKs merged catalogue for RXCJ1514.9-1523 cluster, containing aperture matched photometry from the deep stacks \n",
      " \n",
      "\n",
      "Collection:  GCAV \n",
      "Table:       gcav_rxcj2129_YJKs_cat_fits_V1 \n",
      "Description: GCAV YJKs merged catalogue for RXCJ2129.6+0005 cluster, containing aperture matched photometry from the deep stacks \n",
      " \n",
      "\n",
      "Collection:  KIDS \n",
      "Table:       KiDS_DR4_1_ugriZYJHKs_cat_fits \n",
      "Description: The DR4.1 catalogue is an update of the DR4.0 catalogue which, due to a small bug in the alignment of the mask images during the multi-band catalogue production, has incorrect photometry flags for a small percentage of sources on 196 tiles. \n",
      " \n",
      "\n",
      "Collection:  MW-BULGE-PSFPHOT \n",
      "Table:       MW_BULGE_PSFPHOT_V1 \n",
      "Description: This catalog provides a comprehensive census of the stellar populations in the inner ~300 sqdeg of the Galaxy. It is based on observations obtained with VISTA as part of the ESO public survey VVV. The measurements were obtained by performing PSF-fitting photometry of multi-epoch J and Ks images. \n",
      " \n",
      "\n",
      "Collection:  UltraVISTA \n",
      "Table:       COSMOS2015_Laigle_v1_1b_latestV7_fits_V1 \n",
      "Description: The COSMOS2015 catalogue contains precise photometric redshifts and stellar masses for more than half a million objects over the 2 deg2 COSMOS field. \n",
      " \n",
      "\n",
      "Collection:  UltraVISTA \n",
      "Table:       UVISTA_5band_cat_dr4_rc_v2_fits_V3 \n",
      "Description: UltraVISTA is an ultra-deep near-infrared survey of the central region of the COSMOS field. The total exposure time contributing to this release is1287.5 hours. \n",
      " \n",
      "\n",
      "Collection:  VEXAS \n",
      "Table:       VEXAS_AllWISE_V1 \n",
      "Description: This table contains unique objects with infrared photometry from VHS or VIKING\n",
      "and a match in AllWISE within a matching radius of 3\".  Photometry is always given in the Vega reference system. \n",
      " \n",
      "\n",
      "Collection:  VHS \n",
      "Table:       VHS_CAT_V3 \n",
      "Description: This multi-band source catalogue provides aperture photometry in four near infrared broad-band filters: Y, J, H and Ks for almost 1.4 billion detections. The total coverage of the VHS survey is almost 17000 square degrees in the South Hemisphere. \n",
      " \n",
      "\n",
      "Collection:  VIDEO \n",
      "Table:       video_er3_zyjhks_CDFS_catMetaData_fits_V2 \n",
      "Description: VIDEO is a deep near infrared survey which targets ~12 square degrees over the ELAIS S1, XMMLSS, and ECDFS extragalactic fields. To the 5sigma limit, the Ks band selected catalogue contains 574,812 unique sources detected across the three tiles covering ~4.5 deg2. \n",
      " \n",
      "\n",
      "Collection:  VIDEO \n",
      "Table:       video_er3_zyjhks_ES1_catMetaData_fits_V2 \n",
      "Description: VIDEO is a deep near infrared survey which targets ~12 square degrees over the ELAIS S1, XMMLSS, and ECDFS extragalactic fields. To the 5sigma limit, the Ks band selected cata  logue contains 477,798 unique sources over ~3 deg2 (two tiles). \n",
      " \n",
      "\n",
      "Collection:  VIDEO \n",
      "Table:       video_er3_zyjhks_XMM_catMetaData_fits_V3 \n",
      "Description: VIDEO is a deep near infrared survey which targets ~12 square degrees over the ELAIS S1, XMMLSS, and ECDFS extragalactic fields. To the 5sigma limit, our Ks band selected cata  logue contains 661,061 unique sources detected across the three tiles covering ~4.5 deg2 . \n",
      " \n",
      "\n",
      "Collection:  VIKING \n",
      "Table:       viking_er5_zyjj_1j_2hks_catMetaData_fits_V4 \n",
      "Description: Multi-band source catalogue of the VISTA Kilo-degree Infrared Galaxy Survey (VIKING) in the ZYJHKs filters. This release contains 935 tiles with coverage in all five VIKING filters. These 935 fields cover a total of 1350 square degrees. \n",
      " \n",
      "\n",
      "Collection:  VMC \n",
      "Table:       vmc_dr5_mPhotJ_V4 \n",
      "Description: Multi-Epoch J-Band Photometry obtained by the VISTA Magellanic Survey covering the full SMC, the Bridge and the Stream. \n",
      " \n",
      "\n",
      "Collection:  VMC \n",
      "Table:       vmc_dr5_mPhotKs_V4 \n",
      "Description: Multi-Epoch Ks-Band Photometry obtained by the VISTA Magellanic Survey covering the full SMC, the Bridge and the Stream. \n",
      " \n",
      "\n",
      "Collection:  VMC \n",
      "Table:       vmc_dr5_mPhotY_V4 \n",
      "Description: Multi-Epoch Y-Band Photometry obtained by the VISTA Magellanic Survey covering the full SMC, the Bridge and the Stream. \n",
      " \n",
      "\n",
      "Collection:  VMC \n",
      "Table:       vmc_dr5_psf_yjks_V3 \n",
      "Description: The deep multi-filter YJKs PSF catalogue was generated correlating the three filters PSF catalogues using a 1 arcsec maximum radius. \n",
      " \n",
      "\n",
      "Collection:  VMC \n",
      "Table:       vmc_dr5_sourceCat_yjks_V4 \n",
      "Description: Epoch-merged and band-merged master source catalogues covering the SMC, the Bridge and Stream in YJKs. \n",
      " \n",
      "\n",
      "Collection:  VMC \n",
      "Table:       vmc_dr5_var_yjKs_V1 \n",
      "Description: Catalogue of variable sources of the near-infrared VISTA Magellanic Clouds Survey (VMC) covering the SMC, the Bridge and Stream, containing mean magnitudes, amplitudes and probabilities for genuine variability in Y, J and Ks bands. \n",
      " \n",
      "\n",
      "Collection:  VMC \n",
      "Table:       vmc_er4_yjks_cepheidCatMetaData_fits_V3 \n",
      "Description: The classical Cepheid stars included in this release are initially extracted from the OGLE-III (tile LMC 6_6, SMC 4_3, 5_2 and 5_4) and EROS-2 (tile LMC 8_8 and SMC 5_4) surveys. Tile LMC 8_8 is only 70% covered (see above). Anomalous and Type II Cepheids, extracted also from the OGLE III survey, are present for tiles LMC 5_5, 6_4, 6_6, 7_3, and 8_8. \n",
      " \n",
      "\n",
      "Collection:  VMC \n",
      "Table:       vmc_er4_yjks_eclBinCatMetaData_fits_V2 \n",
      "Description: The Eclipsing Binary stars included in this release are initially extracted from the EROS-2 and OGLE III surveys. Only 70% of tile LMC 8_8 was covered by these surveys and the variable stars in the remaining area of the tile, as well as in tiles LMC 3_5 and 4_2 have yet to be discovered. \n",
      " \n",
      "\n",
      "Collection:  VMC \n",
      "Table:       vmc_er4_yjks_rrLyrCatMetaData_fits_V1 \n",
      "Description: The RR Lyrae stars included in this release are initially extracted from the OGLE IV survey. \n",
      " \n",
      "\n",
      "Collection:  VVV \n",
      "Table:       VVV_CAT_V2 \n",
      "Description: Multi-band source catalogue of the near-infrared VISTA Variables in the Via Lactea Survey (VVV) in the five broadband filters ZYJHKs. The survey covers 525 square degrees in the Galactic disk and bulge region. The catalogue lists about 419 million sources. \n",
      " \n",
      "\n",
      "Collection:  VVV \n",
      "Table:       VVV_MPHOT_Ks_V2 \n",
      "Description: Multi-epoch photometry of sources in the near-infrared VISTA Variables in the Via Lactea Survey (VVV). The catalogue lists about 2.6 billion measurements in the Ks band. \n",
      " \n",
      "\n",
      "Collection:  VVV \n",
      "Table:       VVV_VAR_V2 \n",
      "Description: Catalogue of variable sources of the near-infrared VISTA Variables in the Via Lactea Survey (VVV) containing mean magnitudes, amplitudes and probabilities for genuine variability in the Ks band.The catalogue lists about 13.2 million sources. \n",
      " \n",
      "\n",
      "Collection:  VVV \n",
      "Table:       VVV_VIRAC_PM_V1 \n",
      "Description: The VVV Infrared Astrometric Catalog (VIRAC) collects the proper motion measurements based on the VVV survey data. It provides ZYJHKs bandmerged magnitudes for each star. For the multi-epoch observations in the Ks band the magnitude is a mean value. Typical precision of the pm measurements are of 0.67 mas/yr for bright stars (11<Ks<14). \n",
      " \n",
      "\n"
     ]
    }
   ],
   "source": [
    "for idx in range(len(vista_catalogues)):\n",
    "    print('Collection:  {} \\nTable:       {} \\nDescription: {} \\n \\n'.format(vista_catalogues['collection'][idx],\n",
    "                                                                       vista_catalogues['table_name'][idx],\n",
    "                                                                       vista_catalogues['description'][idx]))"
   ]
  },
  {
   "cell_type": "markdown",
   "metadata": {},
   "source": [
    "## Identify RA, Dec, and Source ID\n",
    "\n",
    "Now you are ready the recursively explore all catalogues containing data collected with the [ESO-VISTA telescope](https://www.eso.org/sci/facilities/paranal/telescopes/vista.html). There are however few points that need to be taken into account first."
   ]
  },
  {
   "cell_type": "markdown",
   "metadata": {},
   "source": [
    "Some catalogues are spread among different tables. This is the case, for instance, of the [VISTA survey of the Magellanic Clouds system (VMC)](https://www.eso.org/rm/api/v1/public/releaseDescriptions/155). The reference catalogue that contains position and ID of the sources is identified by the columns`target_table` and `target_column`"
   ]
  },
  {
   "cell_type": "code",
   "execution_count": 9,
   "metadata": {},
   "outputs": [
    {
     "data": {
      "text/html": [
       "<i>Table length=9</i>\n",
       "<table id=\"table140369136783888-916297\" class=\"table-striped table-bordered table-condensed\">\n",
       "<thead><tr><th>collection</th><th>table_name</th><th>table_ID</th><th>target_table</th><th>target_column</th></tr></thead>\n",
       "<tr><td>VMC</td><td>vmc_dr5_mPhotJ_V4</td><td>SOURCEID</td><td>vmc_dr5_sourceCat_yjks_V4</td><td>SOURCEID</td></tr>\n",
       "<tr><td>VMC</td><td>vmc_dr5_mPhotKs_V4</td><td>SOURCEID</td><td>vmc_dr5_sourceCat_yjks_V4</td><td>SOURCEID</td></tr>\n",
       "<tr><td>VMC</td><td>vmc_dr5_mPhotY_V4</td><td>SOURCEID</td><td>vmc_dr5_sourceCat_yjks_V4</td><td>SOURCEID</td></tr>\n",
       "<tr><td>VMC</td><td>vmc_dr5_psf_yjks_V3</td><td>PSFSOURCEID</td><td>vmc_dr5_sourceCat_yjks_V4</td><td>SOURCEID</td></tr>\n",
       "<tr><td>VMC</td><td>vmc_dr5_sourceCat_yjks_V4</td><td>SOURCEID</td><td></td><td></td></tr>\n",
       "<tr><td>VMC</td><td>vmc_dr5_var_yjKs_V1</td><td>SOURCEID</td><td>vmc_dr5_sourceCat_yjks_V4</td><td>SOURCEID</td></tr>\n",
       "<tr><td>VMC</td><td>vmc_er4_yjks_cepheidCatMetaData_fits_V3</td><td>VARID</td><td>vmc_er4_ksjy_catMetaData_fits_V3</td><td>SOURCEID</td></tr>\n",
       "<tr><td>VMC</td><td>vmc_er4_yjks_eclBinCatMetaData_fits_V2</td><td>VARID</td><td>vmc_er4_ksjy_catMetaData_fits_V3</td><td>SOURCEID</td></tr>\n",
       "<tr><td>VMC</td><td>vmc_er4_yjks_rrLyrCatMetaData_fits_V1</td><td>VARID</td><td>vmc_er4_ksjy_catMetaData_fits_V3</td><td>SOURCEID</td></tr>\n",
       "</table><style>table.dataTable {clear: both; width: auto !important; margin: 0 !important;}\n",
       ".dataTables_info, .dataTables_length, .dataTables_filter, .dataTables_paginate{\n",
       "display: inline-block; margin-right: 1em; }\n",
       ".paginate_button { margin-right: 5px; }\n",
       "</style>\n",
       "<script>\n",
       "\n",
       "var astropy_sort_num = function(a, b) {\n",
       "    var a_num = parseFloat(a);\n",
       "    var b_num = parseFloat(b);\n",
       "\n",
       "    if (isNaN(a_num) && isNaN(b_num))\n",
       "        return ((a < b) ? -1 : ((a > b) ? 1 : 0));\n",
       "    else if (!isNaN(a_num) && !isNaN(b_num))\n",
       "        return ((a_num < b_num) ? -1 : ((a_num > b_num) ? 1 : 0));\n",
       "    else\n",
       "        return isNaN(a_num) ? -1 : 1;\n",
       "}\n",
       "\n",
       "require.config({paths: {\n",
       "    datatables: 'https://cdn.datatables.net/1.10.12/js/jquery.dataTables.min'\n",
       "}});\n",
       "require([\"datatables\"], function(){\n",
       "    console.log(\"$('#table140369136783888-916297').dataTable()\");\n",
       "    \n",
       "jQuery.extend( jQuery.fn.dataTableExt.oSort, {\n",
       "    \"optionalnum-asc\": astropy_sort_num,\n",
       "    \"optionalnum-desc\": function (a,b) { return -astropy_sort_num(a, b); }\n",
       "});\n",
       "\n",
       "    $('#table140369136783888-916297').dataTable({\n",
       "        order: [],\n",
       "        pageLength: 5,\n",
       "        lengthMenu: [[5, 10, 25, 50, 100, 500, 1000, -1], [5, 10, 25, 50, 100, 500, 1000, 'All']],\n",
       "        pagingType: \"full_numbers\",\n",
       "        columnDefs: [{targets: [], type: \"optionalnum\"}]\n",
       "    });\n",
       "});\n",
       "</script>\n"
      ],
      "text/plain": [
       "<IPython.core.display.HTML object>"
      ]
     },
     "execution_count": 9,
     "metadata": {},
     "output_type": "execute_result"
    }
   ],
   "source": [
    "vmc_filter = (vista_catalogues['collection'] == 'VMC')\n",
    "vmc_catalogues = vista_catalogues.copy()[vmc_filter]\n",
    "vmc_catalogues['collection', 'table_name', 'table_ID', 'target_table', 'target_column'].show_in_notebook(show_row_index=False, display_length=5)"
   ]
  },
  {
   "cell_type": "markdown",
   "metadata": {},
   "source": [
    "This basically means, for instance, that basic information on the targets present in the table `vmc_dr5_mPhotJ_V4` are located in the table `vmc_dr5_sourceCat_yjks_V4` and the connection is based on the columns `SOURCEID`. These are identified by the `ucd` token `meta.id;meta.main`."
   ]
  },
  {
   "cell_type": "code",
   "execution_count": 10,
   "metadata": {},
   "outputs": [
    {
     "data": {
      "text/html": [
       "<i>Table length=1</i>\n",
       "<table id=\"table140369134641680-226867\" class=\"table-striped table-bordered table-condensed\">\n",
       "<thead><tr><th>table_name</th><th>column_name</th><th>ucd</th><th>datatype</th><th>description</th><th>unit</th></tr></thead>\n",
       "<tr><td>vmc_dr5_mPhotJ_V4</td><td>SOURCEID</td><td>meta.id;meta.main</td><td>BIGINT</td><td>UID of this merged detection</td><td></td></tr>\n",
       "</table><style>table.dataTable {clear: both; width: auto !important; margin: 0 !important;}\n",
       ".dataTables_info, .dataTables_length, .dataTables_filter, .dataTables_paginate{\n",
       "display: inline-block; margin-right: 1em; }\n",
       ".paginate_button { margin-right: 5px; }\n",
       "</style>\n",
       "<script>\n",
       "\n",
       "var astropy_sort_num = function(a, b) {\n",
       "    var a_num = parseFloat(a);\n",
       "    var b_num = parseFloat(b);\n",
       "\n",
       "    if (isNaN(a_num) && isNaN(b_num))\n",
       "        return ((a < b) ? -1 : ((a > b) ? 1 : 0));\n",
       "    else if (!isNaN(a_num) && !isNaN(b_num))\n",
       "        return ((a_num < b_num) ? -1 : ((a_num > b_num) ? 1 : 0));\n",
       "    else\n",
       "        return isNaN(a_num) ? -1 : 1;\n",
       "}\n",
       "\n",
       "require.config({paths: {\n",
       "    datatables: 'https://cdn.datatables.net/1.10.12/js/jquery.dataTables.min'\n",
       "}});\n",
       "require([\"datatables\"], function(){\n",
       "    console.log(\"$('#table140369134641680-226867').dataTable()\");\n",
       "    \n",
       "jQuery.extend( jQuery.fn.dataTableExt.oSort, {\n",
       "    \"optionalnum-asc\": astropy_sort_num,\n",
       "    \"optionalnum-desc\": function (a,b) { return -astropy_sort_num(a, b); }\n",
       "});\n",
       "\n",
       "    $('#table140369134641680-226867').dataTable({\n",
       "        order: [],\n",
       "        pageLength: 50,\n",
       "        lengthMenu: [[10, 25, 50, 100, 500, 1000, -1], [10, 25, 50, 100, 500, 1000, 'All']],\n",
       "        pagingType: \"full_numbers\",\n",
       "        columnDefs: [{targets: [], type: \"optionalnum\"}]\n",
       "    });\n",
       "});\n",
       "</script>\n"
      ],
      "text/plain": [
       "<IPython.core.display.HTML object>"
      ]
     },
     "execution_count": 10,
     "metadata": {},
     "output_type": "execute_result"
    }
   ],
   "source": [
    "columns_VMC_PhotJ = archive_catalogues.columns_info(tables='vmc_dr5_mPhotJ_V4')\n",
    "columns_VMC_PhotJ[(columns_VMC_PhotJ['ucd'] == 'meta.id;meta.main')].show_in_notebook(show_row_index=False)"
   ]
  },
  {
   "cell_type": "code",
   "execution_count": 11,
   "metadata": {},
   "outputs": [
    {
     "data": {
      "text/html": [
       "<i>Table length=1</i>\n",
       "<table id=\"table140369135344144-924738\" class=\"table-striped table-bordered table-condensed\">\n",
       "<thead><tr><th>table_name</th><th>column_name</th><th>ucd</th><th>datatype</th><th>description</th><th>unit</th></tr></thead>\n",
       "<tr><td>vmc_dr5_sourceCat_yjks_V4</td><td>SOURCEID</td><td>meta.id;meta.main</td><td>BIGINT</td><td>UID of this merged detection as assigned by merge algorithm</td><td></td></tr>\n",
       "</table><style>table.dataTable {clear: both; width: auto !important; margin: 0 !important;}\n",
       ".dataTables_info, .dataTables_length, .dataTables_filter, .dataTables_paginate{\n",
       "display: inline-block; margin-right: 1em; }\n",
       ".paginate_button { margin-right: 5px; }\n",
       "</style>\n",
       "<script>\n",
       "\n",
       "var astropy_sort_num = function(a, b) {\n",
       "    var a_num = parseFloat(a);\n",
       "    var b_num = parseFloat(b);\n",
       "\n",
       "    if (isNaN(a_num) && isNaN(b_num))\n",
       "        return ((a < b) ? -1 : ((a > b) ? 1 : 0));\n",
       "    else if (!isNaN(a_num) && !isNaN(b_num))\n",
       "        return ((a_num < b_num) ? -1 : ((a_num > b_num) ? 1 : 0));\n",
       "    else\n",
       "        return isNaN(a_num) ? -1 : 1;\n",
       "}\n",
       "\n",
       "require.config({paths: {\n",
       "    datatables: 'https://cdn.datatables.net/1.10.12/js/jquery.dataTables.min'\n",
       "}});\n",
       "require([\"datatables\"], function(){\n",
       "    console.log(\"$('#table140369135344144-924738').dataTable()\");\n",
       "    \n",
       "jQuery.extend( jQuery.fn.dataTableExt.oSort, {\n",
       "    \"optionalnum-asc\": astropy_sort_num,\n",
       "    \"optionalnum-desc\": function (a,b) { return -astropy_sort_num(a, b); }\n",
       "});\n",
       "\n",
       "    $('#table140369135344144-924738').dataTable({\n",
       "        order: [],\n",
       "        pageLength: 50,\n",
       "        lengthMenu: [[10, 25, 50, 100, 500, 1000, -1], [10, 25, 50, 100, 500, 1000, 'All']],\n",
       "        pagingType: \"full_numbers\",\n",
       "        columnDefs: [{targets: [], type: \"optionalnum\"}]\n",
       "    });\n",
       "});\n",
       "</script>\n"
      ],
      "text/plain": [
       "<IPython.core.display.HTML object>"
      ]
     },
     "execution_count": 11,
     "metadata": {},
     "output_type": "execute_result"
    }
   ],
   "source": [
    "columns_VMC_Sources = archive_catalogues.columns_info(tables='vmc_dr5_sourceCat_yjks_V4')\n",
    "columns_VMC_Sources[(columns_VMC_Sources['ucd'] == 'meta.id;meta.main')].show_in_notebook(show_row_index=False)"
   ]
  },
  {
   "cell_type": "markdown",
   "metadata": {},
   "source": [
    "## Explore catalogue content\n",
    "\n",
    "You can glance the content of a catalogue by checking the name of the columns present in the associated list of collections (or list of tables). For instance, for the [Kilo Degree Survey](https://www.eso.org/rm/api/v1/public/releaseDescriptions/151)\n",
    "```python\n",
    "archive_catalogues.columns_info(tables='KiDS_DR4_1_ugriZYJHKs_cat_fits')\n",
    "```"
   ]
  },
  {
   "cell_type": "code",
   "execution_count": 12,
   "metadata": {
    "scrolled": true
   },
   "outputs": [
    {
     "data": {
      "text/html": [
       "<i>Table length=47</i>\n",
       "<table id=\"table140369135393104-981963\" class=\"table-striped table-bordered table-condensed\">\n",
       "<thead><tr><th>table_name</th><th>column_name</th><th>ucd</th><th>datatype</th><th>description</th><th>unit</th></tr></thead>\n",
       "<tr><td>vmc_dr5_psf_yjks_V3</td><td>IAUNAME</td><td>meta.id</td><td>CHAR</td><td>IAU Name (not unique)</td><td></td></tr>\n",
       "<tr><td>vmc_dr5_psf_yjks_V3</td><td>SOURCEID</td><td>meta.id</td><td>BIGINT</td><td>UID of this merged detection as assigned by merge algorithm</td><td></td></tr>\n",
       "<tr><td>vmc_dr5_psf_yjks_V3</td><td>DISTANCEMINS</td><td>pos.angDistance</td><td>REAL</td><td>Angular separation between neighbours</td><td>arcminutes</td></tr>\n",
       "<tr><td>vmc_dr5_psf_yjks_V3</td><td>PSFSOURCEID</td><td>meta.id;meta.main</td><td>BIGINT</td><td>UID of VMC PSF extracted objects</td><td></td></tr>\n",
       "<tr><td>vmc_dr5_psf_yjks_V3</td><td>FIELDNAME</td><td>meta.id</td><td>CHAR</td><td>ID of field</td><td></td></tr>\n",
       "<tr><td>vmc_dr5_psf_yjks_V3</td><td>FRAMESETID</td><td>meta.id</td><td>BIGINT</td><td>frame set ID, linked to vmcMergeLog, assigned by merging procedure</td><td></td></tr>\n",
       "<tr><td>vmc_dr5_psf_yjks_V3</td><td>CUEVENTID</td><td>meta.id</td><td>INTEGER</td><td>UID of curation event giving rise to this record</td><td></td></tr>\n",
       "<tr><td>vmc_dr5_psf_yjks_V3</td><td>RAY</td><td>pos.eq.ra;em.IR.NIR</td><td>DOUBLE</td><td>PSF fit RA centre Y filter</td><td>deg</td></tr>\n",
       "<tr><td>vmc_dr5_psf_yjks_V3</td><td>DECY</td><td>pos.eq.dec;em.IR.NIR</td><td>DOUBLE</td><td>PSF fit Dec centre Y filter</td><td>deg</td></tr>\n",
       "<tr><td>vmc_dr5_psf_yjks_V3</td><td>YPSFMAG</td><td>stat.fit.param;phot.mag;em.IR.NIR;meta.main</td><td>REAL</td><td>3 pixels PSF fitting magnitude Y filter</td><td>mag</td></tr>\n",
       "<tr><td>vmc_dr5_psf_yjks_V3</td><td>YPSFMAGERR</td><td>stat.error;phot.mag;em.IR.NIR</td><td>REAL</td><td>PSF error Y filter</td><td>mag</td></tr>\n",
       "<tr><td>vmc_dr5_psf_yjks_V3</td><td>YSHARP</td><td>stat.fit.param;em.IR.NIR</td><td>REAL</td><td>PSF fitting shape parameter Y filter</td><td>dex</td></tr>\n",
       "<tr><td>vmc_dr5_psf_yjks_V3</td><td>RAJ</td><td>pos.eq.ra;em.IR.J</td><td>DOUBLE</td><td>PSF fit RA centre J filter</td><td>deg</td></tr>\n",
       "<tr><td>vmc_dr5_psf_yjks_V3</td><td>DECJ</td><td>pos.eq.dec;em.IR.J</td><td>DOUBLE</td><td>PSF fit Dec centre J filter</td><td>deg</td></tr>\n",
       "<tr><td>vmc_dr5_psf_yjks_V3</td><td>JPSFMAG</td><td>stat.fit.param;phot.mag;em.IR.J;meta.main</td><td>REAL</td><td>3 pixels PSF fitting magnitude J filter</td><td>mag</td></tr>\n",
       "<tr><td>vmc_dr5_psf_yjks_V3</td><td>JPSFMAGERR</td><td>stat.error;phot.mag;em.IR.J</td><td>REAL</td><td>PSF error J filter</td><td>mag</td></tr>\n",
       "<tr><td>vmc_dr5_psf_yjks_V3</td><td>JSHARP</td><td>stat.fit.param;em.IR.J</td><td>REAL</td><td>PSF fitting shape parameter J filter</td><td>dex</td></tr>\n",
       "<tr><td>vmc_dr5_psf_yjks_V3</td><td>RAKS</td><td>pos.eq.ra;em.IR.K</td><td>DOUBLE</td><td>PSF fit RA centre Ks filter</td><td>deg</td></tr>\n",
       "<tr><td>vmc_dr5_psf_yjks_V3</td><td>DECKS</td><td>pos.eq.dec;em.IR.K</td><td>DOUBLE</td><td>PSF fit Dec centre Ks filter</td><td>deg</td></tr>\n",
       "<tr><td>vmc_dr5_psf_yjks_V3</td><td>KSPSFMAG</td><td>stat.fit.param;phot.mag;em.IR.K;meta.main</td><td>REAL</td><td>3 pixels PSF fitting magnitude Ks filter</td><td>mag</td></tr>\n",
       "<tr><td>vmc_dr5_psf_yjks_V3</td><td>KSPSFMAGERR</td><td>stat.error;phot.mag;em.IR.K</td><td>REAL</td><td>PSF error Ks filter</td><td>mag</td></tr>\n",
       "<tr><td>vmc_dr5_psf_yjks_V3</td><td>KSSHARP</td><td>stat.fit.param;em.IR.K</td><td>REAL</td><td>PSF fitting shape parameter Ks filter</td><td>dex</td></tr>\n",
       "<tr><td>vmc_dr5_psf_yjks_V3</td><td>RA2000</td><td>pos.eq.ra;meta.main</td><td>DOUBLE</td><td>PSF Y,J,Ks average RA centre (main)</td><td>deg</td></tr>\n",
       "<tr><td>vmc_dr5_psf_yjks_V3</td><td>DEC2000</td><td>pos.eq.dec;meta.main</td><td>DOUBLE</td><td>PSF Y,J,Ks average Dec centre (main)</td><td>deg</td></tr>\n",
       "<tr><td>vmc_dr5_psf_yjks_V3</td><td>CX</td><td>pos.cartesian.x;pos.eq</td><td>DOUBLE</td><td>unit vector of spherical co-ordinates</td><td></td></tr>\n",
       "<tr><td>vmc_dr5_psf_yjks_V3</td><td>CY</td><td>pos.cartesian.y;pos.eq</td><td>DOUBLE</td><td>unit vector of spherical co-ordinates</td><td></td></tr>\n",
       "<tr><td>vmc_dr5_psf_yjks_V3</td><td>CZ</td><td>pos.cartesian.z;pos.eq</td><td>DOUBLE</td><td>unit vector of spherical co-ordinates</td><td></td></tr>\n",
       "<tr><td>vmc_dr5_psf_yjks_V3</td><td>HTMID</td><td>pos.HTM</td><td>BIGINT</td><td>Hierarchical Triangular Mesh (HTM) index, 20 deep</td><td></td></tr>\n",
       "<tr><td>vmc_dr5_psf_yjks_V3</td><td>L</td><td>pos.galactic.lon</td><td>DOUBLE</td><td>Galactic longitude</td><td>deg</td></tr>\n",
       "<tr><td>vmc_dr5_psf_yjks_V3</td><td>B</td><td>pos.galactic.lat</td><td>DOUBLE</td><td>Galactic latitude</td><td>deg</td></tr>\n",
       "<tr><td>vmc_dr5_psf_yjks_V3</td><td>PRIORSEC</td><td>meta.code</td><td>BIGINT</td><td>Seam code for a unique (=0) or duplicated (!=0) source</td><td></td></tr>\n",
       "<tr><td>vmc_dr5_psf_yjks_V3</td><td>LCOMPY</td><td>stat.probability;em.IR.NIR</td><td>REAL</td><td>Local completeness in Y</td><td>dex</td></tr>\n",
       "<tr><td>vmc_dr5_psf_yjks_V3</td><td>LCOMPJ</td><td>stat.probability;em.IR.J</td><td>REAL</td><td>Local completeness in J</td><td>dex</td></tr>\n",
       "<tr><td>vmc_dr5_psf_yjks_V3</td><td>LCOMPKS</td><td>stat.probability;em.IR.K</td><td>REAL</td><td>Local completeness in Ks</td><td>dex</td></tr>\n",
       "<tr><td>vmc_dr5_psf_yjks_V3</td><td>SYSERRY</td><td>stat.error;phot.mag;em.IR.NIR</td><td>REAL</td><td>Local photometric systematic error in Y</td><td>mag</td></tr>\n",
       "<tr><td>vmc_dr5_psf_yjks_V3</td><td>SYSERRJ</td><td>stat.error;phot.mag;em.IR.J</td><td>REAL</td><td>Local photometric systematic error in J</td><td>mag</td></tr>\n",
       "<tr><td>vmc_dr5_psf_yjks_V3</td><td>SYSERRKS</td><td>stat.error;phot.mag;em.IR.K</td><td>REAL</td><td>Local photometric systematic error in Ks</td><td>mag</td></tr>\n",
       "<tr><td>vmc_dr5_psf_yjks_V3</td><td>STARPROB</td><td>stat.probability</td><td>REAL</td><td>probability of being a star</td><td></td></tr>\n",
       "<tr><td>vmc_dr5_psf_yjks_V3</td><td>NY</td><td>meta.number;em.IR.NIR</td><td>INTEGER</td><td>Number of stars used to calculate the completeness in Y</td><td></td></tr>\n",
       "<tr><td>vmc_dr5_psf_yjks_V3</td><td>NJ</td><td>meta.number;em.IR.J</td><td>INTEGER</td><td>Number of stars used to calculate the completeness in J</td><td></td></tr>\n",
       "<tr><td>vmc_dr5_psf_yjks_V3</td><td>NKS</td><td>meta.number;em.IR.K</td><td>INTEGER</td><td>Number of stars used to calculate the completeness in Ks</td><td></td></tr>\n",
       "<tr><td>vmc_dr5_psf_yjks_V3</td><td>YMJPSF</td><td>stat.fit.param;phot.color;em.IR.NIR;em.IR.J</td><td>REAL</td><td>Y-J 3 pixels PSF fitting colour</td><td>mag</td></tr>\n",
       "<tr><td>vmc_dr5_psf_yjks_V3</td><td>YMJPSFERR</td><td>stat.error;em.IR.NIR;em.IR.J</td><td>REAL</td><td>Error on Y-J 3 pixels PSF fitting colour</td><td>mag</td></tr>\n",
       "<tr><td>vmc_dr5_psf_yjks_V3</td><td>JMKSPSF</td><td>stat.fit.param;phot.color;em.IR.J;em.IR.K</td><td>REAL</td><td>J-Ks 3 pixels PSF fitting colour</td><td>mag</td></tr>\n",
       "<tr><td>vmc_dr5_psf_yjks_V3</td><td>JMKSPSFERR</td><td>stat.error;em.IR.J;em.IR.K</td><td>REAL</td><td>Error on J-Ks 3 pixels PSF fitting colour</td><td>mag</td></tr>\n",
       "<tr><td>vmc_dr5_psf_yjks_V3</td><td>YMKSPSF</td><td>stat.fit.param;phot.color;em.IR.NIR;em.IR.K</td><td>REAL</td><td>Y-Ks 3 pixels PSF fitting colour</td><td>mag</td></tr>\n",
       "<tr><td>vmc_dr5_psf_yjks_V3</td><td>YMKSPSFERR</td><td>stat.error;em.IR.NIR;em.IR.K</td><td>REAL</td><td>Error on Y-Ks 3 pixels PSF fitting colour</td><td>mag</td></tr>\n",
       "</table><style>table.dataTable {clear: both; width: auto !important; margin: 0 !important;}\n",
       ".dataTables_info, .dataTables_length, .dataTables_filter, .dataTables_paginate{\n",
       "display: inline-block; margin-right: 1em; }\n",
       ".paginate_button { margin-right: 5px; }\n",
       "</style>\n",
       "<script>\n",
       "\n",
       "var astropy_sort_num = function(a, b) {\n",
       "    var a_num = parseFloat(a);\n",
       "    var b_num = parseFloat(b);\n",
       "\n",
       "    if (isNaN(a_num) && isNaN(b_num))\n",
       "        return ((a < b) ? -1 : ((a > b) ? 1 : 0));\n",
       "    else if (!isNaN(a_num) && !isNaN(b_num))\n",
       "        return ((a_num < b_num) ? -1 : ((a_num > b_num) ? 1 : 0));\n",
       "    else\n",
       "        return isNaN(a_num) ? -1 : 1;\n",
       "}\n",
       "\n",
       "require.config({paths: {\n",
       "    datatables: 'https://cdn.datatables.net/1.10.12/js/jquery.dataTables.min'\n",
       "}});\n",
       "require([\"datatables\"], function(){\n",
       "    console.log(\"$('#table140369135393104-981963').dataTable()\");\n",
       "    \n",
       "jQuery.extend( jQuery.fn.dataTableExt.oSort, {\n",
       "    \"optionalnum-asc\": astropy_sort_num,\n",
       "    \"optionalnum-desc\": function (a,b) { return -astropy_sort_num(a, b); }\n",
       "});\n",
       "\n",
       "    $('#table140369135393104-981963').dataTable({\n",
       "        order: [],\n",
       "        pageLength: 5,\n",
       "        lengthMenu: [[5, 10, 25, 50, 100, 500, 1000, -1], [5, 10, 25, 50, 100, 500, 1000, 'All']],\n",
       "        pagingType: \"full_numbers\",\n",
       "        columnDefs: [{targets: [], type: \"optionalnum\"}]\n",
       "    });\n",
       "});\n",
       "</script>\n"
      ],
      "text/plain": [
       "<IPython.core.display.HTML object>"
      ]
     },
     "execution_count": 12,
     "metadata": {},
     "output_type": "execute_result"
    }
   ],
   "source": [
    "table_kids = 'vmc_dr5_mPhotJ_V4'\n",
    "table_kids = 'vmc_dr5_psf_yjks_V3'\n",
    "columns_kids = archive_catalogues.columns_info(tables=table_kids)\n",
    "columns_kids[0:100].show_in_notebook(show_row_index=False, display_length=5)"
   ]
  },
  {
   "cell_type": "markdown",
   "metadata": {},
   "source": [
    "Once you decided which is your favourite catalogue, you can get it using:\n",
    "```python\n",
    "archive_catalogues.get_catalogues(tables=table_name)\n",
    "```\n",
    "At the moment with limit the query to only 2 entries of `KIDS` (i.e. we set `maxrec=2`):"
   ]
  },
  {
   "cell_type": "code",
   "execution_count": null,
   "metadata": {},
   "outputs": [
    {
     "name": "stderr",
     "output_type": "stream",
     "text": [
      "\u001b[1;32m[INFO]    ::\u001b[0m The query is:\n",
      "\u001b[1;32m[INFO]    ::\u001b[0m \n",
      "            SELECT \n",
      "                SOURCEID, RA2000, DEC2000 \n",
      "            FROM \n",
      "                vmc_dr5_sourceCat_yjks_V4\n",
      "            \n",
      "            WHERE\n",
      "                (\n",
      "                SOURCEID = 558377355612\n",
      "                )\n"
     ]
    },
    {
     "name": "stdout",
     "output_type": "stream",
     "text": [
      "Python 3.7.6 | packaged by conda-forge | (default, Mar 23 2020, 23:03:20) \n",
      "Type 'copyright', 'credits' or 'license' for more information\n",
      "IPython 7.17.0 -- An enhanced Interactive Python. Type '?' for help.\n",
      "\n",
      "In [1]:                 query_target_table.run_query(to_string=True)\n",
      "\n",
      "In [2]:                 target_catalogue = query_target_table.get_result_from_query()\n",
      "\n"
     ]
    }
   ],
   "source": [
    "KIDS = archive_catalogues.get_catalogues(tables=table_kids, maxrec=2, join_target_table=True)"
   ]
  },
  {
   "cell_type": "markdown",
   "metadata": {},
   "source": [
    "The result is thus stored in an `astropy.table`:"
   ]
  },
  {
   "cell_type": "code",
   "execution_count": null,
   "metadata": {},
   "outputs": [],
   "source": [
    "vista_catalogues['table_name', 'target_table', 'target_column',\n",
    "    'last_version', 'table_ID', 'table_RA', 'table_Dec'].show_in_notebook(show_row_index=False, display_length=5)"
   ]
  },
  {
   "cell_type": "code",
   "execution_count": null,
   "metadata": {
    "scrolled": false
   },
   "outputs": [],
   "source": [
    "KIDS['ID', 'RAJ2000', 'DECJ2000', 'MAG_GAAP_Y', 'MAG_GAAP_J', 'MAG_GAAP_H'].show_in_notebook(show_row_index=False, display_length=2)"
   ]
  },
  {
   "cell_type": "code",
   "execution_count": null,
   "metadata": {},
   "outputs": [],
   "source": [
    "for idx in range(len(vista_catalogues)):\n",
    "    print('Collection:  {} \\nTable:       {} \\nDescription: {} \\n \\n'.format(vista_catalogues['RA_id'][idx],\n",
    "                                                                       vista_catalogues['table_name'][idx],\n",
    "                                                                       vista_catalogues['description'][idx]))"
   ]
  },
  {
   "cell_type": "code",
   "execution_count": null,
   "metadata": {},
   "outputs": [],
   "source": [
    "for idx in range(len(vista_catalogues)):\n",
    "    table_name =  vista_catalogues['table_name'][idx]\n",
    "    target_table =  vista_catalogues['target_table'][idx]\n",
    "    if target_table is '':\n",
    "        print(table_name)\n",
    "        print(target_table)\n",
    "        columns = archive_catalogues.columns_info(tables=table_name)\n",
    "        ra_name = columns['column_name'][ (columns['ucd'] == 'pos.eq.ra;meta.main') ][0]\n",
    "        de_name = columns['column_name'][ (columns['ucd'] == 'pos.eq.dec;meta.main') ][0]    \n",
    "        print(ra_name, de_name)\n",
    "        print(\" \")\n",
    "\n",
    "\n",
    "\n",
    "\"\"\"\n",
    "VIKING = archive_catalogues.get_catalogues(tables=table_viking, columns=selected_columns, maxrec=20000,\n",
    "                                          type_of_query='async')\n",
    "\n",
    "CLASS_STAR = VIKING['MERGEDCLASS'].data\n",
    "JK = VIKING['JAPERMAG3'].data-VIKING['KSAPERMAG3'].data\n",
    "ZJ = VIKING['ZAPERMAG3'].data-VIKING['JAPERMAG3'].data\n",
    "\n",
    "plt.figure()\n",
    "plt.xlim(-.3,2.5)\n",
    "plt.ylim(-.3,2.3)\n",
    "plt.scatter(JK[CLASS_STAR==-1],ZJ[CLASS_STAR==-1], label=r'STAR', c='dodgerblue', alpha=0.2, marker='.')\n",
    "plt.scatter(JK[CLASS_STAR==1],ZJ[CLASS_STAR==1], label=r'EXTENDED', c='crimson', alpha=0.2, marker='.')\n",
    "plt.xlabel(r'$J - K_s$')\n",
    "plt.ylabel(r'$Z - J$')\n",
    "plt.legend()\n",
    "plt.show()\n",
    "plt.savefig('viking.jpg', format='jpg', quality=99, bbox_inches='tight')\n",
    "\"\"\""
   ]
  },
  {
   "cell_type": "code",
   "execution_count": null,
   "metadata": {},
   "outputs": [],
   "source": []
  }
 ],
 "metadata": {
  "kernelspec": {
   "display_name": "py37",
   "language": "python",
   "name": "py37"
  },
  "language_info": {
   "codemirror_mode": {
    "name": "ipython",
    "version": 3
   },
   "file_extension": ".py",
   "mimetype": "text/x-python",
   "name": "python",
   "nbconvert_exporter": "python",
   "pygments_lexer": "ipython3",
   "version": "3.7.6"
  }
 },
 "nbformat": 4,
 "nbformat_minor": 4
}
