{
 "cells": [
  {
   "cell_type": "markdown",
   "metadata": {},
   "source": [
    "# HOW TO obtain archival ESO data given RA and Dec"
   ]
  },
  {
   "cell_type": "code",
   "execution_count": 1,
   "metadata": {},
   "outputs": [],
   "source": [
    "%matplotlib notebook"
   ]
  },
  {
   "cell_type": "code",
   "execution_count": 3,
   "metadata": {},
   "outputs": [],
   "source": [
    "%load_ext autoreload\n",
    "%autoreload 2"
   ]
  },
  {
   "cell_type": "code",
   "execution_count": 4,
   "metadata": {},
   "outputs": [],
   "source": [
    "from ESOAsg.ancillary import astro\n",
    "from ESOAsg.core import archive_observations\n",
    "from astropy.coordinates import SkyCoord"
   ]
  },
  {
   "cell_type": "markdown",
   "metadata": {},
   "source": [
    "## Get RA and Dec of one target (or more)\n",
    "\n",
    "To begin, you need to choose the targets you would like to explore and get their coordinates. These needs to be an [astropy.coordinates](https://docs.astropy.org/en/stable/coordinates/) `SkyCoord` object. A `SkyCoord` object can easily be created by using:\n",
    "```python\n",
    "from astropy import units as u\n",
    "from astropy.coordinates import SkyCoord\n",
    "coordinates = SkyCoord(ra=10.625*u.degree, dec=41.2*u.degree, frame='icrs')\n",
    "```\n",
    "For this example, we consider a couple of standard stars observed as part of the [`MUSE library of stellar spectra`](https://www.eso.org/sci/publications/announcements/sciann17288.html) project ([Ivanov et al. 2019](https://ui.adsabs.harvard.edu/abs/2019A%26A...629A.100I/abstract)): \n",
    "* [HD 057060](http://simbad.u-strasbg.fr/simbad/sim-basic?Ident=HD+057060&submit=SIMBAD+search)\n",
    "* [HD 172230](http://simbad.u-strasbg.fr/simbad/sim-basic?Ident=HD+172230&submit=SIMBAD+search).\n",
    "\n",
    "The coordinates of these two stars are can be retrieved from their name using `Sesame`:"
   ]
  },
  {
   "cell_type": "code",
   "execution_count": 14,
   "metadata": {},
   "outputs": [
    {
     "name": "stdout",
     "output_type": "stream",
     "text": [
      "HD 057060: 07h18m40.3797s -24d33m31.3118s\n",
      "HD 172230: 18h38m54.9544s +06d16m14.8348s\n"
     ]
    }
   ],
   "source": [
    "HD057060_position = SkyCoord.from_name('HD 057060')\n",
    "HD172230_position = SkyCoord.from_name('HD 172230')\n",
    "print('HD 057060: {}'.format(HD057060_position.to_string('hmsdms')))\n",
    "print('HD 172230: {}'.format(HD172230_position.to_string('hmsdms')))"
   ]
  },
  {
   "cell_type": "markdown",
   "metadata": {},
   "source": [
    "## Query the archive\n",
    "\n",
    "There are several ways to query the ESO archive for the so-called Archive Data Products (in short, ADPs).\n",
    "\n",
    "```SQL\n",
    "SELECT\n",
    "    target_name, dp_id, s_ra, s_dec, t_exptime, em_min, em_max, \n",
    "    dataproduct_type, instrument_name, obstech, abmaglim,\n",
    "    proposal_id, obs_collection\n",
    "FROM\n",
    "    ivoa.ObsCore\n",
    "WHERE\n",
    "    CONTAINS(s_region,CIRCLE('ICRS',109.66824871,-24.55869773,5.0/3600.))=1\n",
    "AND\n",
    "    (instrument_name='MUSE' OR instrument_name='XSHOOTER')\n",
    "```"
   ]
  },
  {
   "cell_type": "code",
   "execution_count": 61,
   "metadata": {},
   "outputs": [
    {
     "name": "stderr",
     "output_type": "stream",
     "text": [
      "\u001b[1;30m[WORKING] ::\u001b[0m Running query 1 to the ESO archive (out of 2 total)\n",
      "\u001b[1;32m[INFO]    ::\u001b[0m A total of 4 entries has been retrieved\n",
      "\u001b[1;30m[WORKING] ::\u001b[0m Running query 2 to the ESO archive (out of 2 total)\n",
      "\u001b[1;32m[INFO]    ::\u001b[0m A total of 7 entries has been retrieved\n"
     ]
    }
   ],
   "source": [
    "position_list = [HD057060_position, HD172230_position]\n",
    "result_from_queries = archive_observations.query_from_radec(position_list, radius=5., instruments=['MUSE', 'XSHOOTER'],\n",
    "                                                           verbose=False)"
   ]
  },
  {
   "cell_type": "markdown",
   "metadata": {},
   "source": [
    "The results are stored in a list of astropy tables (one table per position). For instance, for HD 057060:"
   ]
  },
  {
   "cell_type": "code",
   "execution_count": 55,
   "metadata": {},
   "outputs": [
    {
     "data": {
      "text/html": [
       "<i>Table length=4</i>\n",
       "<table id=\"table139626269561168-816860\" class=\"table-striped table-bordered table-condensed\">\n",
       "<thead><tr><th>target_name</th><th>dp_id</th><th>s_ra</th><th>s_dec</th><th>t_exptime</th><th>em_min</th><th>em_max</th><th>dataproduct_type</th><th>instrument_name</th><th>obstech</th><th>abmaglim</th><th>proposal_id</th><th>obs_collection</th></tr></thead>\n",
       "<thead><tr><th></th><th></th><th>deg</th><th>deg</th><th>s</th><th>m</th><th>m</th><th></th><th></th><th></th><th>mag</th><th></th><th></th></tr></thead>\n",
       "<tr><td>2MASS-J07184037-2433312</td><td>ADP.2017-06-02T19:41:04.876</td><td>109.668427</td><td>-24.55842</td><td>0.4</td><td>5.336599999999999e-07</td><td>1.02e-06</td><td>spectrum</td><td>XSHOOTER</td><td>ECHELLE,SLIT,OFFSET</td><td>--</td><td>084.B-0869(B)</td><td>XSHOOTER</td></tr>\n",
       "<tr><td>2MASS-J07184037-2433312</td><td>ADP.2017-06-02T19:41:04.929</td><td>109.668427</td><td>-24.55842</td><td>4.0</td><td>9.9402e-07</td><td>2.47896e-06</td><td>spectrum</td><td>XSHOOTER</td><td>ECHELLE,SLIT,OFFSET</td><td>--</td><td>084.B-0869(B)</td><td>XSHOOTER</td></tr>\n",
       "<tr><td>2MASS-J07184037-2433312</td><td>ADP.2017-06-02T19:41:04.937</td><td>109.668427</td><td>-24.55842</td><td>0.4</td><td>2.9892000000000003e-07</td><td>5.5598e-07</td><td>spectrum</td><td>XSHOOTER</td><td>ECHELLE,SLIT,OFFSET</td><td>--</td><td>084.B-0869(B)</td><td>XSHOOTER</td></tr>\n",
       "<tr><td>HD 057060</td><td>ADP.2020-02-26T15:36:25.254</td><td>109.668254</td><td>-24.558703</td><td>0.9</td><td>4.74969e-07</td><td>9.34969e-07</td><td>spectrum</td><td>MUSE</td><td>IFU</td><td>--</td><td>099.D-0623(A)</td><td>MUSE-STD</td></tr>\n",
       "</table><style>table.dataTable {clear: both; width: auto !important; margin: 0 !important;}\n",
       ".dataTables_info, .dataTables_length, .dataTables_filter, .dataTables_paginate{\n",
       "display: inline-block; margin-right: 1em; }\n",
       ".paginate_button { margin-right: 5px; }\n",
       "</style>\n",
       "<script>\n",
       "\n",
       "var astropy_sort_num = function(a, b) {\n",
       "    var a_num = parseFloat(a);\n",
       "    var b_num = parseFloat(b);\n",
       "\n",
       "    if (isNaN(a_num) && isNaN(b_num))\n",
       "        return ((a < b) ? -1 : ((a > b) ? 1 : 0));\n",
       "    else if (!isNaN(a_num) && !isNaN(b_num))\n",
       "        return ((a_num < b_num) ? -1 : ((a_num > b_num) ? 1 : 0));\n",
       "    else\n",
       "        return isNaN(a_num) ? -1 : 1;\n",
       "}\n",
       "\n",
       "require.config({paths: {\n",
       "    datatables: 'https://cdn.datatables.net/1.10.12/js/jquery.dataTables.min'\n",
       "}});\n",
       "require([\"datatables\"], function(){\n",
       "    console.log(\"$('#table139626269561168-816860').dataTable()\");\n",
       "    \n",
       "jQuery.extend( jQuery.fn.dataTableExt.oSort, {\n",
       "    \"optionalnum-asc\": astropy_sort_num,\n",
       "    \"optionalnum-desc\": function (a,b) { return -astropy_sort_num(a, b); }\n",
       "});\n",
       "\n",
       "    $('#table139626269561168-816860').dataTable({\n",
       "        order: [],\n",
       "        pageLength: 50,\n",
       "        lengthMenu: [[10, 25, 50, 100, 500, 1000, -1], [10, 25, 50, 100, 500, 1000, 'All']],\n",
       "        pagingType: \"full_numbers\",\n",
       "        columnDefs: [{targets: [2, 3, 4, 5, 6, 10], type: \"optionalnum\"}]\n",
       "    });\n",
       "});\n",
       "</script>\n"
      ],
      "text/plain": [
       "<IPython.core.display.HTML object>"
      ]
     },
     "execution_count": 55,
     "metadata": {},
     "output_type": "execute_result"
    }
   ],
   "source": [
    "result_from_queries[0].show_in_notebook(show_row_index=False)"
   ]
  },
  {
   "cell_type": "code",
   "execution_count": 57,
   "metadata": {},
   "outputs": [
    {
     "data": {
      "text/plain": [
       "'ESO-specific field not present in the standard ObsCore. The original ESO identifier of the main science file. ObsCore uses obs_publisher_did, which returns the full IVO Identifier. This field can be used to join with other ESO (non-VO) tables, like provenance.'"
      ]
     },
     "execution_count": 57,
     "metadata": {},
     "output_type": "execute_result"
    }
   ],
   "source": []
  },
  {
   "cell_type": "markdown",
   "metadata": {},
   "source": [
    "## Query the ESO Archive to collect data withing the contours\n",
    "\n",
    "Now it is time to run the proper query to the Archive to obtain all data located within the contour regions. To do this you have two options:\n",
    "* Archive Science Portal: http://archive.eso.org/scienceportal/home\n",
    "* Programmatic access: http://archive.eso.org/programmatic/\n",
    "\n",
    "There is, however, one last step before doing this. You need to convert the contours into polygons. This is done with:\n",
    "```python\n",
    "download_archive.contours_to_polygons(contours, max_vertices=30)\n",
    "```\n",
    "where `max_vertices` is set to avoid crashes due to polygons with too many vertices in the queries."
   ]
  },
  {
   "cell_type": "code",
   "execution_count": 6,
   "metadata": {},
   "outputs": [],
   "source": [
    "polygons = download_archive.contours_to_polygons(contours, max_vertices=30)"
   ]
  },
  {
   "cell_type": "markdown",
   "metadata": {},
   "source": [
    "The resulting `polygons` is a list with N elements (with N matching the number of contours). Each elements contains a string defining the location in the sky of the polygon with RA, Dec, seprated by commas and with the first RA, Dec pair that matches the last one (to close the polygon). For instance:"
   ]
  },
  {
   "cell_type": "code",
   "execution_count": 7,
   "metadata": {},
   "outputs": [
    {
     "data": {
      "text/plain": [
       "'167.8711, -2.5374, 166.9922, -2.0894, 166.1133, -1.3430, 165.9375, -0.5968, 165.7617, 0.1492, 165.5859, 0.8953, 165.4102, 1.6415, 165.2344, 2.3880, 165.7617, 3.1349, 166.2891, 3.8824, 166.4648, 4.6305, 166.6406, 5.3794, 167.5195, 5.8292, 168.3984, 5.6792, 169.2773, 4.9300, 169.4531, 4.1815, 169.6289, 3.4338, 169.8047, 2.6867, 169.6289, 1.9401, 169.4531, 1.1938, 169.2773, 0.4476, 169.1016, -0.2984, 168.9258, -1.0445, 168.7500, -1.7908, 167.8711, -2.5374'"
      ]
     },
     "execution_count": 7,
     "metadata": {},
     "output_type": "execute_result"
    }
   ],
   "source": [
    "polygons[1]"
   ]
  },
  {
   "cell_type": "markdown",
   "metadata": {},
   "source": [
    "### Archive Science Portal Query:\n",
    "After running:\n",
    "```python\n",
    "download_archive.query_ASP_from_polygons(polygons=polygons, open_link=True)\n",
    "```\n",
    "you should see different ASP pages opening in your broswer (one per polygon) pointing to the different regions of the sky you are quering."
   ]
  },
  {
   "cell_type": "code",
   "execution_count": 8,
   "metadata": {},
   "outputs": [],
   "source": [
    "download_archive.query_ASP_from_polygons(polygons=polygons, open_link=True)"
   ]
  },
  {
   "cell_type": "markdown",
   "metadata": {},
   "source": [
    "### Programmatic access:\n",
    "```python\n",
    "download_archive.query_TAP_from_polygons(polygons=polygons)\n",
    "```\n",
    "returns the result of the query:\n",
    "```SQL\n",
    "SELECT\n",
    "   target_name, dp_id, s_ra, s_dec, t_exptime, em_min, em_max, \n",
    "   dataproduct_type, instrument_name, abmaglim, proposal_id\n",
    "FROM\n",
    "   ivoa.ObsCore\n",
    "WHERE\n",
    "   intersects(s_region, POLYGON('', `polygon`)) = 1\n",
    "```\n",
    "for convenince `maxrec` is set to `2` so only the first two results are returned, but you may want to increase this value."
   ]
  },
  {
   "cell_type": "code",
   "execution_count": 9,
   "metadata": {},
   "outputs": [
    {
     "name": "stderr",
     "output_type": "stream",
     "text": [
      "\u001b[1;32m[INFO]    ::\u001b[0m Querying the ESO TAP service at:\n",
      "\u001b[1;32m[INFO]    ::\u001b[0m http://archive.eso.org/tap_obs\n",
      "\u001b[1;32m[INFO]    ::\u001b[0m A total of 2 entries has been retrieved for polygon N.0\n",
      "\u001b[1;32m[INFO]    ::\u001b[0m For the following instrument:\n",
      "\u001b[1;32m[INFO]    ::\u001b[0m  - FEROS\n",
      "\u001b[1;32m[INFO]    ::\u001b[0m  - HARPS\n",
      "\u001b[1;32m[INFO]    ::\u001b[0m A total of 2 entries has been retrieved for polygon N.1\n",
      "\u001b[1;32m[INFO]    ::\u001b[0m For the following instrument:\n",
      "\u001b[1;32m[INFO]    ::\u001b[0m  - UVES\n",
      "\u001b[1;32m[INFO]    ::\u001b[0m A total of 2 entries has been retrieved for polygon N.2\n",
      "\u001b[1;32m[INFO]    ::\u001b[0m For the following instrument:\n",
      "\u001b[1;32m[INFO]    ::\u001b[0m  - XSHOOTER\n"
     ]
    }
   ],
   "source": [
    "results_from_TAP = download_archive.query_TAP_from_polygons(polygons=polygons, \n",
    "                                                            merge=False, maxrec=2, \n",
    "                                                            verbose=False)"
   ]
  },
  {
   "cell_type": "markdown",
   "metadata": {},
   "source": [
    "now you can download the data by exploring the `dp_id` of the results: "
   ]
  },
  {
   "cell_type": "code",
   "execution_count": 10,
   "metadata": {},
   "outputs": [
    {
     "name": "stderr",
     "output_type": "stream",
     "text": [
      "\u001b[1;32m[INFO]    ::\u001b[0m Your disk has: Total: 397.03 GB, Used: 397.03 GB, Free: 397.03 GB\n",
      "\u001b[1;31m[WARNING] ::\u001b[0m The content of dp_id is not in a string format.\n",
      "\u001b[1;31m[WARNING] ::\u001b[0m The code is trying to fix this.\n",
      "\u001b[1;31m[WARNING] ::\u001b[0m Converted to <class 'str'>.\n",
      "\u001b[1;30m[WORKING] ::\u001b[0m Downloading file ADP.2016-09-19T01:03:10.998.fits. This may take some time.\n",
      "\u001b[1;32m[INFO]    ::\u001b[0m File ADP.2016-09-19T01:03:10.998.fits downloaded.\n",
      "\u001b[1;31m[WARNING] ::\u001b[0m The content of dp_id is not in a string format.\n",
      "\u001b[1;31m[WARNING] ::\u001b[0m The code is trying to fix this.\n",
      "\u001b[1;31m[WARNING] ::\u001b[0m Converted to <class 'str'>.\n",
      "\u001b[1;30m[WORKING] ::\u001b[0m Downloading file ADP.2016-09-19T11:46:29.074.fits. This may take some time.\n",
      "\u001b[1;32m[INFO]    ::\u001b[0m File ADP.2016-09-19T11:46:29.074.fits downloaded.\n"
     ]
    }
   ],
   "source": [
    "download_archive.download(results_from_TAP[0]['dp_id'])"
   ]
  },
  {
   "cell_type": "markdown",
   "metadata": {},
   "source": [
    "## All in one\n",
    "The same resuls are achievable with the (un-official) ESOAsg script:\n",
    "```python\n",
    "get_data_from_gw_event.py\n",
    "```"
   ]
  },
  {
   "cell_type": "code",
   "execution_count": null,
   "metadata": {},
   "outputs": [],
   "source": []
  }
 ],
 "metadata": {
  "kernelspec": {
   "display_name": "Python 3",
   "language": "python",
   "name": "python3"
  },
  "language_info": {
   "codemirror_mode": {
    "name": "ipython",
    "version": 3
   },
   "file_extension": ".py",
   "mimetype": "text/x-python",
   "name": "python",
   "nbconvert_exporter": "python",
   "pygments_lexer": "ipython3",
   "version": "3.7.6"
  }
 },
 "nbformat": 4,
 "nbformat_minor": 4
}
